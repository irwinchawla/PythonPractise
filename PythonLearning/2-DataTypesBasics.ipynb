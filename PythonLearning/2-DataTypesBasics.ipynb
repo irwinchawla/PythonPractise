{
 "cells": [
  {
   "cell_type": "markdown",
   "id": "4ec38b97",
   "metadata": {},
   "source": [
    "# Data Types"
   ]
  },
  {
   "cell_type": "markdown",
   "id": "d0002300",
   "metadata": {},
   "source": [
    "# Strings"
   ]
  },
  {
   "cell_type": "code",
   "execution_count": null,
   "id": "a7b9ec90",
   "metadata": {},
   "outputs": [
    {
     "name": "stdout",
     "output_type": "stream",
     "text": [
      "a\n",
      "7\n"
     ]
    }
   ],
   "source": [
    "myvar='Partner'\n",
    "print(myvar[1])\n",
    "print(len(myvar))"
   ]
  },
  {
   "cell_type": "code",
   "execution_count": 3,
   "id": "eb6d502d",
   "metadata": {},
   "outputs": [
    {
     "name": "stdout",
     "output_type": "stream",
     "text": [
      "P\n",
      "a\n",
      "r\n",
      "t\n",
      "n\n",
      "e\n",
      "r\n"
     ]
    }
   ],
   "source": [
    "for i in myvar:\n",
    "    print(i)"
   ]
  },
  {
   "cell_type": "code",
   "execution_count": 4,
   "id": "4c6243cc",
   "metadata": {},
   "outputs": [
    {
     "name": "stdout",
     "output_type": "stream",
     "text": [
      "Partner"
     ]
    }
   ],
   "source": [
    "for i in myvar:\n",
    "    print(i,end='')"
   ]
  },
  {
   "cell_type": "code",
   "execution_count": 11,
   "id": "b4933d77",
   "metadata": {},
   "outputs": [
    {
     "name": "stdout",
     "output_type": "stream",
     "text": [
      "True\n"
     ]
    }
   ],
   "source": [
    "txt = \"The best things in life are free!\"\n",
    "print(\"free\" in txt)"
   ]
  },
  {
   "cell_type": "code",
   "execution_count": 13,
   "id": "906a0338",
   "metadata": {},
   "outputs": [
    {
     "name": "stdout",
     "output_type": "stream",
     "text": [
      "!\n"
     ]
    }
   ],
   "source": [
    "print(txt[-1])"
   ]
  },
  {
   "cell_type": "code",
   "execution_count": 15,
   "id": "9adaabe5",
   "metadata": {},
   "outputs": [
    {
     "name": "stdout",
     "output_type": "stream",
     "text": [
      "!eerf era efil ni sgniht tseb ehT\n"
     ]
    }
   ],
   "source": [
    "print(txt[::-1])"
   ]
  },
  {
   "cell_type": "code",
   "execution_count": null,
   "id": "2edbd601",
   "metadata": {},
   "outputs": [
    {
     "name": "stdout",
     "output_type": "stream",
     "text": [
      "  teststrip   \n",
      "teststrip\n",
      "  teststrip   \n"
     ]
    }
   ],
   "source": [
    "a='  teststrip   '\n",
    "print(a)\n",
    "print(a.strip())\n",
    "print(a) ## Not in place as string are not immutable"
   ]
  },
  {
   "cell_type": "code",
   "execution_count": 20,
   "id": "786965c5",
   "metadata": {},
   "outputs": [
    {
     "name": "stdout",
     "output_type": "stream",
     "text": [
      "Trwin\n",
      "Irwin\n"
     ]
    }
   ],
   "source": [
    "a='Irwin'\n",
    "print(a.replace('I','T'))\n",
    "print(a)"
   ]
  },
  {
   "cell_type": "code",
   "execution_count": 22,
   "id": "19a979b8",
   "metadata": {},
   "outputs": [
    {
     "name": "stdout",
     "output_type": "stream",
     "text": [
      "The best things in life are free!\n",
      "['The', 'best', 'things', 'in', 'life', 'are', 'free!']\n"
     ]
    }
   ],
   "source": [
    "print(txt)\n",
    "print(txt.split())"
   ]
  },
  {
   "cell_type": "markdown",
   "id": "3719c7b4",
   "metadata": {},
   "source": [
    "# Booleans"
   ]
  },
  {
   "cell_type": "code",
   "execution_count": null,
   "id": "db994c02",
   "metadata": {},
   "outputs": [],
   "source": [
    "# True\n",
    "# False"
   ]
  },
  {
   "cell_type": "markdown",
   "id": "29045f5c",
   "metadata": {},
   "source": [
    "# Operators"
   ]
  },
  {
   "cell_type": "code",
   "execution_count": 24,
   "id": "cc06029a",
   "metadata": {},
   "outputs": [],
   "source": [
    "a=10\n",
    "b=30"
   ]
  },
  {
   "cell_type": "code",
   "execution_count": 27,
   "id": "cb94a03a",
   "metadata": {},
   "outputs": [
    {
     "name": "stdout",
     "output_type": "stream",
     "text": [
      "40\n",
      "20\n",
      "300\n",
      "3.0\n"
     ]
    }
   ],
   "source": [
    "print(a+b)\n",
    "print(b-a)\n",
    "print(a*b)\n",
    "print(b/a)\n"
   ]
  },
  {
   "cell_type": "code",
   "execution_count": 30,
   "id": "4a130769",
   "metadata": {},
   "outputs": [
    {
     "name": "stdout",
     "output_type": "stream",
     "text": [
      "40\n",
      "43\n",
      "42\n"
     ]
    }
   ],
   "source": [
    "c=a+b\n",
    "print(c)\n",
    "c+=3 #OE : Operator equals\n",
    "print(c)\n",
    "c-=1\n",
    "print(c)"
   ]
  },
  {
   "cell_type": "code",
   "execution_count": 31,
   "id": "afb488d7",
   "metadata": {},
   "outputs": [
    {
     "name": "stdout",
     "output_type": "stream",
     "text": [
      "True\n"
     ]
    }
   ],
   "source": [
    "print(a!=b)"
   ]
  },
  {
   "cell_type": "code",
   "execution_count": null,
   "id": "afaed520",
   "metadata": {},
   "outputs": [],
   "source": []
  }
 ],
 "metadata": {
  "kernelspec": {
   "display_name": "Python 3",
   "language": "python",
   "name": "python3"
  },
  "language_info": {
   "codemirror_mode": {
    "name": "ipython",
    "version": 3
   },
   "file_extension": ".py",
   "mimetype": "text/x-python",
   "name": "python",
   "nbconvert_exporter": "python",
   "pygments_lexer": "ipython3",
   "version": "3.12.0"
  }
 },
 "nbformat": 4,
 "nbformat_minor": 5
}
