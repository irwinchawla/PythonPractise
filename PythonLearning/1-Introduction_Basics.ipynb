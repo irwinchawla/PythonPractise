{
 "cells": [
  {
   "cell_type": "markdown",
   "id": "89ffb8ff",
   "metadata": {},
   "source": [
    "# Basics about usage and environment creation"
   ]
  },
  {
   "cell_type": "code",
   "execution_count": null,
   "id": "49f9fe9d",
   "metadata": {},
   "outputs": [],
   "source": [
    "# To Create environment we need to use this command in terminal\n",
    "# conda create -p venv python==3.12\n",
    "# here venv refers to name of the created environment & Python==3.12 is the python version\n",
    "\n"
   ]
  },
  {
   "cell_type": "code",
   "execution_count": null,
   "id": "651e2edd",
   "metadata": {},
   "outputs": [],
   "source": [
    "# To get list of environment\n",
    "# conda env list"
   ]
  },
  {
   "cell_type": "code",
   "execution_count": null,
   "id": "d6577bb5",
   "metadata": {},
   "outputs": [],
   "source": [
    "# After creating enviroment, we need to activate environment and then we can install libraries in that env\n",
    "# conda activate venv/\n",
    "# After this we can install packages like pip install pandas\n",
    "# In venv, we install only packages, rest of the files and folders are created in the main folder."
   ]
  },
  {
   "cell_type": "markdown",
   "id": "78578c40",
   "metadata": {},
   "source": [
    "# Variables and Type Conversions"
   ]
  },
  {
   "cell_type": "code",
   "execution_count": 6,
   "id": "e6f39dd5",
   "metadata": {},
   "outputs": [
    {
     "name": "stdout",
     "output_type": "stream",
     "text": [
      "a b\n"
     ]
    }
   ],
   "source": [
    "myvar='a'\n",
    "myvar2='b'\n",
    "print(myvar,myvar2)"
   ]
  },
  {
   "cell_type": "code",
   "execution_count": 7,
   "id": "5c0ce559",
   "metadata": {},
   "outputs": [
    {
     "name": "stdout",
     "output_type": "stream",
     "text": [
      "1 2 3\n"
     ]
    }
   ],
   "source": [
    "# Assigning multiple variables\n",
    "x,y,z=1,2,3\n",
    "print(x,y,z)"
   ]
  },
  {
   "cell_type": "code",
   "execution_count": 8,
   "id": "e3b603ab",
   "metadata": {},
   "outputs": [
    {
     "name": "stdout",
     "output_type": "stream",
     "text": [
      "Fruits Fruits Fruits\n"
     ]
    }
   ],
   "source": [
    "# One Value to multiple variables\n",
    "x=y=z='Fruits'\n",
    "print(x,y,z)"
   ]
  },
  {
   "cell_type": "code",
   "execution_count": 9,
   "id": "95206028",
   "metadata": {},
   "outputs": [
    {
     "data": {
      "text/plain": [
       "str"
      ]
     },
     "execution_count": 9,
     "metadata": {},
     "output_type": "execute_result"
    }
   ],
   "source": [
    "type(x)"
   ]
  },
  {
   "cell_type": "code",
   "execution_count": 11,
   "id": "0bcdace1",
   "metadata": {},
   "outputs": [
    {
     "name": "stdout",
     "output_type": "stream",
     "text": [
      "10 <class 'int'>\n",
      "10.0 <class 'float'>\n"
     ]
    }
   ],
   "source": [
    "varint=10\n",
    "print(varint,type(varint))\n",
    "print(float(varint),type(float(varint)))"
   ]
  },
  {
   "cell_type": "code",
   "execution_count": null,
   "id": "7cf2ef3d",
   "metadata": {},
   "outputs": [],
   "source": []
  }
 ],
 "metadata": {
  "kernelspec": {
   "display_name": "Python 3",
   "language": "python",
   "name": "python3"
  },
  "language_info": {
   "codemirror_mode": {
    "name": "ipython",
    "version": 3
   },
   "file_extension": ".py",
   "mimetype": "text/x-python",
   "name": "python",
   "nbconvert_exporter": "python",
   "pygments_lexer": "ipython3",
   "version": "3.12.0"
  }
 },
 "nbformat": 4,
 "nbformat_minor": 5
}
