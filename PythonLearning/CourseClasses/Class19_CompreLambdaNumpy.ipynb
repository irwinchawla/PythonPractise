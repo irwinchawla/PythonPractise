{
 "cells": [
  {
   "cell_type": "markdown",
   "id": "d4fb2adb",
   "metadata": {},
   "source": [
    "### Built in Functions"
   ]
  },
  {
   "cell_type": "markdown",
   "id": "1fe9a9ff",
   "metadata": {},
   "source": [
    "### Lambda function"
   ]
  },
  {
   "cell_type": "markdown",
   "id": "ac121423",
   "metadata": {},
   "source": [
    "#### One line function\n",
    "#### Syntax\n",
    "#### lambda arguments:expression"
   ]
  },
  {
   "cell_type": "code",
   "execution_count": 1,
   "id": "6a45d644",
   "metadata": {},
   "outputs": [
    {
     "data": {
      "text/plain": [
       "<function __main__.<lambda>(x)>"
      ]
     },
     "execution_count": 1,
     "metadata": {},
     "output_type": "execute_result"
    }
   ],
   "source": [
    "lambda x:x**2"
   ]
  },
  {
   "cell_type": "code",
   "execution_count": 2,
   "id": "5e4bc0a1",
   "metadata": {},
   "outputs": [],
   "source": [
    "squarelambda=lambda x:x**2"
   ]
  },
  {
   "cell_type": "code",
   "execution_count": 3,
   "id": "fb3948ae",
   "metadata": {},
   "outputs": [
    {
     "data": {
      "text/plain": [
       "4"
      ]
     },
     "execution_count": 3,
     "metadata": {},
     "output_type": "execute_result"
    }
   ],
   "source": [
    "squarelambda(2)"
   ]
  },
  {
   "cell_type": "code",
   "execution_count": 4,
   "id": "ffed00a9",
   "metadata": {},
   "outputs": [
    {
     "data": {
      "text/plain": [
       "81"
      ]
     },
     "execution_count": 4,
     "metadata": {},
     "output_type": "execute_result"
    }
   ],
   "source": [
    "squarelambda(9)"
   ]
  },
  {
   "cell_type": "code",
   "execution_count": 5,
   "id": "c20791f4",
   "metadata": {},
   "outputs": [],
   "source": [
    "sumvalues=lambda x,y,z : print(x+y+z)"
   ]
  },
  {
   "cell_type": "code",
   "execution_count": 6,
   "id": "0c678339",
   "metadata": {},
   "outputs": [
    {
     "name": "stdout",
     "output_type": "stream",
     "text": [
      "13\n"
     ]
    }
   ],
   "source": [
    "sumvalues(1,5,7)"
   ]
  },
  {
   "cell_type": "markdown",
   "id": "389a66af",
   "metadata": {},
   "source": [
    "### Sort & Sorted"
   ]
  },
  {
   "cell_type": "code",
   "execution_count": 7,
   "id": "3fe7eb0f",
   "metadata": {},
   "outputs": [],
   "source": [
    "mylist=[1,3,52,22,42,2]"
   ]
  },
  {
   "cell_type": "code",
   "execution_count": null,
   "id": "53aa4804",
   "metadata": {},
   "outputs": [
    {
     "name": "stdout",
     "output_type": "stream",
     "text": [
      "[1, 2, 3, 22, 42, 52]\n"
     ]
    }
   ],
   "source": [
    "mylist.sort() #inplace\n",
    "print(mylist)"
   ]
  },
  {
   "cell_type": "code",
   "execution_count": 9,
   "id": "f26363ec",
   "metadata": {},
   "outputs": [
    {
     "name": "stdout",
     "output_type": "stream",
     "text": [
      "[1, 2, 3, 22, 42, 52]\n"
     ]
    }
   ],
   "source": [
    "mylist=[1,3,52,22,42,2]\n",
    "mySortedlist=sorted(mylist)\n",
    "print(mySortedlist)"
   ]
  },
  {
   "cell_type": "code",
   "execution_count": 10,
   "id": "58f744cb",
   "metadata": {},
   "outputs": [
    {
     "name": "stdout",
     "output_type": "stream",
     "text": [
      "[52, 42, 22, 3, 2, 1]\n"
     ]
    }
   ],
   "source": [
    "mylist=[1,3,52,22,42,2]\n",
    "mylist.sort(reverse='True')\n",
    "print(mylist)"
   ]
  },
  {
   "cell_type": "code",
   "execution_count": 11,
   "id": "05e6c998",
   "metadata": {},
   "outputs": [
    {
     "name": "stdout",
     "output_type": "stream",
     "text": [
      "[52, 42, 22, 3, 2, 1]\n"
     ]
    }
   ],
   "source": [
    "mylist=[1,3,52,22,42,2]\n",
    "mySortedlist=sorted(mylist,reverse='False')\n",
    "print(mySortedlist)"
   ]
  },
  {
   "cell_type": "code",
   "execution_count": null,
   "id": "a235a5a5",
   "metadata": {},
   "outputs": [
    {
     "ename": "TypeError",
     "evalue": "object of type 'int' has no len()",
     "output_type": "error",
     "traceback": [
      "\u001b[31m---------------------------------------------------------------------------\u001b[39m",
      "\u001b[31mTypeError\u001b[39m                                 Traceback (most recent call last)",
      "\u001b[36mCell\u001b[39m\u001b[36m \u001b[39m\u001b[32mIn[12]\u001b[39m\u001b[32m, line 2\u001b[39m\n\u001b[32m      1\u001b[39m mylist=[\u001b[32m1\u001b[39m,\u001b[32m3\u001b[39m,\u001b[32m52\u001b[39m,\u001b[32m22\u001b[39m,\u001b[32m42\u001b[39m,\u001b[32m2\u001b[39m]\n\u001b[32m----> \u001b[39m\u001b[32m2\u001b[39m \u001b[43mmylist\u001b[49m\u001b[43m.\u001b[49m\u001b[43msort\u001b[49m\u001b[43m(\u001b[49m\u001b[43mkey\u001b[49m\u001b[43m=\u001b[49m\u001b[38;5;28;43mlen\u001b[39;49m\u001b[43m)\u001b[49m\n\u001b[32m      3\u001b[39m \u001b[38;5;28mprint\u001b[39m(mylist)\n",
      "\u001b[31mTypeError\u001b[39m: object of type 'int' has no len()"
     ]
    }
   ],
   "source": [
    "mylist=[1,3,52,22,42,2]\n",
    "mylist.sort(key=len) #this works on text only\n",
    "print(mylist) "
   ]
  },
  {
   "cell_type": "code",
   "execution_count": null,
   "id": "20ce4c02",
   "metadata": {},
   "outputs": [
    {
     "name": "stdout",
     "output_type": "stream",
     "text": [
      "['kiwi', 'apple', 'banana']\n"
     ]
    }
   ],
   "source": [
    "mylist=['banana','kiwi','apple']\n",
    "mylist.sort(key=len) #this works on text only,sorts on the len of each element\n",
    "print(mylist) "
   ]
  },
  {
   "cell_type": "code",
   "execution_count": 15,
   "id": "a6fdf1bc",
   "metadata": {},
   "outputs": [
    {
     "name": "stdout",
     "output_type": "stream",
     "text": [
      "['banana', 'apple', 'kiwi']\n"
     ]
    }
   ],
   "source": [
    "# if we want  to sort on last alphabet of each work\n",
    "\n",
    "mylist=['banana','kiwi','apple']\n",
    "mylist.sort(key=lambda x : x[-1]) #this works on text only,sorts on the len of each element\n",
    "print(mylist) \n"
   ]
  },
  {
   "cell_type": "code",
   "execution_count": 16,
   "id": "e64f224d",
   "metadata": {},
   "outputs": [
    {
     "name": "stdout",
     "output_type": "stream",
     "text": [
      "['apple', 'banana', 'kiwi']\n"
     ]
    }
   ],
   "source": [
    "# if we want  to sort on first alphabet of each work\n",
    "\n",
    "mylist=['banana','kiwi','apple']\n",
    "mylist.sort(key=lambda x : x[0]) #this works on text only,sorts on the len of each element\n",
    "print(mylist) "
   ]
  },
  {
   "cell_type": "markdown",
   "id": "4505ccfa",
   "metadata": {},
   "source": [
    "### Map()"
   ]
  },
  {
   "cell_type": "markdown",
   "id": "8d3de7bb",
   "metadata": {},
   "source": [
    "# map syntax\n",
    "\n",
    "# map(function , iterable)"
   ]
  },
  {
   "cell_type": "markdown",
   "id": "d47d15f3",
   "metadata": {},
   "source": [
    "###### map will apply function to all items in iterable"
   ]
  },
  {
   "cell_type": "code",
   "execution_count": null,
   "id": "8f272507",
   "metadata": {},
   "outputs": [
    {
     "name": "stdout",
     "output_type": "stream",
     "text": [
      "<map object at 0x000001F8C72C6110>\n"
     ]
    }
   ],
   "source": [
    "a=map(lambda x:x**3 , range(1,11))\n",
    "print(a)\n",
    "\n",
    "#map() returns a map object, which is an iterator and not directly readable."
   ]
  },
  {
   "cell_type": "code",
   "execution_count": 20,
   "id": "b5bbccf9",
   "metadata": {},
   "outputs": [
    {
     "name": "stdout",
     "output_type": "stream",
     "text": [
      "[1, 8, 27, 64, 125, 216, 343, 512, 729, 1000]\n"
     ]
    }
   ],
   "source": [
    "a=map(lambda x:x**3 , range(1,11))\n",
    "print(list(a))\n",
    "# Wrapping it in list() materializes the results."
   ]
  },
  {
   "cell_type": "markdown",
   "id": "c08eb644",
   "metadata": {},
   "source": [
    "#### ZIP"
   ]
  },
  {
   "cell_type": "markdown",
   "id": "18e8308c",
   "metadata": {},
   "source": [
    "The zip() function is used to combine multiple iterables (like lists or tuples) element-wise into pairs or groups."
   ]
  },
  {
   "cell_type": "code",
   "execution_count": 22,
   "id": "d59b9e49",
   "metadata": {},
   "outputs": [
    {
     "name": "stdout",
     "output_type": "stream",
     "text": [
      "[('Alice', 85), ('Bob', 90), ('Charlie', 95)]\n"
     ]
    }
   ],
   "source": [
    "names = ['Alice', 'Bob', 'Charlie']\n",
    "scores = [85, 90, 95]\n",
    "\n",
    "zipped = zip(names, scores)\n",
    "print(list(zipped))\n",
    "# It returns an iterator of tuples, where each tuple contains elements from the corresponding position of the input iterables."
   ]
  },
  {
   "cell_type": "markdown",
   "id": "5a5a4a1a",
   "metadata": {},
   "source": [
    "### List comprehensions"
   ]
  },
  {
   "cell_type": "code",
   "execution_count": 23,
   "id": "ccab2ea1",
   "metadata": {},
   "outputs": [],
   "source": [
    "# Short way to generate new list or filter list"
   ]
  },
  {
   "cell_type": "code",
   "execution_count": null,
   "id": "d325532c",
   "metadata": {},
   "outputs": [],
   "source": [
    "# syntax\n",
    "# [expression  for item in iterable if condition]"
   ]
  },
  {
   "cell_type": "code",
   "execution_count": 25,
   "id": "ecd2d273",
   "metadata": {},
   "outputs": [],
   "source": [
    "mylist=[i for i in range(1,11) if i%2==0]"
   ]
  },
  {
   "cell_type": "code",
   "execution_count": 26,
   "id": "79e5d0d9",
   "metadata": {},
   "outputs": [
    {
     "data": {
      "text/plain": [
       "[2, 4, 6, 8, 10]"
      ]
     },
     "execution_count": 26,
     "metadata": {},
     "output_type": "execute_result"
    }
   ],
   "source": [
    "mylist"
   ]
  },
  {
   "cell_type": "code",
   "execution_count": 27,
   "id": "bcd7c21e",
   "metadata": {},
   "outputs": [
    {
     "data": {
      "text/plain": [
       "[2, 4, 6, 8, 10]"
      ]
     },
     "execution_count": 27,
     "metadata": {},
     "output_type": "execute_result"
    }
   ],
   "source": [
    "[i for i in range(1,11) if i%2==0]"
   ]
  },
  {
   "cell_type": "markdown",
   "id": "2bec3b60",
   "metadata": {},
   "source": [
    "### Dict Comprehensions"
   ]
  },
  {
   "cell_type": "markdown",
   "id": "ce4ac3e5",
   "metadata": {},
   "source": [
    "A dictionary comprehension is a concise way to create dictionaries using a single line of code — similar to list comprehensions, but for key-value pairs."
   ]
  },
  {
   "cell_type": "code",
   "execution_count": 28,
   "id": "e946b9ba",
   "metadata": {},
   "outputs": [],
   "source": [
    "# {key_expression: value_expression for item in iterable}"
   ]
  },
  {
   "cell_type": "code",
   "execution_count": 29,
   "id": "2f87f6f9",
   "metadata": {},
   "outputs": [
    {
     "name": "stdout",
     "output_type": "stream",
     "text": [
      "{1: 1, 2: 4, 3: 9, 4: 16, 5: 25}\n"
     ]
    }
   ],
   "source": [
    "squares = {x: x**2 for x in range(1, 6)}\n",
    "print(squares)\n",
    "# Output: {1: 1, 2: 4, 3: 9, 4: 16, 5: 25}\n"
   ]
  },
  {
   "cell_type": "code",
   "execution_count": null,
   "id": "a43643a0",
   "metadata": {},
   "outputs": [
    {
     "name": "stdout",
     "output_type": "stream",
     "text": [
      "{'Alice': 101, 'Bob': 102, 'Charlie': 103}\n"
     ]
    },
    {
     "ename": "",
     "evalue": "",
     "output_type": "error",
     "traceback": [
      "\u001b[1;31mThe Kernel crashed while executing code in the current cell or a previous cell. \n",
      "\u001b[1;31mPlease review the code in the cell(s) to identify a possible cause of the failure. \n",
      "\u001b[1;31mClick <a href='https://aka.ms/vscodeJupyterKernelCrash'>here</a> for more info. \n",
      "\u001b[1;31mView Jupyter <a href='command:jupyter.viewOutput'>log</a> for further details."
     ]
    }
   ],
   "source": [
    "names = ['Alice', 'Bob', 'Charlie']\n",
    "ids = [101, 102, 103]\n",
    "name_id_map = {name: id for name, id in zip(names, ids)}\n",
    "print(name_id_map)\n",
    "# Output: {'Alice': 101, 'Bob': 102, 'Charlie': 103}\n"
   ]
  }
 ],
 "metadata": {
  "kernelspec": {
   "display_name": "Python 3",
   "language": "python",
   "name": "python3"
  },
  "language_info": {
   "codemirror_mode": {
    "name": "ipython",
    "version": 3
   },
   "file_extension": ".py",
   "mimetype": "text/x-python",
   "name": "python",
   "nbconvert_exporter": "python",
   "pygments_lexer": "ipython3",
   "version": "3.12.0"
  }
 },
 "nbformat": 4,
 "nbformat_minor": 5
}
