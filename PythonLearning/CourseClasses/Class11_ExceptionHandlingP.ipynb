{
 "cells": [
  {
   "cell_type": "markdown",
   "id": "7118a44b",
   "metadata": {},
   "source": [
    "### Try Except exception"
   ]
  },
  {
   "cell_type": "code",
   "execution_count": null,
   "id": "1cb6677a",
   "metadata": {},
   "outputs": [],
   "source": []
  },
  {
   "cell_type": "code",
   "execution_count": 5,
   "id": "6f1b16d5",
   "metadata": {},
   "outputs": [
    {
     "name": "stdout",
     "output_type": "stream",
     "text": [
      "error\n"
     ]
    }
   ],
   "source": [
    "try:\n",
    "    a=5\n",
    "    b=0\n",
    "    c=a/b\n",
    "    print(c)\n",
    "except :\n",
    "    print('error')"
   ]
  },
  {
   "cell_type": "code",
   "execution_count": null,
   "id": "8c2fc5cc",
   "metadata": {},
   "outputs": [
    {
     "name": "stdout",
     "output_type": "stream",
     "text": [
      "1\n",
      "2\n",
      "3\n",
      "4\n",
      "Error at except block\n"
     ]
    }
   ],
   "source": [
    "try:\n",
    "    for i in range(1,6):\n",
    "        a=input('Enter numbers:')\n",
    "        a=int(a)\n",
    "        print(a)\n",
    "except:\n",
    "    print('Error at except block')\n"
   ]
  },
  {
   "cell_type": "code",
   "execution_count": null,
   "id": "8a7a8f01",
   "metadata": {},
   "outputs": [
    {
     "ename": "TypeError",
     "evalue": "unsupported operand type(s) for /: 'str' and 'int'",
     "output_type": "error",
     "traceback": [
      "\u001b[31m---------------------------------------------------------------------------\u001b[39m",
      "\u001b[31mTypeError\u001b[39m                                 Traceback (most recent call last)",
      "\u001b[36mCell\u001b[39m\u001b[36m \u001b[39m\u001b[32mIn[10]\u001b[39m\u001b[32m, line 4\u001b[39m\n\u001b[32m      2\u001b[39m     \u001b[38;5;28;01mfor\u001b[39;00m i \u001b[38;5;129;01min\u001b[39;00m \u001b[38;5;28mrange\u001b[39m(\u001b[32m1\u001b[39m,\u001b[32m6\u001b[39m):\n\u001b[32m      3\u001b[39m         a=\u001b[38;5;28minput\u001b[39m(\u001b[33m'\u001b[39m\u001b[33mEnter numbers:\u001b[39m\u001b[33m'\u001b[39m)\n\u001b[32m----> \u001b[39m\u001b[32m4\u001b[39m         a=\u001b[43ma\u001b[49m\u001b[43m/\u001b[49m\u001b[32;43m0\u001b[39;49m\n\u001b[32m      5\u001b[39m         \u001b[38;5;28mprint\u001b[39m(a)\n\u001b[32m      6\u001b[39m \u001b[38;5;28;01mexcept\u001b[39;00m \u001b[38;5;167;01mValueError\u001b[39;00m: \u001b[38;5;66;03m#catches only value error\u001b[39;00m\n",
      "\u001b[31mTypeError\u001b[39m: unsupported operand type(s) for /: 'str' and 'int'"
     ]
    }
   ],
   "source": [
    "try:\n",
    "    for i in range(1,6):\n",
    "        a=input('Enter numbers:')\n",
    "        a=a/0\n",
    "        print(a)\n",
    "except ValueError: #catches ONLY value error\n",
    "    print('Error at except block')"
   ]
  },
  {
   "cell_type": "code",
   "execution_count": null,
   "id": "0e1ed237",
   "metadata": {},
   "outputs": [
    {
     "name": "stdout",
     "output_type": "stream",
     "text": [
      "Error at except block\n"
     ]
    }
   ],
   "source": [
    "try:\n",
    "    for i in range(1,6):\n",
    "        a=input('Enter numbers:')\n",
    "        a=a/0\n",
    "        print(a)\n",
    "except (ValueError,TypeError): #catches ONLY value error, TypeError\n",
    "    print('Error at except block')\n"
   ]
  },
  {
   "cell_type": "code",
   "execution_count": 13,
   "id": "d00cd816",
   "metadata": {},
   "outputs": [
    {
     "name": "stdout",
     "output_type": "stream",
     "text": [
      "Error at except block\n",
      "executed even after exception\n"
     ]
    }
   ],
   "source": [
    "try:\n",
    "    for i in range(1,6):\n",
    "        a=input('Enter numbers:')\n",
    "        a=a/0\n",
    "        print(a)\n",
    "except (ValueError,TypeError): #catches ONLY value error, TypeError\n",
    "    print('Error at except block')\n",
    "print('executed even after exception')"
   ]
  },
  {
   "cell_type": "code",
   "execution_count": 14,
   "id": "445c8fe8",
   "metadata": {},
   "outputs": [
    {
     "name": "stdout",
     "output_type": "stream",
     "text": [
      "Error at except block unsupported operand type(s) for /: 'str' and 'int'\n",
      "executed even after exception\n"
     ]
    }
   ],
   "source": [
    "try:\n",
    "    for i in range(1,6):\n",
    "        a=input('Enter numbers:')\n",
    "        a=a/0\n",
    "        print(a)\n",
    "except Exception as e: #catches ONLY value error, TypeError\n",
    "    print('Error at except block',e)\n",
    "print('executed even after exception')"
   ]
  },
  {
   "cell_type": "code",
   "execution_count": 15,
   "id": "cb7fb061",
   "metadata": {},
   "outputs": [
    {
     "name": "stdout",
     "output_type": "stream",
     "text": [
      "Error at except block unsupported operand type(s) for /: 'str' and 'int'\n",
      "executed even after exception\n"
     ]
    }
   ],
   "source": [
    "try:\n",
    "    for i in range(1,6):\n",
    "        a=input('Enter numbers:')\n",
    "        a=a/0\n",
    "        print(a)\n",
    "except Exception as e: #catches ONLY value error, TypeError\n",
    "    print('Error at except block',e)\n",
    "finally:\n",
    "    print('executed even after exception')"
   ]
  },
  {
   "cell_type": "code",
   "execution_count": 17,
   "id": "b38ee3a3",
   "metadata": {},
   "outputs": [
    {
     "name": "stdout",
     "output_type": "stream",
     "text": [
      "1\n",
      "2\n",
      "\n",
      "3\n",
      "4\n",
      "else : try succeded successfully\n",
      "Finally runs always\n"
     ]
    }
   ],
   "source": [
    "try:\n",
    "    for i in range(1,6):\n",
    "        a=input('Enter numbers:')\n",
    "        print(a)\n",
    "except Exception as e: #catches ONLY value error, TypeError\n",
    "    print('Error at except block',e)\n",
    "else:\n",
    "    print('else : try succeded successfully' )\n",
    "finally:\n",
    "    print('Finally runs always')"
   ]
  },
  {
   "cell_type": "code",
   "execution_count": null,
   "id": "f6e9ecbb",
   "metadata": {},
   "outputs": [],
   "source": [
    "def funcage(page):\n",
    "    age=int(page)\n",
    "    if age<=0 or age>100:\n",
    "        raise ValueError(\"Age is not in range\")\n",
    "    else:\n",
    "        print(\"Age is :\",age)\n"
   ]
  },
  {
   "cell_type": "code",
   "execution_count": null,
   "id": "138357cc",
   "metadata": {},
   "outputs": [
    {
     "ename": "ValueError",
     "evalue": "Age is not in range",
     "output_type": "error",
     "traceback": [
      "\u001b[31m---------------------------------------------------------------------------\u001b[39m",
      "\u001b[31mValueError\u001b[39m                                Traceback (most recent call last)",
      "\u001b[36mCell\u001b[39m\u001b[36m \u001b[39m\u001b[32mIn[19]\u001b[39m\u001b[32m, line 1\u001b[39m\n\u001b[32m----> \u001b[39m\u001b[32m1\u001b[39m \u001b[43mfuncage\u001b[49m\u001b[43m(\u001b[49m\u001b[32;43m102\u001b[39;49m\u001b[43m)\u001b[49m\n",
      "\u001b[36mCell\u001b[39m\u001b[36m \u001b[39m\u001b[32mIn[18]\u001b[39m\u001b[32m, line 4\u001b[39m, in \u001b[36mfuncage\u001b[39m\u001b[34m(page)\u001b[39m\n\u001b[32m      2\u001b[39m age=page\n\u001b[32m      3\u001b[39m \u001b[38;5;28;01mif\u001b[39;00m age<=\u001b[32m0\u001b[39m \u001b[38;5;129;01mor\u001b[39;00m age>\u001b[32m100\u001b[39m:\n\u001b[32m----> \u001b[39m\u001b[32m4\u001b[39m     \u001b[38;5;28;01mraise\u001b[39;00m \u001b[38;5;167;01mValueError\u001b[39;00m(\u001b[33m\"\u001b[39m\u001b[33mAge is not in range\u001b[39m\u001b[33m\"\u001b[39m)\n\u001b[32m      5\u001b[39m \u001b[38;5;28;01melse\u001b[39;00m:\n\u001b[32m      6\u001b[39m     \u001b[38;5;28mprint\u001b[39m(\u001b[33m\"\u001b[39m\u001b[33mAge is :\u001b[39m\u001b[33m\"\u001b[39m,age)\n",
      "\u001b[31mValueError\u001b[39m: Age is not in range"
     ]
    },
    {
     "ename": "",
     "evalue": "",
     "output_type": "error",
     "traceback": [
      "\u001b[1;31mThe Kernel crashed while executing code in the current cell or a previous cell. \n",
      "\u001b[1;31mPlease review the code in the cell(s) to identify a possible cause of the failure. \n",
      "\u001b[1;31mClick <a href='https://aka.ms/vscodeJupyterKernelCrash'>here</a> for more info. \n",
      "\u001b[1;31mView Jupyter <a href='command:jupyter.viewOutput'>log</a> for further details."
     ]
    }
   ],
   "source": [
    "funcage(102)"
   ]
  },
  {
   "cell_type": "code",
   "execution_count": null,
   "id": "f4c5ae2c",
   "metadata": {},
   "outputs": [],
   "source": []
  }
 ],
 "metadata": {
  "kernelspec": {
   "display_name": "Python 3",
   "language": "python",
   "name": "python3"
  },
  "language_info": {
   "codemirror_mode": {
    "name": "ipython",
    "version": 3
   },
   "file_extension": ".py",
   "mimetype": "text/x-python",
   "name": "python",
   "nbconvert_exporter": "python",
   "pygments_lexer": "ipython3",
   "version": "3.12.0"
  }
 },
 "nbformat": 4,
 "nbformat_minor": 5
}
