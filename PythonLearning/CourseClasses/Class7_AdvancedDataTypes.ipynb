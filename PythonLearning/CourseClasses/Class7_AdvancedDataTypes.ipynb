{
 "cells": [
  {
   "cell_type": "markdown",
   "id": "a9aef8f2",
   "metadata": {},
   "source": [
    "# Data Types\n",
    "### Import ast for identifying original datatype"
   ]
  },
  {
   "cell_type": "markdown",
   "id": "70e5dcce",
   "metadata": {},
   "source": [
    "import ast\n",
    "inputlist=ast.literal_eval(inputlist)"
   ]
  },
  {
   "cell_type": "code",
   "execution_count": 4,
   "id": "3663c5ba",
   "metadata": {},
   "outputs": [],
   "source": [
    "import ast"
   ]
  },
  {
   "cell_type": "code",
   "execution_count": 7,
   "id": "c42bc8e9",
   "metadata": {},
   "outputs": [
    {
     "name": "stdout",
     "output_type": "stream",
     "text": [
      "Before using ast :  [9,0,5,3]\n",
      "<class 'str'>\n",
      "After using ast :  [9, 0, 5, 3]\n",
      "<class 'list'>\n"
     ]
    }
   ],
   "source": [
    "inputlist=input(\"Enter List as input:\")\n",
    "\n",
    "print(\"Before using ast : \",inputlist)\n",
    "print(type(inputlist))\n",
    "inputlist=ast.literal_eval(inputlist)\n",
    "print(\"After using ast : \",inputlist)\n",
    "print(type(inputlist))"
   ]
  },
  {
   "cell_type": "code",
   "execution_count": 8,
   "id": "c5425129",
   "metadata": {},
   "outputs": [
    {
     "name": "stdout",
     "output_type": "stream",
     "text": [
      "<class 'str'>\n",
      "<class 'int'>\n"
     ]
    }
   ],
   "source": [
    "data=input(\"Enter your age :\")\n",
    "print(type(data))\n",
    "data=ast.literal_eval(data)\n",
    "print(type(data))"
   ]
  },
  {
   "cell_type": "markdown",
   "id": "502a824d",
   "metadata": {},
   "source": [
    "### Strings , Integer,Float, Tuples, Booleans are mutable"
   ]
  },
  {
   "cell_type": "code",
   "execution_count": null,
   "id": "32e26733",
   "metadata": {},
   "outputs": [
    {
     "name": "stdout",
     "output_type": "stream",
     "text": [
      "140731855751736\n",
      "0x7ffeb0454a38\n"
     ]
    }
   ],
   "source": [
    "#Its not the variable name that is assigned memory, its the value that is assigned memory and that\n",
    "# memory address is stored in variable name. As soon as value is changed in variable, address is updated\n",
    "a=5\n",
    "print(id(a))\n",
    "print(hex(id(a)))"
   ]
  },
  {
   "cell_type": "code",
   "execution_count": 10,
   "id": "71e061fb",
   "metadata": {},
   "outputs": [
    {
     "name": "stdout",
     "output_type": "stream",
     "text": [
      "140731855751768\n",
      "0x7ffeb0454a58\n"
     ]
    }
   ],
   "source": [
    "a=6\n",
    "print(id(a))\n",
    "print(hex(id(a)))"
   ]
  },
  {
   "cell_type": "markdown",
   "id": "62ab050e",
   "metadata": {},
   "source": [
    "### Lists , Dictonaries , sets are immutable. That is we can add values in the same address"
   ]
  },
  {
   "cell_type": "code",
   "execution_count": 11,
   "id": "a8cf6d16",
   "metadata": {},
   "outputs": [
    {
     "name": "stdout",
     "output_type": "stream",
     "text": [
      "[1, 2, 3]\n",
      "0x145b15c0f40\n",
      "[1, 2, 3, 4]\n",
      "0x145b15c0f40\n"
     ]
    }
   ],
   "source": [
    "mylist=[1,2,3]\n",
    "print(mylist)\n",
    "print(hex(id(mylist)))\n",
    "\n",
    "mylist.append(4)\n",
    "print(mylist)\n",
    "print(hex(id(mylist)))"
   ]
  },
  {
   "cell_type": "code",
   "execution_count": 13,
   "id": "b4c78527",
   "metadata": {},
   "outputs": [
    {
     "name": "stdout",
     "output_type": "stream",
     "text": [
      "<class 'tuple'>\n",
      "(1, 'irwin')\n",
      "0x145b1614440\n"
     ]
    }
   ],
   "source": [
    "mytuple=(1,'irwin')\n",
    "print(type(mytuple))\n",
    "print(mytuple)\n",
    "print(hex(id(mytuple)))"
   ]
  },
  {
   "cell_type": "code",
   "execution_count": 15,
   "id": "b9838f19",
   "metadata": {},
   "outputs": [
    {
     "name": "stdout",
     "output_type": "stream",
     "text": [
      "[1, 'irwin']\n",
      "0x145b16e6e00\n"
     ]
    }
   ],
   "source": [
    "mytuple=list(mytuple)\n",
    "print(mytuple)\n",
    "print(hex(id(mytuple)))"
   ]
  },
  {
   "cell_type": "code",
   "execution_count": 16,
   "id": "31922f2c",
   "metadata": {},
   "outputs": [
    {
     "name": "stdout",
     "output_type": "stream",
     "text": [
      "<class 'list'>\n"
     ]
    }
   ],
   "source": [
    "print(type(mytuple))"
   ]
  },
  {
   "cell_type": "code",
   "execution_count": 18,
   "id": "ae33523b",
   "metadata": {},
   "outputs": [
    {
     "name": "stdout",
     "output_type": "stream",
     "text": [
      "[1, 'irwin', 'Chawla']\n"
     ]
    }
   ],
   "source": [
    "mytuple.append('Chawla')\n",
    "print(mytuple)"
   ]
  },
  {
   "cell_type": "code",
   "execution_count": 19,
   "id": "260341d1",
   "metadata": {},
   "outputs": [
    {
     "name": "stdout",
     "output_type": "stream",
     "text": [
      "<class 'tuple'>\n",
      "(1, 'irwin', 'Chawla')\n"
     ]
    }
   ],
   "source": [
    "mytuple=tuple(mytuple)\n",
    "print(type(mytuple))\n",
    "print(mytuple)"
   ]
  },
  {
   "cell_type": "markdown",
   "id": "f4b82790",
   "metadata": {},
   "source": [
    "# To add any action of tuples, we need to convert them to list and then add / remove values and then convert back to tuples"
   ]
  },
  {
   "cell_type": "code",
   "execution_count": 20,
   "id": "3aed80db",
   "metadata": {},
   "outputs": [
    {
     "data": {
      "text/plain": [
       "1"
      ]
     },
     "execution_count": 20,
     "metadata": {},
     "output_type": "execute_result"
    }
   ],
   "source": [
    "mytuple[0]"
   ]
  },
  {
   "cell_type": "code",
   "execution_count": 21,
   "id": "f2b16980",
   "metadata": {},
   "outputs": [
    {
     "name": "stdout",
     "output_type": "stream",
     "text": [
      "(1,)\n"
     ]
    }
   ],
   "source": [
    "print(mytuple[0:1])"
   ]
  },
  {
   "cell_type": "code",
   "execution_count": null,
   "id": "a890c824",
   "metadata": {},
   "outputs": [
    {
     "name": "stdout",
     "output_type": "stream",
     "text": [
      "(1, 'irwin', 'Chawla')\n",
      "<class 'tuple'>\n"
     ]
    }
   ],
   "source": [
    "mytuple1=(1)\n",
    "print(mytuple1)\n",
    "print(type(mytuple1))\n"
   ]
  },
  {
   "cell_type": "markdown",
   "id": "f5bbe3d1",
   "metadata": {},
   "source": [
    "### Sets : Unordered (Cant be sliced), Mutable ,distinct ,{ } "
   ]
  },
  {
   "cell_type": "code",
   "execution_count": 23,
   "id": "cb6b534f",
   "metadata": {},
   "outputs": [
    {
     "name": "stdout",
     "output_type": "stream",
     "text": [
      "{1, 2, 3, 5, 6}\n"
     ]
    }
   ],
   "source": [
    "myset={6,6,6,5,5,3,2,1}\n",
    "print(myset)"
   ]
  },
  {
   "cell_type": "code",
   "execution_count": 24,
   "id": "a0a9be3f",
   "metadata": {},
   "outputs": [
    {
     "ename": "TypeError",
     "evalue": "'set' object is not subscriptable",
     "output_type": "error",
     "traceback": [
      "\u001b[31m---------------------------------------------------------------------------\u001b[39m",
      "\u001b[31mTypeError\u001b[39m                                 Traceback (most recent call last)",
      "\u001b[36mCell\u001b[39m\u001b[36m \u001b[39m\u001b[32mIn[24]\u001b[39m\u001b[32m, line 2\u001b[39m\n\u001b[32m      1\u001b[39m \u001b[38;5;66;03m# cant be sliced\u001b[39;00m\n\u001b[32m----> \u001b[39m\u001b[32m2\u001b[39m \u001b[38;5;28mprint\u001b[39m(\u001b[43mmyset\u001b[49m\u001b[43m[\u001b[49m\u001b[32;43m0\u001b[39;49m\u001b[43m]\u001b[49m)\n",
      "\u001b[31mTypeError\u001b[39m: 'set' object is not subscriptable"
     ]
    }
   ],
   "source": [
    "# cant be sliced\n",
    "print(myset[0])"
   ]
  },
  {
   "cell_type": "markdown",
   "id": "5542f9e2",
   "metadata": {},
   "source": []
  },
  {
   "cell_type": "code",
   "execution_count": 25,
   "id": "86b1b0c7",
   "metadata": {},
   "outputs": [
    {
     "name": "stdout",
     "output_type": "stream",
     "text": [
      "{1, 2, 3, 5, 6, 5000}\n"
     ]
    }
   ],
   "source": [
    "myset.add(5000)\n",
    "print(myset)"
   ]
  },
  {
   "cell_type": "code",
   "execution_count": 27,
   "id": "0b2347e7",
   "metadata": {},
   "outputs": [
    {
     "name": "stdout",
     "output_type": "stream",
     "text": [
      "{987}\n"
     ]
    }
   ],
   "source": [
    "myset2={987}\n",
    "print(myset2)"
   ]
  },
  {
   "cell_type": "code",
   "execution_count": 28,
   "id": "1183a017",
   "metadata": {},
   "outputs": [
    {
     "name": "stdout",
     "output_type": "stream",
     "text": [
      "{1, 2, 3, 5, 6, 5000, 987}\n"
     ]
    }
   ],
   "source": [
    "myset.update(myset2)\n",
    "print(myset)"
   ]
  },
  {
   "cell_type": "code",
   "execution_count": 29,
   "id": "73eaf05a",
   "metadata": {},
   "outputs": [
    {
     "data": {
      "text/plain": [
       "1"
      ]
     },
     "execution_count": 29,
     "metadata": {},
     "output_type": "execute_result"
    }
   ],
   "source": [
    "myset.pop()"
   ]
  },
  {
   "cell_type": "code",
   "execution_count": 30,
   "id": "4e182f54",
   "metadata": {},
   "outputs": [
    {
     "name": "stdout",
     "output_type": "stream",
     "text": [
      "{2, 3, 5, 6, 5000, 987}\n"
     ]
    }
   ],
   "source": [
    "print(myset)"
   ]
  },
  {
   "cell_type": "code",
   "execution_count": 31,
   "id": "197c3d1c",
   "metadata": {},
   "outputs": [
    {
     "name": "stdout",
     "output_type": "stream",
     "text": [
      "{2, 3, 5, 6, 987}\n"
     ]
    }
   ],
   "source": [
    "myset.remove(5000)\n",
    "print(myset)"
   ]
  },
  {
   "cell_type": "code",
   "execution_count": 32,
   "id": "81de8dc2",
   "metadata": {},
   "outputs": [
    {
     "ename": "AttributeError",
     "evalue": "'set' object has no attribute 'append'",
     "output_type": "error",
     "traceback": [
      "\u001b[31m---------------------------------------------------------------------------\u001b[39m",
      "\u001b[31mAttributeError\u001b[39m                            Traceback (most recent call last)",
      "\u001b[36mCell\u001b[39m\u001b[36m \u001b[39m\u001b[32mIn[32]\u001b[39m\u001b[32m, line 1\u001b[39m\n\u001b[32m----> \u001b[39m\u001b[32m1\u001b[39m \u001b[43mmyset\u001b[49m\u001b[43m.\u001b[49m\u001b[43mappend\u001b[49m(\u001b[32m786\u001b[39m)\n",
      "\u001b[31mAttributeError\u001b[39m: 'set' object has no attribute 'append'"
     ]
    }
   ],
   "source": [
    "myset.append(786)"
   ]
  },
  {
   "cell_type": "code",
   "execution_count": 33,
   "id": "7f3bbe05",
   "metadata": {},
   "outputs": [
    {
     "name": "stdout",
     "output_type": "stream",
     "text": [
      "{2, 3, 5, 6, 987}\n"
     ]
    }
   ],
   "source": [
    "print(myset)\n"
   ]
  },
  {
   "cell_type": "code",
   "execution_count": 34,
   "id": "8e63cd39",
   "metadata": {},
   "outputs": [
    {
     "name": "stdout",
     "output_type": "stream",
     "text": [
      "{2, 3, 5, 6}\n"
     ]
    }
   ],
   "source": [
    "myset.discard(987)\n",
    "print(myset)"
   ]
  },
  {
   "cell_type": "code",
   "execution_count": null,
   "id": "21ea133e",
   "metadata": {},
   "outputs": [],
   "source": [
    "myset.discard(786) # Removes if present"
   ]
  },
  {
   "cell_type": "code",
   "execution_count": null,
   "id": "a4e83653",
   "metadata": {},
   "outputs": [
    {
     "ename": "KeyError",
     "evalue": "786",
     "output_type": "error",
     "traceback": [
      "\u001b[31m---------------------------------------------------------------------------\u001b[39m",
      "\u001b[31mKeyError\u001b[39m                                  Traceback (most recent call last)",
      "\u001b[36mCell\u001b[39m\u001b[36m \u001b[39m\u001b[32mIn[36]\u001b[39m\u001b[32m, line 1\u001b[39m\n\u001b[32m----> \u001b[39m\u001b[32m1\u001b[39m \u001b[43mmyset\u001b[49m\u001b[43m.\u001b[49m\u001b[43mremove\u001b[49m\u001b[43m(\u001b[49m\u001b[32;43m786\u001b[39;49m\u001b[43m)\u001b[49m\n",
      "\u001b[31mKeyError\u001b[39m: 786"
     ]
    }
   ],
   "source": [
    "myset.remove(786) # throws error if value is not present"
   ]
  },
  {
   "cell_type": "markdown",
   "id": "087c9452",
   "metadata": {},
   "source": [
    "# Dictionaries : Ordered , Mutable , {} , Key value pair "
   ]
  },
  {
   "cell_type": "code",
   "execution_count": 1,
   "id": "9ffb0ca0",
   "metadata": {},
   "outputs": [
    {
     "name": "stdout",
     "output_type": "stream",
     "text": [
      "{}\n"
     ]
    }
   ],
   "source": [
    "mydict={}\n",
    "print(mydict)"
   ]
  },
  {
   "cell_type": "code",
   "execution_count": 2,
   "id": "aead6b5f",
   "metadata": {},
   "outputs": [
    {
     "name": "stdout",
     "output_type": "stream",
     "text": [
      "{}\n",
      "<class 'dict'>\n"
     ]
    }
   ],
   "source": [
    "mydict2={}\n",
    "print(mydict2)\n",
    "print(type(mydict2))"
   ]
  },
  {
   "cell_type": "code",
   "execution_count": 3,
   "id": "5929dc5e",
   "metadata": {},
   "outputs": [
    {
     "name": "stdout",
     "output_type": "stream",
     "text": [
      "<class 'dict'>\n"
     ]
    }
   ],
   "source": [
    "mydict3=dict()\n",
    "print(type(mydict3))"
   ]
  },
  {
   "cell_type": "code",
   "execution_count": 4,
   "id": "b3a14b3f",
   "metadata": {},
   "outputs": [
    {
     "name": "stdout",
     "output_type": "stream",
     "text": [
      "{0: '1'}\n"
     ]
    }
   ],
   "source": [
    "mydict[0]='1'\n",
    "print(mydict)"
   ]
  },
  {
   "cell_type": "code",
   "execution_count": 5,
   "id": "3f474296",
   "metadata": {},
   "outputs": [],
   "source": [
    "mydict.clear()"
   ]
  },
  {
   "cell_type": "code",
   "execution_count": 6,
   "id": "1e15284c",
   "metadata": {},
   "outputs": [
    {
     "name": "stdout",
     "output_type": "stream",
     "text": [
      "{}\n"
     ]
    }
   ],
   "source": [
    "print(mydict)"
   ]
  },
  {
   "cell_type": "code",
   "execution_count": 7,
   "id": "2164b773",
   "metadata": {},
   "outputs": [],
   "source": [
    "mydict[1]={}"
   ]
  },
  {
   "cell_type": "code",
   "execution_count": 8,
   "id": "3c07d6ad",
   "metadata": {},
   "outputs": [
    {
     "name": "stdout",
     "output_type": "stream",
     "text": [
      "{1: {}}\n"
     ]
    }
   ],
   "source": [
    "print(mydict)"
   ]
  },
  {
   "cell_type": "code",
   "execution_count": 9,
   "id": "ea019a8c",
   "metadata": {},
   "outputs": [
    {
     "name": "stdout",
     "output_type": "stream",
     "text": [
      "{1: {'fname': 'irwin', 'lname': 'Chawla'}}\n"
     ]
    }
   ],
   "source": [
    "fname=input('Enter your Fname: ')\n",
    "lname=input('Enter your Lname: ')\n",
    "mydict[1][\"fname\"]=fname\n",
    "mydict[1][\"lname\"]=lname\n",
    "print(mydict)"
   ]
  },
  {
   "cell_type": "code",
   "execution_count": 17,
   "id": "a8bcf4dc",
   "metadata": {},
   "outputs": [
    {
     "name": "stdout",
     "output_type": "stream",
     "text": [
      "{1: {'fname': 'irwin', 'lname': 'Chawla'}, 'fname': 'Tanya'}\n"
     ]
    }
   ],
   "source": [
    "mydict.update({\"fname\":'Tanya'})\n",
    "print(mydict)"
   ]
  },
  {
   "cell_type": "code",
   "execution_count": null,
   "id": "3c836e4c",
   "metadata": {},
   "outputs": [],
   "source": []
  }
 ],
 "metadata": {
  "kernelspec": {
   "display_name": "Python 3",
   "language": "python",
   "name": "python3"
  },
  "language_info": {
   "codemirror_mode": {
    "name": "ipython",
    "version": 3
   },
   "file_extension": ".py",
   "mimetype": "text/x-python",
   "name": "python",
   "nbconvert_exporter": "python",
   "pygments_lexer": "ipython3",
   "version": "3.12.0"
  }
 },
 "nbformat": 4,
 "nbformat_minor": 5
}
