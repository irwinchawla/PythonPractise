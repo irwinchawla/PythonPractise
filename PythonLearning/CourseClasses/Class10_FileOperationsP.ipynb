{
 "cells": [
  {
   "cell_type": "markdown",
   "id": "913ecb20",
   "metadata": {},
   "source": [
    "### File Operations"
   ]
  },
  {
   "cell_type": "code",
   "execution_count": 1,
   "id": "e952ab03",
   "metadata": {},
   "outputs": [],
   "source": [
    "import os"
   ]
  },
  {
   "cell_type": "code",
   "execution_count": 2,
   "id": "d3e77ee0",
   "metadata": {},
   "outputs": [
    {
     "data": {
      "text/plain": [
       "'c:\\\\Users\\\\Irwin\\\\PythonLearningDS\\\\PythonLearning\\\\CourseClasses'"
      ]
     },
     "execution_count": 2,
     "metadata": {},
     "output_type": "execute_result"
    }
   ],
   "source": [
    "os.getcwd()"
   ]
  },
  {
   "cell_type": "code",
   "execution_count": 3,
   "id": "ae58da56",
   "metadata": {},
   "outputs": [
    {
     "data": {
      "text/plain": [
       "['Class10_FileOperationsP.ipynb',\n",
       " 'Class6_AllAboutLists.ipynb',\n",
       " 'Class7_AdvancedDataTypes.ipynb',\n",
       " 'Class8_DictFunctions.ipynb',\n",
       " 'Class9_Loops&FunctionsP.ipynb',\n",
       " 'Class_4_BasicDataTypes.ipynb',\n",
       " 'Class_5_FlowsInput.ipynb',\n",
       " 'test.txt']"
      ]
     },
     "execution_count": 3,
     "metadata": {},
     "output_type": "execute_result"
    }
   ],
   "source": [
    "os.listdir()"
   ]
  },
  {
   "cell_type": "code",
   "execution_count": 4,
   "id": "6a76eb0d",
   "metadata": {},
   "outputs": [],
   "source": [
    "filename='test.txt'"
   ]
  },
  {
   "cell_type": "code",
   "execution_count": 5,
   "id": "e433f991",
   "metadata": {},
   "outputs": [
    {
     "name": "stdout",
     "output_type": "stream",
     "text": [
      "c:\\Users\\Irwin\\PythonLearningDS\\PythonLearning\\CourseClasses\\test.txt\n"
     ]
    }
   ],
   "source": [
    "filepath=os.path.join(os.getcwd(),filename)\n",
    "print(filepath)"
   ]
  },
  {
   "cell_type": "code",
   "execution_count": 14,
   "id": "c2eb5ecf",
   "metadata": {},
   "outputs": [],
   "source": [
    "# Open file:\n",
    "fileOpen=open('test.txt')"
   ]
  },
  {
   "cell_type": "code",
   "execution_count": 12,
   "id": "db1bd14e",
   "metadata": {},
   "outputs": [
    {
     "name": "stdout",
     "output_type": "stream",
     "text": [
      "Q : Hello, How are you?\n",
      "A: I am fine, how about you?\n",
      "\n"
     ]
    }
   ],
   "source": [
    "content=fileOpen.read() #Reads all the content of the file.\n",
    "print(content)"
   ]
  },
  {
   "cell_type": "code",
   "execution_count": 15,
   "id": "47d29bb0",
   "metadata": {},
   "outputs": [
    {
     "name": "stdout",
     "output_type": "stream",
     "text": [
      "['Q : Hello, How are you?\\n', 'A: I am fine, how about you?\\n']\n"
     ]
    }
   ],
   "source": [
    "content=fileOpen.readlines() #Reads all the content but line by line\n",
    "print(content)"
   ]
  },
  {
   "cell_type": "code",
   "execution_count": 17,
   "id": "a4b48675",
   "metadata": {},
   "outputs": [],
   "source": [
    "fileOpen.close()"
   ]
  },
  {
   "cell_type": "code",
   "execution_count": 18,
   "id": "d313dafb",
   "metadata": {},
   "outputs": [
    {
     "ename": "ValueError",
     "evalue": "I/O operation on closed file.",
     "output_type": "error",
     "traceback": [
      "\u001b[31m---------------------------------------------------------------------------\u001b[39m",
      "\u001b[31mValueError\u001b[39m                                Traceback (most recent call last)",
      "\u001b[36mCell\u001b[39m\u001b[36m \u001b[39m\u001b[32mIn[18]\u001b[39m\u001b[32m, line 1\u001b[39m\n\u001b[32m----> \u001b[39m\u001b[32m1\u001b[39m content=\u001b[43mfileOpen\u001b[49m\u001b[43m.\u001b[49m\u001b[43mreadlines\u001b[49m\u001b[43m(\u001b[49m\u001b[43m)\u001b[49m \u001b[38;5;66;03m#Reads all the content but line by line\u001b[39;00m\n\u001b[32m      2\u001b[39m \u001b[38;5;28mprint\u001b[39m(content)\n",
      "\u001b[31mValueError\u001b[39m: I/O operation on closed file."
     ]
    }
   ],
   "source": [
    "content=fileOpen.readlines() #Error as we have already closed the file.\n",
    "print(content)"
   ]
  },
  {
   "cell_type": "code",
   "execution_count": 19,
   "id": "3f637bfe",
   "metadata": {},
   "outputs": [
    {
     "name": "stdout",
     "output_type": "stream",
     "text": [
      "['Q : Hello, How are you?\\n', 'A: I am fine, how about you?\\n']\n"
     ]
    }
   ],
   "source": [
    "PathFile=os.path.join(os.getcwd(),'test.txt')\n",
    "fileOpen=open(PathFile)\n",
    "content=fileOpen.readlines()\n",
    "print(content)"
   ]
  },
  {
   "cell_type": "code",
   "execution_count": 20,
   "id": "dc00052f",
   "metadata": {},
   "outputs": [
    {
     "name": "stdout",
     "output_type": "stream",
     "text": [
      "Q : Hello, How are you?\n",
      "\n",
      "A: I am fine, how about you?\n",
      "\n"
     ]
    }
   ],
   "source": [
    "for i in content:\n",
    "    print(i)"
   ]
  },
  {
   "cell_type": "code",
   "execution_count": 21,
   "id": "85ce8bd0",
   "metadata": {},
   "outputs": [
    {
     "name": "stdout",
     "output_type": "stream",
     "text": [
      "Q : Hello, How are you?\n",
      "\n"
     ]
    }
   ],
   "source": [
    "for i in content:\n",
    "    if 'Hello' in i:\n",
    "        print(i)"
   ]
  },
  {
   "cell_type": "code",
   "execution_count": 23,
   "id": "ebf808bf",
   "metadata": {},
   "outputs": [],
   "source": [
    "fileOpen.close()"
   ]
  },
  {
   "cell_type": "code",
   "execution_count": 24,
   "id": "905d3a37",
   "metadata": {},
   "outputs": [
    {
     "name": "stdout",
     "output_type": "stream",
     "text": [
      "Q : Hello, How are you?\n",
      "\n"
     ]
    }
   ],
   "source": [
    "PathFile=os.path.join(os.getcwd(),'test.txt')\n",
    "fileOpen=open(PathFile)\n",
    "content=fileOpen.readline()\n",
    "print(content)"
   ]
  },
  {
   "cell_type": "code",
   "execution_count": 25,
   "id": "14f04d5b",
   "metadata": {},
   "outputs": [],
   "source": [
    "fileOpen.close()"
   ]
  },
  {
   "cell_type": "code",
   "execution_count": 29,
   "id": "e9e85876",
   "metadata": {},
   "outputs": [
    {
     "name": "stdout",
     "output_type": "stream",
     "text": [
      "Q : Hello, How are you?\n",
      "A: I am fine, how about you?\n",
      "\n"
     ]
    }
   ],
   "source": [
    "# using with and open we dont need to use close()\n",
    "with open(os.path.join(os.getcwd(),'test.txt')) as f:\n",
    "    content=f.read()\n",
    "    print(content)"
   ]
  },
  {
   "cell_type": "code",
   "execution_count": 31,
   "id": "552ab639",
   "metadata": {},
   "outputs": [
    {
     "name": "stdout",
     "output_type": "stream",
     "text": [
      "Q : Hello, How are you?\n",
      "A: I am fine, how about you?\n",
      "\n"
     ]
    }
   ],
   "source": [
    "# r = only reads file, if file doesnt exist then it will throw error\n",
    "with open(os.path.join(os.getcwd(),'test.txt'),'r') as f:\n",
    "    content=f.read()\n",
    "    print(content)"
   ]
  },
  {
   "cell_type": "code",
   "execution_count": 32,
   "id": "3e71f5ed",
   "metadata": {},
   "outputs": [
    {
     "ename": "FileNotFoundError",
     "evalue": "[Errno 2] No such file or directory: 'c:\\\\Users\\\\Irwin\\\\PythonLearningDS\\\\PythonLearning\\\\CourseClasses\\\\testnotexist.txt'",
     "output_type": "error",
     "traceback": [
      "\u001b[31m---------------------------------------------------------------------------\u001b[39m",
      "\u001b[31mFileNotFoundError\u001b[39m                         Traceback (most recent call last)",
      "\u001b[36mCell\u001b[39m\u001b[36m \u001b[39m\u001b[32mIn[32]\u001b[39m\u001b[32m, line 2\u001b[39m\n\u001b[32m      1\u001b[39m \u001b[38;5;66;03m# r = only reads file, if file doesnt exist then it will throw error\u001b[39;00m\n\u001b[32m----> \u001b[39m\u001b[32m2\u001b[39m \u001b[38;5;28;01mwith\u001b[39;00m \u001b[38;5;28;43mopen\u001b[39;49m\u001b[43m(\u001b[49m\u001b[43mos\u001b[49m\u001b[43m.\u001b[49m\u001b[43mpath\u001b[49m\u001b[43m.\u001b[49m\u001b[43mjoin\u001b[49m\u001b[43m(\u001b[49m\u001b[43mos\u001b[49m\u001b[43m.\u001b[49m\u001b[43mgetcwd\u001b[49m\u001b[43m(\u001b[49m\u001b[43m)\u001b[49m\u001b[43m,\u001b[49m\u001b[33;43m'\u001b[39;49m\u001b[33;43mtestnotexist.txt\u001b[39;49m\u001b[33;43m'\u001b[39;49m\u001b[43m)\u001b[49m\u001b[43m,\u001b[49m\u001b[33;43m'\u001b[39;49m\u001b[33;43mr\u001b[39;49m\u001b[33;43m'\u001b[39;49m\u001b[43m)\u001b[49m \u001b[38;5;28;01mas\u001b[39;00m f:\n\u001b[32m      3\u001b[39m     content=f.read()\n\u001b[32m      4\u001b[39m     \u001b[38;5;28mprint\u001b[39m(content)\n",
      "\u001b[36mFile \u001b[39m\u001b[32mc:\\Users\\Irwin\\PythonLearningDS\\venv\\Lib\\site-packages\\IPython\\core\\interactiveshell.py:326\u001b[39m, in \u001b[36m_modified_open\u001b[39m\u001b[34m(file, *args, **kwargs)\u001b[39m\n\u001b[32m    319\u001b[39m \u001b[38;5;28;01mif\u001b[39;00m file \u001b[38;5;129;01min\u001b[39;00m {\u001b[32m0\u001b[39m, \u001b[32m1\u001b[39m, \u001b[32m2\u001b[39m}:\n\u001b[32m    320\u001b[39m     \u001b[38;5;28;01mraise\u001b[39;00m \u001b[38;5;167;01mValueError\u001b[39;00m(\n\u001b[32m    321\u001b[39m         \u001b[33mf\u001b[39m\u001b[33m\"\u001b[39m\u001b[33mIPython won\u001b[39m\u001b[33m'\u001b[39m\u001b[33mt let you open fd=\u001b[39m\u001b[38;5;132;01m{\u001b[39;00mfile\u001b[38;5;132;01m}\u001b[39;00m\u001b[33m by default \u001b[39m\u001b[33m\"\u001b[39m\n\u001b[32m    322\u001b[39m         \u001b[33m\"\u001b[39m\u001b[33mas it is likely to crash IPython. If you know what you are doing, \u001b[39m\u001b[33m\"\u001b[39m\n\u001b[32m    323\u001b[39m         \u001b[33m\"\u001b[39m\u001b[33myou can use builtins\u001b[39m\u001b[33m'\u001b[39m\u001b[33m open.\u001b[39m\u001b[33m\"\u001b[39m\n\u001b[32m    324\u001b[39m     )\n\u001b[32m--> \u001b[39m\u001b[32m326\u001b[39m \u001b[38;5;28;01mreturn\u001b[39;00m \u001b[43mio_open\u001b[49m\u001b[43m(\u001b[49m\u001b[43mfile\u001b[49m\u001b[43m,\u001b[49m\u001b[43m \u001b[49m\u001b[43m*\u001b[49m\u001b[43margs\u001b[49m\u001b[43m,\u001b[49m\u001b[43m \u001b[49m\u001b[43m*\u001b[49m\u001b[43m*\u001b[49m\u001b[43mkwargs\u001b[49m\u001b[43m)\u001b[49m\n",
      "\u001b[31mFileNotFoundError\u001b[39m: [Errno 2] No such file or directory: 'c:\\\\Users\\\\Irwin\\\\PythonLearningDS\\\\PythonLearning\\\\CourseClasses\\\\testnotexist.txt'"
     ]
    }
   ],
   "source": [
    "# r = only reads file, if file doesnt exist then it will throw error\n",
    "with open(os.path.join(os.getcwd(),'testnotexist.txt'),'r') as f:\n",
    "    content=f.read()\n",
    "    print(content)"
   ]
  },
  {
   "cell_type": "code",
   "execution_count": 36,
   "id": "9407f301",
   "metadata": {},
   "outputs": [],
   "source": [
    "# w = Truncate & write into file, if file doesnt exist then it creates file\n",
    "with open('testwrite.txt','w') as f:\n",
    "    f.write('Testing write mode line1')\n",
    "    f.write('Testing write mode line2')# creates without \\n next line\n"
   ]
  },
  {
   "cell_type": "code",
   "execution_count": null,
   "id": "56277a7c",
   "metadata": {},
   "outputs": [],
   "source": [
    "# w = Truncate & write into file, if file doesnt exist then it creates file\n",
    "with open('testwrite2.txt','w') as f:\n",
    "    f.write('Testing write mode line1\\n')\n",
    "    f.write('Testing write mode line2\\n')# creates \\n next line\n"
   ]
  },
  {
   "cell_type": "code",
   "execution_count": 40,
   "id": "44d0262a",
   "metadata": {},
   "outputs": [],
   "source": [
    "# Writelines : like we get list as output for readlines. similarly we can pass list as input for writelines\n",
    "listinput=['L1: Hi, How are you?\\n','L2: I am good\\n','L3: Where are you from?\\n']\n",
    "with open('testwritelines.txt','w') as f:\n",
    "    f.writelines(listinput)"
   ]
  },
  {
   "cell_type": "code",
   "execution_count": 42,
   "id": "1232c232",
   "metadata": {},
   "outputs": [],
   "source": [
    "#append mode:\n",
    "with open('testappend.txt','a') as f:\n",
    "    f.write('Testing append mode line1\\n')\n",
    "    f.write('Testing append mode line2\\n')\n"
   ]
  },
  {
   "cell_type": "code",
   "execution_count": 43,
   "id": "27edc75b",
   "metadata": {},
   "outputs": [],
   "source": [
    "#append mode2:\n",
    "with open('testappend.txt','a') as f:\n",
    "    f.write('Testing append mode line3\\n')\n",
    "    f.write('Testing append mode line4\\n')\n"
   ]
  },
  {
   "cell_type": "code",
   "execution_count": null,
   "id": "ff7df679",
   "metadata": {},
   "outputs": [],
   "source": [
    "# r+, reads, writes, writes from first line, removes first line, not used much,FILE should EXIST\n",
    "\n",
    "with open('rplus.txt','r+') as f:\n",
    "    f.write('Hello, How are you?\\n')\n"
   ]
  },
  {
   "cell_type": "code",
   "execution_count": 49,
   "id": "6c9fcd04",
   "metadata": {},
   "outputs": [],
   "source": [
    "with open('rplus.txt','r+') as f:\n",
    "    f.write('Hello, I am fine?\\n')\n"
   ]
  },
  {
   "cell_type": "code",
   "execution_count": 56,
   "id": "3bf26d7a",
   "metadata": {},
   "outputs": [],
   "source": [
    "# w+ ,reads, writes, trucates, create files,used more then r+\n",
    "\n",
    "with open('wplus.txt','w+') as f:\n",
    "    f.write('Hello,L1\\n')\n",
    "    f.write('Hello,L2\\n')\n",
    "    f.write('Hello,L3\\n')"
   ]
  },
  {
   "cell_type": "code",
   "execution_count": 57,
   "id": "f02f82b1",
   "metadata": {},
   "outputs": [
    {
     "name": "stdout",
     "output_type": "stream",
     "text": [
      "\n"
     ]
    }
   ],
   "source": [
    "with open('wplus.txt','w+') as f: ## Blank data as when we open file again in w+, it truncates file and nothing is left.\n",
    "    f.seek(0) \n",
    "    content=f.read()\n",
    "    print(content)"
   ]
  },
  {
   "cell_type": "code",
   "execution_count": 58,
   "id": "ef875308",
   "metadata": {},
   "outputs": [
    {
     "name": "stdout",
     "output_type": "stream",
     "text": [
      "\n"
     ]
    }
   ],
   "source": [
    "with open('wplus.txt','w+') as f: #returns nothing as cursor is in the last\n",
    "    f.write('Hello,L1\\n')\n",
    "    f.write('Hello,L2\\n')\n",
    "    f.write('Hello,L3\\n')\n",
    "    content=f.read()\n",
    "    print(content)"
   ]
  },
  {
   "cell_type": "code",
   "execution_count": 59,
   "id": "b3ccb2b0",
   "metadata": {},
   "outputs": [
    {
     "name": "stdout",
     "output_type": "stream",
     "text": [
      "Hello,L1\n",
      "Hello,L2\n",
      "Hello,L3\n",
      "\n"
     ]
    }
   ],
   "source": [
    "with open('wplus.txt','w+') as f: #returns nothing as cursor is in the last\n",
    "    f.write('Hello,L1\\n')\n",
    "    f.write('Hello,L2\\n')\n",
    "    f.write('Hello,L3\\n')\n",
    "    f.seek(0)\n",
    "    content=f.read()\n",
    "    print(content)"
   ]
  },
  {
   "cell_type": "code",
   "execution_count": null,
   "id": "177b2f73",
   "metadata": {},
   "outputs": [],
   "source": [
    "# a+ ,reads, writes, appends,creates file if it doesnt exist,doesnt truncate,most used\n",
    "# seek(0) for reading\n",
    "\n",
    "with open('aplus.txt','a+') as f:\n",
    "    f.write('Hello,testing a+\\n')"
   ]
  },
  {
   "cell_type": "code",
   "execution_count": 61,
   "id": "b8c1e549",
   "metadata": {},
   "outputs": [],
   "source": [
    "with open('aplus.txt','a+') as f:\n",
    "    f.write('Hello,testing a+ line2\\n')"
   ]
  },
  {
   "cell_type": "code",
   "execution_count": 62,
   "id": "5557c48f",
   "metadata": {},
   "outputs": [],
   "source": [
    "with open('aplus.txt','a+') as f:\n",
    "    f.write('Hello,testing a+ line3\\n')"
   ]
  },
  {
   "cell_type": "code",
   "execution_count": 64,
   "id": "63342f8c",
   "metadata": {},
   "outputs": [
    {
     "name": "stdout",
     "output_type": "stream",
     "text": [
      "Hello,testing a+\n",
      "Hello,testing a+ line2\n",
      "Hello,testing a+ line3\n",
      "\n"
     ]
    }
   ],
   "source": [
    "with open('aplus.txt','a+') as f:\n",
    "    f.seek(0)\n",
    "    content=f.read()\n",
    "    print(content)"
   ]
  },
  {
   "cell_type": "code",
   "execution_count": 65,
   "id": "46e76f70",
   "metadata": {},
   "outputs": [],
   "source": [
    "with open('aplus.txt','a+') as f:\n",
    "    f.write('Hello,testing a+ line4\\n')"
   ]
  },
  {
   "cell_type": "markdown",
   "id": "12bd7aaa",
   "metadata": {},
   "source": [
    "### Assignment"
   ]
  },
  {
   "cell_type": "code",
   "execution_count": 66,
   "id": "8769db1f",
   "metadata": {},
   "outputs": [],
   "source": [
    "def taketeninputs():\n",
    "    i=1\n",
    "    while i<=10:\n",
    "        fname=input('Enter fname:')\n",
    "        lname=input('Enter lname:')\n",
    "        age=input('Enter age:')\n",
    "        country=input('Enter country:')\n",
    "        \n",
    "        with open('assignment.txt','a+') as f:\n",
    "            f.write(fname+','+lname+','+age+','+country+','+'\\n')\n",
    "        i+=1\n",
    "\n",
    "\n"
   ]
  },
  {
   "cell_type": "code",
   "execution_count": 67,
   "id": "134eee68",
   "metadata": {},
   "outputs": [],
   "source": [
    "taketeninputs()"
   ]
  },
  {
   "cell_type": "code",
   "execution_count": 85,
   "id": "59b88971",
   "metadata": {},
   "outputs": [],
   "source": [
    "mydict = {}\n",
    "id = 1\n",
    "\n",
    "with open('assignment.txt', 'r') as f:\n",
    "    for line in f:\n",
    "        parts = line.strip().split(',')  # Split by comma\n",
    "        if len(parts) >= 4:\n",
    "            mydict[id] = {\n",
    "                'fname': parts[0].strip(),\n",
    "                'lname': parts[1].strip(),\n",
    "                'age': parts[2].strip(),\n",
    "                'country': parts[3].strip()\n",
    "            }\n",
    "            id += 1"
   ]
  },
  {
   "cell_type": "code",
   "execution_count": 87,
   "id": "48102ab1",
   "metadata": {},
   "outputs": [
    {
     "name": "stdout",
     "output_type": "stream",
     "text": [
      "{1: {'fname': 'irwin', 'lname': 'chawla', 'age': '35', 'country': 'india'}, 2: {'fname': 'tanya', 'lname': 'sinha', 'age': '33', 'country': 'india'}, 3: {'fname': 'anjali', 'lname': 'malhotra', 'age': '55', 'country': 'united states'}, 4: {'fname': 'sri', 'lname': 'kumar', 'age': '39', 'country': 'united states'}, 5: {'fname': 'rajeev', 'lname': 'bhopal', 'age': '55', 'country': 'england'}, 6: {'fname': 'gaurav', 'lname': 'chawla', 'age': '33', 'country': 'canada'}, 7: {'fname': 'edwin', 'lname': 'chawla', 'age': '38', 'country': 'india'}, 8: {'fname': 'sunil', 'lname': 'kant', 'age': '62', 'country': 'india'}, 9: {'fname': 'vijay', 'lname': 'kumar', 'age': '60', 'country': 'manila'}, 10: {'fname': 'raja', 'lname': 'kumar', 'age': '36', 'country': 'paris'}}\n"
     ]
    }
   ],
   "source": [
    "print(mydict)"
   ]
  },
  {
   "cell_type": "markdown",
   "id": "bdae5792",
   "metadata": {},
   "source": [
    "### Step1: Ingest data into file Database.txt (fields - Name , PhoneNo, email, Group)\n",
    "### Step2: Get all details via Name\n",
    "### Step3: Get all details via Group(Home, Office).\n",
    "### Step4: Delete entire row if we input email/phonenumber"
   ]
  },
  {
   "cell_type": "code",
   "execution_count": 90,
   "id": "aa4e7e87",
   "metadata": {},
   "outputs": [],
   "source": [
    "#Ingest data into database.txt file:\n",
    "i=1\n",
    "while i<=6:\n",
    "    with open('database.txt','a+') as f:\n",
    "        name=input('Enter Name:')\n",
    "        phone=input('Enter Number:')\n",
    "        email=input('Enter email:')\n",
    "        group=input('Enter group:')\n",
    "        f.write(name+','+phone+','+email+','+group+',\\n')\n",
    "        i+=1"
   ]
  },
  {
   "cell_type": "code",
   "execution_count": 121,
   "id": "ec654b46",
   "metadata": {},
   "outputs": [],
   "source": [
    "def getallnames(name):\n",
    "    with open('database.txt','r+') as f:\n",
    "        line=f.readlines()\n",
    "        for i in line:\n",
    "            if name in i:\n",
    "                print(i)\n",
    "        "
   ]
  },
  {
   "cell_type": "code",
   "execution_count": 122,
   "id": "7dedb952",
   "metadata": {},
   "outputs": [
    {
     "name": "stdout",
     "output_type": "stream",
     "text": [
      "Irwin,8447664405,irwinchawla@gmail.com,home,\n",
      "\n",
      "Irwin,9818213940,irwin.chawla@harman.com,office,\n",
      "\n"
     ]
    }
   ],
   "source": [
    "getallnames('Irwin')"
   ]
  },
  {
   "cell_type": "code",
   "execution_count": 123,
   "id": "3f1a3b21",
   "metadata": {},
   "outputs": [],
   "source": [
    "def getallgroup(group):\n",
    "    with open('database.txt','r+') as f:\n",
    "        line=f.readlines()\n",
    "        for i in line:\n",
    "            if group in i:\n",
    "                print(i)"
   ]
  },
  {
   "cell_type": "code",
   "execution_count": 124,
   "id": "299a27cc",
   "metadata": {},
   "outputs": [
    {
     "name": "stdout",
     "output_type": "stream",
     "text": [
      "Irwin,8447664405,irwinchawla@gmail.com,home,\n",
      "\n",
      "Tanya,9811541883,tanyatanu@gmail.com,home,\n",
      "\n",
      "Rohit,8447474444,rohit.kabir@gnail.com,home,\n",
      "\n",
      "Tarun,84476664444,tarun@gmail.com,home,\n",
      "\n"
     ]
    }
   ],
   "source": [
    "getallgroup('home')"
   ]
  },
  {
   "cell_type": "code",
   "execution_count": 136,
   "id": "f4d773cd",
   "metadata": {},
   "outputs": [],
   "source": [
    "def getallgroup(phone):\n",
    "    content=[]\n",
    "    with open('database.txt','r+') as f:\n",
    "        line=f.readlines()\n",
    "        for i in line:\n",
    "            if phone not in i:\n",
    "                content.append(i)\n",
    "    with open('database.txt','w+') as f:\n",
    "        f.writelines(content)"
   ]
  },
  {
   "cell_type": "code",
   "execution_count": 138,
   "id": "4d611b5f",
   "metadata": {},
   "outputs": [],
   "source": [
    "getallgroup('9811541883')"
   ]
  },
  {
   "cell_type": "markdown",
   "id": "71bb8de8",
   "metadata": {},
   "source": [
    "# Assignment 2\n",
    "\n",
    "### Step 1: Create one todolist, take input from user\n",
    "### Step 2: Delete task\n",
    "### Step 3: Mark task as completed\n",
    "### Step 4: Get Active Tasks"
   ]
  },
  {
   "cell_type": "code",
   "execution_count": 139,
   "id": "73559bfd",
   "metadata": {},
   "outputs": [],
   "source": [
    "id=1"
   ]
  },
  {
   "cell_type": "code",
   "execution_count": null,
   "id": "4e295f51",
   "metadata": {},
   "outputs": [],
   "source": [
    "print('Welcome to do list app')\n",
    "print('Press 1: To Add Task')\n",
    "print('Press 2: To Delete Task')\n",
    "print('Press 3: To Complete Task')\n",
    "print('Press 4: To View Pending Task')\n",
    "userinput=int(input('Press 1,2,3 or 4' ))\n",
    "global id\n",
    "if userinput==1:\n",
    "    task=input('Add your task:')\n",
    "    with open('task.txt','a+') as f:\n",
    "        f.write(str(id) + ',' + task + ',' + False+',\\n')\n",
    "        i+=1\n",
    "elif userinput==2:\n",
    "    content=[]\n",
    "    taskID=input('Enter Task ID to delete':') \n",
    "    with open('task.txt','r+') as f:\n",
    "        data=f.readlines()\n",
    "        for i in data:\n",
    "            if taskID not in i:\n",
    "                content.append()\n",
    "    with open('task.txt','a+') as f:\n",
    "        f.writelines(content)\n",
    "elif userinput==3:\n",
    "    content=[]\n",
    "    taskID=input('Enter Task ID to Completed':') \n",
    "    with open('task.txt','r+') as f:\n",
    "        data=f.readlines()\n",
    "        for i in data:\n",
    "            if taskID in i:\n",
    "                content=i\n",
    "                content[2]=True\n",
    "    with open('task.txt','a+') as f:\n",
    "        f.writelines(content)\n",
    "\n"
   ]
  },
  {
   "cell_type": "code",
   "execution_count": 162,
   "id": "649e8e6b",
   "metadata": {},
   "outputs": [],
   "source": [
    "id=1"
   ]
  },
  {
   "cell_type": "code",
   "execution_count": 215,
   "id": "ea8603dd",
   "metadata": {},
   "outputs": [],
   "source": [
    "id = 1  # Ensure this is declared globally before calling datainput()\n",
    "\n",
    "def datainput():\n",
    "    global id\n",
    "\n",
    "    print('Welcome to do list app')\n",
    "    print('Press 1: To Add Task')\n",
    "    print('Press 2: To Delete Task')\n",
    "    print('Press 3: To Complete Task')\n",
    "    print('Press 4: To View Pending Task')\n",
    "\n",
    "    userinput = int(input('Press 1,2,3 or 4: '))\n",
    "\n",
    "    if userinput == 1:\n",
    "        with open('task.txt', 'r') as f:\n",
    "            content = f.read()\n",
    "            print(\"Current Tasks before adding:\\n\", content)\n",
    "\n",
    "        task = input('Add your task: ')\n",
    "        with open('task.txt', 'a') as f:\n",
    "            f.write(f\"{id},{task},Active\\n\")\n",
    "        print('Task Added with ID:', id)\n",
    "        id += 1\n",
    "\n",
    "        with open('task.txt', 'r') as f:\n",
    "            print(\"Current Tasks after adding:\\n\", f.read())\n",
    "\n",
    "    elif userinput == 2:\n",
    "        with open('task.txt', 'r') as f:\n",
    "            content = f.read()\n",
    "            print(\"Current Tasks before deleting:\\n\", content)\n",
    "\n",
    "        taskID = input('Enter Task ID to delete: ')\n",
    "        contentlist = []\n",
    "\n",
    "        with open('task.txt', 'r') as f:\n",
    "            data = f.readlines()\n",
    "            for i in data:\n",
    "                if not i.startswith(taskID + ','):\n",
    "                    contentlist.append(i)\n",
    "\n",
    "        with open('task.txt', 'w') as f:\n",
    "            f.writelines(contentlist)\n",
    "\n",
    "        with open('task.txt', 'r') as f:\n",
    "            print(\"Current Tasks after deleting:\\n\", f.read())\n",
    "\n",
    "    elif userinput == 3:\n",
    "        with open('task.txt', 'r') as f:\n",
    "            print(\"Current Tasks before completing:\\n\", f.read())\n",
    "\n",
    "        taskID = input('Enter Task ID to complete: ')\n",
    "        contentlist = []\n",
    "\n",
    "        with open('task.txt', 'r') as f:\n",
    "            data = f.readlines()\n",
    "            for i in data:\n",
    "                a = i.strip().split(',')\n",
    "                if a[0] == taskID:\n",
    "                    a[2] = 'Inactive'\n",
    "                contentlist.append(','.join(a) + '\\n')\n",
    "\n",
    "        with open('task.txt', 'w') as f:\n",
    "            f.writelines(contentlist)\n",
    "\n",
    "        with open('task.txt', 'r') as f:\n",
    "            print(\"Current Tasks after completing:\\n\", f.read())\n",
    "    \n",
    "    elif userinput == 4:\n",
    "        with open('task.txt', 'r') as f:\n",
    "            content = f.readlines()\n",
    "\n",
    "            print(\"Pending (Active) Tasks:\")\n",
    "            for i in content:\n",
    "                if 'Active' in i:\n",
    "                    print(i.strip())\n"
   ]
  },
  {
   "cell_type": "code",
   "execution_count": 216,
   "id": "baf660fb",
   "metadata": {},
   "outputs": [
    {
     "name": "stdout",
     "output_type": "stream",
     "text": [
      "Welcome to do list app\n",
      "Press 1: To Add Task\n",
      "Press 2: To Delete Task\n",
      "Press 3: To Complete Task\n",
      "Press 4: To View Pending Task\n",
      "Pending (Active) Tasks:\n",
      "1,Play,Active\n"
     ]
    }
   ],
   "source": [
    "datainput()"
   ]
  },
  {
   "cell_type": "code",
   "execution_count": null,
   "id": "a7afff1a",
   "metadata": {},
   "outputs": [],
   "source": []
  }
 ],
 "metadata": {
  "kernelspec": {
   "display_name": "Python 3",
   "language": "python",
   "name": "python3"
  },
  "language_info": {
   "codemirror_mode": {
    "name": "ipython",
    "version": 3
   },
   "file_extension": ".py",
   "mimetype": "text/x-python",
   "name": "python",
   "nbconvert_exporter": "python",
   "pygments_lexer": "ipython3",
   "version": "3.12.0"
  }
 },
 "nbformat": 4,
 "nbformat_minor": 5
}
