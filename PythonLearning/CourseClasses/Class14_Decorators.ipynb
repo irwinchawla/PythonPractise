{
 "cells": [
  {
   "cell_type": "markdown",
   "id": "6d33fe87",
   "metadata": {},
   "source": [
    "## MRO - Method Resolution Order"
   ]
  },
  {
   "cell_type": "code",
   "execution_count": 1,
   "id": "eb4edcdc",
   "metadata": {},
   "outputs": [],
   "source": [
    "#Python doesnt support method overloading as it uses interpreter unlike like java which have complilers and we have provide data type at the time of declaring variables"
   ]
  },
  {
   "cell_type": "code",
   "execution_count": 4,
   "id": "26d60be0",
   "metadata": {},
   "outputs": [],
   "source": [
    "class A:\n",
    "    def greet(self):\n",
    "        print('Hi from Class A')\n",
    "\n",
    "class B:\n",
    "    def greet(self):\n",
    "        print('Hi from Class B')\n",
    "\n",
    "class C(A,B):\n",
    "    def greet(self):\n",
    "        super().greet()\n",
    "        print('Hi from Class C')"
   ]
  },
  {
   "cell_type": "code",
   "execution_count": 5,
   "id": "b17650cf",
   "metadata": {},
   "outputs": [],
   "source": [
    "objC=C()"
   ]
  },
  {
   "cell_type": "code",
   "execution_count": null,
   "id": "72030208",
   "metadata": {},
   "outputs": [
    {
     "name": "stdout",
     "output_type": "stream",
     "text": [
      "Hi from Class A\n",
      "Hi from Class C\n"
     ]
    }
   ],
   "source": [
    "objC.greet() # Gives output from Class A as it is mentioned before\n",
    "# Python follows MRO ()"
   ]
  },
  {
   "cell_type": "markdown",
   "id": "470f7f44",
   "metadata": {},
   "source": [
    "### MRO in Python (Method Resolution Order)\n",
    "### MRO is the sequence Python follows to look for a method or attribute in a class hierarchy."
   ]
  },
  {
   "cell_type": "code",
   "execution_count": null,
   "id": "f0b04d14",
   "metadata": {},
   "outputs": [
    {
     "name": "stdout",
     "output_type": "stream",
     "text": [
      "[<class '__main__.C'>, <class '__main__.A'>, <class '__main__.B'>, <class 'object'>]\n"
     ]
    }
   ],
   "source": [
    "print(C.mro()) # This tells in which sequence it will run and classes are attached."
   ]
  },
  {
   "cell_type": "markdown",
   "id": "64b6b9eb",
   "metadata": {},
   "source": [
    "## Decorator : Very imp Topic"
   ]
  },
  {
   "cell_type": "markdown",
   "id": "f170978c",
   "metadata": {},
   "source": [
    "🧩 \n",
    "A decorator in Python is a function that modifies the behavior of another function (or method) without changing its code. It allows you to wrap another function to add extra functionality, such as logging, timing, or access control."
   ]
  },
  {
   "cell_type": "markdown",
   "id": "00e6684c",
   "metadata": {},
   "source": [
    "A decorator is a function that takes another function as input and returns a new function with added behavior."
   ]
  },
  {
   "cell_type": "markdown",
   "id": "f8e367f4",
   "metadata": {},
   "source": [
    "#### Useful for logging, authentication, caching, etc.\n",
    "#### @my_decorator is syntactic sugar for: say_hello = my_decorator(say_hello)\n",
    "\n",
    "#### You can also create decorators with arguments using nested functions."
   ]
  },
  {
   "cell_type": "code",
   "execution_count": 8,
   "id": "46ebc8ec",
   "metadata": {},
   "outputs": [
    {
     "name": "stdout",
     "output_type": "stream",
     "text": [
      "Before the function runs\n",
      "Hello!\n",
      "After the function runs\n"
     ]
    }
   ],
   "source": [
    "def my_decorator(func):\n",
    "    def wrapper():\n",
    "        print(\"Before the function runs\")\n",
    "        func()\n",
    "        print(\"After the function runs\")\n",
    "    return wrapper\n",
    "\n",
    "@my_decorator\n",
    "def say_hello():\n",
    "    print(\"Hello!\")\n",
    "\n",
    "say_hello()\n"
   ]
  },
  {
   "cell_type": "code",
   "execution_count": 11,
   "id": "c3503ae9",
   "metadata": {},
   "outputs": [],
   "source": [
    "# Practical example of a Python decorator, this time for timing how long a function takes to run — a common use case in real-world applications."
   ]
  },
  {
   "cell_type": "code",
   "execution_count": 12,
   "id": "42fac749",
   "metadata": {},
   "outputs": [],
   "source": [
    "import time\n",
    "\n",
    "def timer_decorator(func):\n",
    "    def wrapper(*args, **kwargs):\n",
    "        start = time.time()\n",
    "        result = func(*args, **kwargs)\n",
    "        end = time.time()\n",
    "        print(f\"Execution time: {end - start:.4f} seconds\")\n",
    "        return result\n",
    "    return wrapper\n"
   ]
  },
  {
   "cell_type": "code",
   "execution_count": 13,
   "id": "95168c5b",
   "metadata": {},
   "outputs": [
    {
     "name": "stdout",
     "output_type": "stream",
     "text": [
      "Task completed!\n",
      "Execution time: 2.0066 seconds\n"
     ]
    }
   ],
   "source": [
    "@timer_decorator\n",
    "def long_running_task():\n",
    "    time.sleep(2)\n",
    "    print(\"Task completed!\")\n",
    "\n",
    "long_running_task()\n"
   ]
  }
 ],
 "metadata": {
  "kernelspec": {
   "display_name": "Python 3",
   "language": "python",
   "name": "python3"
  },
  "language_info": {
   "codemirror_mode": {
    "name": "ipython",
    "version": 3
   },
   "file_extension": ".py",
   "mimetype": "text/x-python",
   "name": "python",
   "nbconvert_exporter": "python",
   "pygments_lexer": "ipython3",
   "version": "3.12.0"
  }
 },
 "nbformat": 4,
 "nbformat_minor": 5
}
