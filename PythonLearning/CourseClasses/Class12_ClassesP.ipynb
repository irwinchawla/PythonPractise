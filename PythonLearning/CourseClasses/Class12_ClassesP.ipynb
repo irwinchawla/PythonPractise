{
 "cells": [
  {
   "cell_type": "markdown",
   "id": "2b6a49fb",
   "metadata": {},
   "source": [
    "# Classes"
   ]
  },
  {
   "cell_type": "markdown",
   "id": "60b0a3c6",
   "metadata": {},
   "source": [
    "### Class is a collections of functions\n",
    "### Functions inside a class is called as methods\n",
    "### We have Class List which have methods .append(),.pop()"
   ]
  },
  {
   "cell_type": "code",
   "execution_count": 11,
   "id": "6fc70b31",
   "metadata": {},
   "outputs": [],
   "source": [
    "class Calculator():\n",
    "    def add(self,a,b):\n",
    "        return(a+b)\n",
    "    def sub(self,a,b):\n",
    "        return(a-b)\n",
    "    def multiply(self,a,b):\n",
    "        return(a*b)\n",
    "    def divide(self,a,b):\n",
    "        return(a/b)\n",
    "    \n"
   ]
  },
  {
   "cell_type": "code",
   "execution_count": 19,
   "id": "9ee5ce69",
   "metadata": {},
   "outputs": [
    {
     "name": "stdout",
     "output_type": "stream",
     "text": [
      "1799588184672\n",
      "1799588193456\n"
     ]
    }
   ],
   "source": [
    "calc=Calculator()\n",
    "print(id(Calculator())) # Address of class Calculator\n",
    "print(id(calc)) # Address of object calc created from class Calculator"
   ]
  },
  {
   "cell_type": "code",
   "execution_count": 13,
   "id": "f1fa0c95",
   "metadata": {},
   "outputs": [
    {
     "name": "stdout",
     "output_type": "stream",
     "text": [
      "12\n",
      "140731855751960\n"
     ]
    }
   ],
   "source": [
    "calc=Calculator()\n",
    "Addition=calc.add(10,2) #Object created\n",
    "print(Addition)\n",
    "print(id(Addition))\n"
   ]
  },
  {
   "cell_type": "code",
   "execution_count": 14,
   "id": "158aff1b",
   "metadata": {},
   "outputs": [
    {
     "name": "stdout",
     "output_type": "stream",
     "text": [
      "8\n",
      "140731855751832\n"
     ]
    }
   ],
   "source": [
    "Subtract=calc.sub(10,2)\n",
    "print(Subtract)\n",
    "print(id(Subtract))\n"
   ]
  },
  {
   "cell_type": "code",
   "execution_count": 15,
   "id": "9da4b2d7",
   "metadata": {},
   "outputs": [],
   "source": [
    "class Mobile():\n",
    "    def __init__(self):\n",
    "        self.brand='Apple'\n",
    "    \n",
    "    def color(self,phncolor):\n",
    "        print('Your ',self.brand,' Iphone color is ',phncolor)\n",
    "        \n"
   ]
  },
  {
   "cell_type": "code",
   "execution_count": null,
   "id": "57db8a41",
   "metadata": {},
   "outputs": [
    {
     "name": "stdout",
     "output_type": "stream",
     "text": [
      "1799586849776\n",
      "1799588196912\n"
     ]
    }
   ],
   "source": [
    "mob=Mobile()\n",
    "print(id(Mobile()))\n",
    "print(id(mob))\n"
   ]
  },
  {
   "cell_type": "code",
   "execution_count": 23,
   "id": "70547a05",
   "metadata": {},
   "outputs": [
    {
     "name": "stdout",
     "output_type": "stream",
     "text": [
      "Your  Apple  Iphone color is  Green\n",
      "Your  Apple  Iphone color is  Green\n",
      "140731854702368\n"
     ]
    }
   ],
   "source": [
    "mob.color('Green')\n",
    "print(id(mob.color('Green')))"
   ]
  },
  {
   "cell_type": "code",
   "execution_count": null,
   "id": "d8690f14",
   "metadata": {},
   "outputs": [],
   "source": [
    "class Mobile():\n",
    "    def __init__(self):\n",
    "        self.brand='Apple'\n",
    "    \n",
    "    def color(self,phncolor):\n",
    "        print('Your ',self.brand,' Iphone color is ',phncolor)\n",
    "        return('Id of Self is ',id(self))\n",
    "        "
   ]
  },
  {
   "cell_type": "code",
   "execution_count": 39,
   "id": "5590ed02",
   "metadata": {},
   "outputs": [],
   "source": [
    "mob=Mobile()\n"
   ]
  },
  {
   "cell_type": "code",
   "execution_count": 41,
   "id": "e84dd567",
   "metadata": {},
   "outputs": [
    {
     "name": "stdout",
     "output_type": "stream",
     "text": [
      "1799586582928\n",
      "1799586850832\n",
      "1799586582928\n"
     ]
    }
   ],
   "source": [
    "mob.color('Green')\n",
    "print(id(Mobile()))\n",
    "print(id(mob))"
   ]
  },
  {
   "cell_type": "code",
   "execution_count": 49,
   "id": "85258f66",
   "metadata": {},
   "outputs": [],
   "source": [
    "class Game():\n",
    "    def __init__(self,gamename,phnname,num):\n",
    "        self.game=gamename\n",
    "        self.phone=phnname\n",
    "        self.random=num\n",
    "    \n",
    "    def getdata(self):\n",
    "        print(self.game,' from ',self.phone)\n"
   ]
  },
  {
   "cell_type": "code",
   "execution_count": 50,
   "id": "2a1a647b",
   "metadata": {},
   "outputs": [],
   "source": [
    "gm=Game('Ludo','Iphone',15)"
   ]
  },
  {
   "cell_type": "code",
   "execution_count": null,
   "id": "c57017ed",
   "metadata": {},
   "outputs": [
    {
     "data": {
      "text/plain": [
       "15"
      ]
     },
     "execution_count": 51,
     "metadata": {},
     "output_type": "execute_result"
    }
   ],
   "source": [
    "gm.random #Acces self variables directly."
   ]
  },
  {
   "cell_type": "code",
   "execution_count": 53,
   "id": "ce77389d",
   "metadata": {},
   "outputs": [],
   "source": [
    "class Car():\n",
    "    def __init__(self,name):\n",
    "        self.carname=name\n",
    "    \n",
    "    def getcarname(self):\n",
    "        return(self.carname)"
   ]
  },
  {
   "cell_type": "code",
   "execution_count": 55,
   "id": "c72980fc",
   "metadata": {},
   "outputs": [
    {
     "ename": "TypeError",
     "evalue": "Car.__init__() missing 1 required positional argument: 'name'",
     "output_type": "error",
     "traceback": [
      "\u001b[31m---------------------------------------------------------------------------\u001b[39m",
      "\u001b[31mTypeError\u001b[39m                                 Traceback (most recent call last)",
      "\u001b[36mCell\u001b[39m\u001b[36m \u001b[39m\u001b[32mIn[55]\u001b[39m\u001b[32m, line 1\u001b[39m\n\u001b[32m----> \u001b[39m\u001b[32m1\u001b[39m carobject=\u001b[43mCar\u001b[49m\u001b[43m(\u001b[49m\u001b[43m)\u001b[49m\n",
      "\u001b[31mTypeError\u001b[39m: Car.__init__() missing 1 required positional argument: 'name'"
     ]
    }
   ],
   "source": [
    "carobject=Car()\n"
   ]
  },
  {
   "cell_type": "code",
   "execution_count": 56,
   "id": "d76b97a6",
   "metadata": {},
   "outputs": [],
   "source": [
    "carobject2=Car('Mahindra')"
   ]
  },
  {
   "cell_type": "code",
   "execution_count": 59,
   "id": "4f8d8d62",
   "metadata": {},
   "outputs": [
    {
     "name": "stdout",
     "output_type": "stream",
     "text": [
      "1797448815888\n"
     ]
    }
   ],
   "source": [
    "print(id(Car))\n"
   ]
  },
  {
   "cell_type": "code",
   "execution_count": 61,
   "id": "2981b280",
   "metadata": {},
   "outputs": [
    {
     "name": "stdout",
     "output_type": "stream",
     "text": [
      "1799588202208\n"
     ]
    }
   ],
   "source": [
    "print(id(carobject2))\n"
   ]
  },
  {
   "cell_type": "code",
   "execution_count": 63,
   "id": "87e1534e",
   "metadata": {},
   "outputs": [
    {
     "name": "stdout",
     "output_type": "stream",
     "text": [
      "1797463459248\n"
     ]
    }
   ],
   "source": [
    "print(id(carobject2.carname))"
   ]
  },
  {
   "cell_type": "code",
   "execution_count": null,
   "id": "076331ac",
   "metadata": {},
   "outputs": [],
   "source": []
  }
 ],
 "metadata": {
  "kernelspec": {
   "display_name": "Python 3",
   "language": "python",
   "name": "python3"
  },
  "language_info": {
   "codemirror_mode": {
    "name": "ipython",
    "version": 3
   },
   "file_extension": ".py",
   "mimetype": "text/x-python",
   "name": "python",
   "nbconvert_exporter": "python",
   "pygments_lexer": "ipython3",
   "version": "3.12.0"
  }
 },
 "nbformat": 4,
 "nbformat_minor": 5
}
