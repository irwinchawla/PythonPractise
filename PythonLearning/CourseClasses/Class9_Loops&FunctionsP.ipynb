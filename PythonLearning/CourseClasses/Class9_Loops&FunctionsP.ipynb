{
 "cells": [
  {
   "cell_type": "markdown",
   "id": "1824b84f",
   "metadata": {},
   "source": [
    "# While Loops"
   ]
  },
  {
   "cell_type": "code",
   "execution_count": 4,
   "id": "e12da026",
   "metadata": {},
   "outputs": [
    {
     "name": "stdout",
     "output_type": "stream",
     "text": [
      "1\n",
      "2\n",
      "3\n",
      "4\n",
      "5\n",
      "6\n",
      "7\n",
      "8\n",
      "9\n",
      "10\n"
     ]
    }
   ],
   "source": [
    "i=1\n",
    "while i<=10:\n",
    "    print(i)\n",
    "    i+=1"
   ]
  },
  {
   "cell_type": "code",
   "execution_count": 6,
   "id": "a012ee63",
   "metadata": {},
   "outputs": [
    {
     "name": "stdout",
     "output_type": "stream",
     "text": [
      "Irwin\n"
     ]
    }
   ],
   "source": [
    "while True:\n",
    "    name=input('Enter Name:')\n",
    "    if name=='Irwin':\n",
    "        break\n",
    "    print(name)"
   ]
  },
  {
   "cell_type": "code",
   "execution_count": 1,
   "id": "04d36368",
   "metadata": {},
   "outputs": [
    {
     "name": "stdout",
     "output_type": "stream",
     "text": [
      "\n",
      "tanya\n",
      "irwin\n",
      "Irwin\n"
     ]
    }
   ],
   "source": [
    "var=True\n",
    "while var:\n",
    "    name=input('Enter Name:')\n",
    "    if name=='Irwin':\n",
    "        var=False\n",
    "    print(name)"
   ]
  },
  {
   "cell_type": "markdown",
   "id": "4edfebf0",
   "metadata": {},
   "source": [
    "# functions"
   ]
  },
  {
   "cell_type": "code",
   "execution_count": 2,
   "id": "19481dc3",
   "metadata": {},
   "outputs": [],
   "source": [
    "def funcname():\n",
    "    print('hello function')"
   ]
  },
  {
   "cell_type": "code",
   "execution_count": 3,
   "id": "18c4ff2d",
   "metadata": {},
   "outputs": [
    {
     "name": "stdout",
     "output_type": "stream",
     "text": [
      "hello function\n"
     ]
    }
   ],
   "source": [
    "funcname()"
   ]
  },
  {
   "cell_type": "code",
   "execution_count": 4,
   "id": "8adada8e",
   "metadata": {},
   "outputs": [],
   "source": [
    "def add(a,b):\n",
    "    print(a+b)"
   ]
  },
  {
   "cell_type": "code",
   "execution_count": 6,
   "id": "9b1220f7",
   "metadata": {},
   "outputs": [
    {
     "name": "stdout",
     "output_type": "stream",
     "text": [
      "15\n"
     ]
    }
   ],
   "source": [
    "add(9,6)"
   ]
  },
  {
   "cell_type": "code",
   "execution_count": 8,
   "id": "2da2da7f",
   "metadata": {},
   "outputs": [],
   "source": [
    "\n",
    "def funcadd():\n",
    "    a=int(input('Enter first value for add :'))\n",
    "    b=int(input('Enter Second value for add :'))\n",
    "    return a+b"
   ]
  },
  {
   "cell_type": "code",
   "execution_count": 9,
   "id": "d02a5766",
   "metadata": {},
   "outputs": [
    {
     "data": {
      "text/plain": [
       "16"
      ]
     },
     "execution_count": 9,
     "metadata": {},
     "output_type": "execute_result"
    }
   ],
   "source": [
    "\n",
    "funcadd()"
   ]
  },
  {
   "cell_type": "code",
   "execution_count": 10,
   "id": "4c41ba01",
   "metadata": {},
   "outputs": [],
   "source": [
    "def func(a=0,b=0):\n",
    "    return a+b\n"
   ]
  },
  {
   "cell_type": "code",
   "execution_count": 12,
   "id": "2712f61d",
   "metadata": {},
   "outputs": [
    {
     "data": {
      "text/plain": [
       "0"
      ]
     },
     "execution_count": 12,
     "metadata": {},
     "output_type": "execute_result"
    }
   ],
   "source": [
    "func()"
   ]
  },
  {
   "cell_type": "code",
   "execution_count": 13,
   "id": "df5d2be5",
   "metadata": {},
   "outputs": [
    {
     "data": {
      "text/plain": [
       "7"
      ]
     },
     "execution_count": 13,
     "metadata": {},
     "output_type": "execute_result"
    }
   ],
   "source": [
    "func(1,6)"
   ]
  },
  {
   "cell_type": "code",
   "execution_count": 14,
   "id": "6ba62b0a",
   "metadata": {},
   "outputs": [
    {
     "data": {
      "text/plain": [
       "14"
      ]
     },
     "execution_count": 14,
     "metadata": {},
     "output_type": "execute_result"
    }
   ],
   "source": [
    "func(b=9,a=5)"
   ]
  },
  {
   "cell_type": "code",
   "execution_count": 17,
   "id": "98ef5c4d",
   "metadata": {},
   "outputs": [],
   "source": [
    "def funcsub(a=0,b=0):\n",
    "    return a-b"
   ]
  },
  {
   "cell_type": "code",
   "execution_count": 18,
   "id": "3b100d48",
   "metadata": {},
   "outputs": [
    {
     "data": {
      "text/plain": [
       "8"
      ]
     },
     "execution_count": 18,
     "metadata": {},
     "output_type": "execute_result"
    }
   ],
   "source": [
    "funcsub(10,2)"
   ]
  },
  {
   "cell_type": "code",
   "execution_count": 19,
   "id": "495eb716",
   "metadata": {},
   "outputs": [
    {
     "data": {
      "text/plain": [
       "8"
      ]
     },
     "execution_count": 19,
     "metadata": {},
     "output_type": "execute_result"
    }
   ],
   "source": [
    "funcsub(b=2,a=10)"
   ]
  },
  {
   "cell_type": "markdown",
   "id": "6f51ebf5",
   "metadata": {},
   "source": [
    "### Non Keyword Arguments - *args"
   ]
  },
  {
   "cell_type": "code",
   "execution_count": null,
   "id": "681b0de9",
   "metadata": {},
   "outputs": [],
   "source": [
    "# *args :Passed as tuples\n",
    "\n",
    "def func(*values):\n",
    "    print(values)"
   ]
  },
  {
   "cell_type": "code",
   "execution_count": 22,
   "id": "e5764f8f",
   "metadata": {},
   "outputs": [
    {
     "name": "stdout",
     "output_type": "stream",
     "text": [
      "(1, 2, 2, 3, 4)\n"
     ]
    }
   ],
   "source": [
    "func(1,2,2,3,4)"
   ]
  },
  {
   "cell_type": "code",
   "execution_count": 33,
   "id": "e153fe35",
   "metadata": {},
   "outputs": [],
   "source": [
    "def addmultiplevalues(*args):\n",
    "    sum=0\n",
    "    for i in args:\n",
    "        sum=sum+i\n",
    "    return sum"
   ]
  },
  {
   "cell_type": "code",
   "execution_count": 34,
   "id": "ddb84f73",
   "metadata": {},
   "outputs": [
    {
     "data": {
      "text/plain": [
       "28"
      ]
     },
     "execution_count": 34,
     "metadata": {},
     "output_type": "execute_result"
    }
   ],
   "source": [
    "addmultiplevalues(1,2,3,4,5,6,7)"
   ]
  },
  {
   "cell_type": "code",
   "execution_count": null,
   "id": "f7de3ce8",
   "metadata": {},
   "outputs": [],
   "source": [
    "def funcnames(name1,*remainingnames):\n",
    "    print(name1)\n",
    "    print(remainingnames) # Remaining values as tuple,which can be iterated"
   ]
  },
  {
   "cell_type": "code",
   "execution_count": 40,
   "id": "16797174",
   "metadata": {},
   "outputs": [
    {
     "name": "stdout",
     "output_type": "stream",
     "text": [
      "irwin\n",
      "('Tushar', 'Tanya', 'Raunak')\n"
     ]
    }
   ],
   "source": [
    "funcnames('irwin','Tushar','Tanya','Raunak')"
   ]
  },
  {
   "cell_type": "code",
   "execution_count": 44,
   "id": "22819bd4",
   "metadata": {},
   "outputs": [],
   "source": [
    "def funcnames(name1,*values,name2):\n",
    "    print(name1)\n",
    "    print(values) # Remaining values as tuple,which can be iterated\n",
    "    print(name2)"
   ]
  },
  {
   "cell_type": "code",
   "execution_count": 45,
   "id": "fb03ff99",
   "metadata": {},
   "outputs": [
    {
     "ename": "TypeError",
     "evalue": "funcnames() missing 1 required keyword-only argument: 'name2'",
     "output_type": "error",
     "traceback": [
      "\u001b[31m---------------------------------------------------------------------------\u001b[39m",
      "\u001b[31mTypeError\u001b[39m                                 Traceback (most recent call last)",
      "\u001b[36mCell\u001b[39m\u001b[36m \u001b[39m\u001b[32mIn[45]\u001b[39m\u001b[32m, line 1\u001b[39m\n\u001b[32m----> \u001b[39m\u001b[32m1\u001b[39m \u001b[43mfuncnames\u001b[49m\u001b[43m(\u001b[49m\u001b[33;43m'\u001b[39;49m\u001b[33;43mirwin\u001b[39;49m\u001b[33;43m'\u001b[39;49m\u001b[43m,\u001b[49m\u001b[33;43m'\u001b[39;49m\u001b[33;43mTushar\u001b[39;49m\u001b[33;43m'\u001b[39;49m\u001b[43m,\u001b[49m\u001b[33;43m'\u001b[39;49m\u001b[33;43mTanya\u001b[39;49m\u001b[33;43m'\u001b[39;49m\u001b[43m,\u001b[49m\u001b[33;43m'\u001b[39;49m\u001b[33;43mRaunak\u001b[39;49m\u001b[33;43m'\u001b[39;49m\u001b[43m)\u001b[49m\n",
      "\u001b[31mTypeError\u001b[39m: funcnames() missing 1 required keyword-only argument: 'name2'"
     ]
    }
   ],
   "source": [
    "funcnames('irwin','Tushar','Tanya','Raunak')"
   ]
  },
  {
   "cell_type": "code",
   "execution_count": 46,
   "id": "93b17b20",
   "metadata": {},
   "outputs": [
    {
     "name": "stdout",
     "output_type": "stream",
     "text": [
      "irwin\n",
      "('Tushar', 'Tanya')\n",
      "Raunak\n"
     ]
    }
   ],
   "source": [
    "funcnames('irwin','Tushar','Tanya',name2='Raunak')"
   ]
  },
  {
   "cell_type": "markdown",
   "id": "af242468",
   "metadata": {},
   "source": [
    "## Keyword arguments -**kwargs"
   ]
  },
  {
   "cell_type": "code",
   "execution_count": 53,
   "id": "fc2b3c12",
   "metadata": {},
   "outputs": [],
   "source": [
    "def funckwarg(**values):\n",
    "    print(values)\n",
    "    print(values.keys())\n",
    "    print(values.values())\n",
    "    print(values.items())"
   ]
  },
  {
   "cell_type": "code",
   "execution_count": 54,
   "id": "86a75c49",
   "metadata": {},
   "outputs": [
    {
     "name": "stdout",
     "output_type": "stream",
     "text": [
      "{'Name': 'Irwin', 'DOB': 29081989, 'Place': 'Gurugram'}\n",
      "dict_keys(['Name', 'DOB', 'Place'])\n",
      "dict_values(['Irwin', 29081989, 'Gurugram'])\n",
      "dict_items([('Name', 'Irwin'), ('DOB', 29081989), ('Place', 'Gurugram')])\n"
     ]
    }
   ],
   "source": [
    "funckwarg(Name='Irwin', DOB=29081989,Place='Gurugram')"
   ]
  },
  {
   "cell_type": "code",
   "execution_count": 55,
   "id": "69758cb4",
   "metadata": {},
   "outputs": [],
   "source": [
    "def funcreturn(a,b):\n",
    "    c=a+b\n",
    "    return c"
   ]
  },
  {
   "cell_type": "code",
   "execution_count": 56,
   "id": "fe7dd15d",
   "metadata": {},
   "outputs": [
    {
     "data": {
      "text/plain": [
       "15"
      ]
     },
     "execution_count": 56,
     "metadata": {},
     "output_type": "execute_result"
    }
   ],
   "source": [
    "funcreturn(9,6)"
   ]
  },
  {
   "cell_type": "code",
   "execution_count": 57,
   "id": "92882159",
   "metadata": {},
   "outputs": [],
   "source": [
    "ans=funcreturn(9,6)"
   ]
  },
  {
   "cell_type": "code",
   "execution_count": 58,
   "id": "25e82f92",
   "metadata": {},
   "outputs": [
    {
     "name": "stdout",
     "output_type": "stream",
     "text": [
      "15\n"
     ]
    }
   ],
   "source": [
    "print(ans)"
   ]
  },
  {
   "cell_type": "markdown",
   "id": "a77fe10f",
   "metadata": {},
   "source": [
    "### Assignment"
   ]
  },
  {
   "cell_type": "code",
   "execution_count": 96,
   "id": "c394f6d7",
   "metadata": {},
   "outputs": [],
   "source": [
    "patientdetails={}\n",
    "id=1"
   ]
  },
  {
   "cell_type": "code",
   "execution_count": 97,
   "id": "7d10bc15",
   "metadata": {},
   "outputs": [],
   "source": [
    "def checkcountry(pCountry,ptemp):\n",
    "    if pCountry.lower()=='india':\n",
    "        temp=str(ptemp)+'C'\n",
    "        return temp\n",
    "    else:\n",
    "        temp=str(ptemp)+'F'\n",
    "        return temp\n",
    "\n"
   ]
  },
  {
   "cell_type": "code",
   "execution_count": 98,
   "id": "dde7db12",
   "metadata": {},
   "outputs": [],
   "source": [
    "def enterpatientdetails():\n",
    "    fname=input('Enter First Name: ')\n",
    "    lname=input('Enter Last Name: ')\n",
    "    dob=input('Enter DOB: ')\n",
    "    country=input('Enter Country: ')\n",
    "    temp=input('Enter Body Temp: ')\n",
    "    weight=input('Enter Weight')\n",
    "\n",
    "    temp=checkcountry(country,temp)\n",
    "\n",
    "    loadpatientdetails(fname,lname,dob,country,temp,weight)"
   ]
  },
  {
   "cell_type": "code",
   "execution_count": 102,
   "id": "ee510612",
   "metadata": {},
   "outputs": [],
   "source": [
    "def loadpatientdetails(fname,lname,dob,country,temp,weight):\n",
    "    global id , patientdetails\n",
    "    \n",
    "    patientdetails[id]={\n",
    "        'fname':fname,\n",
    "        'lname':lname,\n",
    "        'dob':dob,\n",
    "        'country':country,\n",
    "        'temp':temp,\n",
    "        'weight':weight\n",
    "    }\n",
    "    id+=1\n"
   ]
  },
  {
   "cell_type": "code",
   "execution_count": 108,
   "id": "222e302c",
   "metadata": {},
   "outputs": [],
   "source": [
    "enterpatientdetails()"
   ]
  },
  {
   "cell_type": "code",
   "execution_count": 105,
   "id": "beab0db3",
   "metadata": {},
   "outputs": [],
   "source": [
    "a=patientdetails"
   ]
  },
  {
   "cell_type": "code",
   "execution_count": 106,
   "id": "c3d75744",
   "metadata": {},
   "outputs": [
    {
     "data": {
      "text/plain": [
       "dict_items([(1, {'fname': 'Irwin', 'lname': 'Chawla', 'dob': '29081989', 'country': 'India', 'temp': '23C', 'weight': '69'})])"
      ]
     },
     "execution_count": 106,
     "metadata": {},
     "output_type": "execute_result"
    }
   ],
   "source": [
    "a.items()"
   ]
  },
  {
   "cell_type": "code",
   "execution_count": 117,
   "id": "2c128c7b",
   "metadata": {},
   "outputs": [
    {
     "data": {
      "text/plain": [
       "'Chawla'"
      ]
     },
     "execution_count": 117,
     "metadata": {},
     "output_type": "execute_result"
    }
   ],
   "source": [
    "a[1]['lname']"
   ]
  },
  {
   "cell_type": "code",
   "execution_count": 131,
   "id": "92bc20e2",
   "metadata": {},
   "outputs": [
    {
     "name": "stdout",
     "output_type": "stream",
     "text": [
      "1\n",
      "Irwin\n",
      "Chawla\n",
      "2\n",
      "Tanya\n",
      "Sinha\n"
     ]
    }
   ],
   "source": [
    "for i,y in a.items():\n",
    "    print(i)\n",
    "    print(y['fname'])\n",
    "    print(y['lname'])"
   ]
  },
  {
   "cell_type": "code",
   "execution_count": null,
   "id": "51206fe8",
   "metadata": {},
   "outputs": [],
   "source": []
  }
 ],
 "metadata": {
  "kernelspec": {
   "display_name": "Python 3",
   "language": "python",
   "name": "python3"
  },
  "language_info": {
   "codemirror_mode": {
    "name": "ipython",
    "version": 3
   },
   "file_extension": ".py",
   "mimetype": "text/x-python",
   "name": "python",
   "nbconvert_exporter": "python",
   "pygments_lexer": "ipython3",
   "version": "3.12.0"
  }
 },
 "nbformat": 4,
 "nbformat_minor": 5
}
