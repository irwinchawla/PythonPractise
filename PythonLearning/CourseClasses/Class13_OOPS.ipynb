{
 "cells": [
  {
   "cell_type": "markdown",
   "id": "d9e5b466",
   "metadata": {},
   "source": [
    "### Modules"
   ]
  },
  {
   "cell_type": "code",
   "execution_count": null,
   "id": "c4cd5ca1",
   "metadata": {},
   "outputs": [],
   "source": [
    "# Modules are something that we create as a seperate .py file and from their we import diff functions for use.#\n",
    "# It is .py file, will have functions and classes."
   ]
  },
  {
   "cell_type": "code",
   "execution_count": null,
   "id": "2f0152d4",
   "metadata": {},
   "outputs": [],
   "source": [
    "from Class12_ClassP import Builder # We have imported class Builder from Class12_ClassP module"
   ]
  },
  {
   "cell_type": "code",
   "execution_count": 4,
   "id": "c61d0fcf",
   "metadata": {},
   "outputs": [],
   "source": [
    "B1=Builder('2000sqft','Gurugram',200,'DLF')"
   ]
  },
  {
   "cell_type": "code",
   "execution_count": 6,
   "id": "7ff75c66",
   "metadata": {},
   "outputs": [
    {
     "data": {
      "text/plain": [
       "'Gurugram'"
      ]
     },
     "execution_count": 6,
     "metadata": {},
     "output_type": "execute_result"
    }
   ],
   "source": [
    "B1.area"
   ]
  },
  {
   "cell_type": "code",
   "execution_count": 7,
   "id": "e470a843",
   "metadata": {},
   "outputs": [
    {
     "name": "stdout",
     "output_type": "stream",
     "text": [
      "Welcome  Tanya  for purchasing flat at  Gurugram  of size  2000sqft from builder :  DLF\n",
      "Inventory left is :  199\n"
     ]
    }
   ],
   "source": [
    "B1.customer('Tanya')"
   ]
  },
  {
   "cell_type": "markdown",
   "id": "146f93cb",
   "metadata": {},
   "source": [
    "### Packages"
   ]
  },
  {
   "cell_type": "code",
   "execution_count": null,
   "id": "c02bd7f1",
   "metadata": {},
   "outputs": [],
   "source": [
    "# It is a collection of multiple modules.\n",
    "# To create a package,we create seperate folder for it.\n",
    "# In the folder we have to create __int__.py file, which helps python know that this is package."
   ]
  },
  {
   "cell_type": "code",
   "execution_count": 11,
   "id": "57fec907",
   "metadata": {},
   "outputs": [
    {
     "ename": "ModuleNotFoundError",
     "evalue": "No module named 'Hospital'",
     "output_type": "error",
     "traceback": [
      "\u001b[31m---------------------------------------------------------------------------\u001b[39m",
      "\u001b[31mModuleNotFoundError\u001b[39m                       Traceback (most recent call last)",
      "\u001b[36mCell\u001b[39m\u001b[36m \u001b[39m\u001b[32mIn[11]\u001b[39m\u001b[32m, line 1\u001b[39m\n\u001b[32m----> \u001b[39m\u001b[32m1\u001b[39m \u001b[38;5;28;01mfrom\u001b[39;00m\u001b[38;5;250m \u001b[39m\u001b[34;01mHospital\u001b[39;00m\u001b[34;01m.\u001b[39;00m\u001b[34;01madmissions\u001b[39;00m\u001b[38;5;250m \u001b[39m\u001b[38;5;28;01mimport\u001b[39;00m *\n",
      "\u001b[31mModuleNotFoundError\u001b[39m: No module named 'Hospital'"
     ]
    }
   ],
   "source": [
    "from Hospital.admissions import *"
   ]
  },
  {
   "cell_type": "code",
   "execution_count": 16,
   "id": "5b98389a",
   "metadata": {},
   "outputs": [],
   "source": [
    "import sys"
   ]
  },
  {
   "cell_type": "code",
   "execution_count": null,
   "id": "cf182075",
   "metadata": {},
   "outputs": [
    {
     "data": {
      "text/plain": [
       "['c:\\\\Users\\\\Irwin\\\\PythonLearningDS\\\\venv\\\\python312.zip',\n",
       " 'c:\\\\Users\\\\Irwin\\\\PythonLearningDS\\\\venv\\\\DLLs',\n",
       " 'c:\\\\Users\\\\Irwin\\\\PythonLearningDS\\\\venv\\\\Lib',\n",
       " 'c:\\\\Users\\\\Irwin\\\\PythonLearningDS\\\\venv',\n",
       " '',\n",
       " 'c:\\\\Users\\\\Irwin\\\\PythonLearningDS\\\\venv\\\\Lib\\\\site-packages',\n",
       " 'c:\\\\Users\\\\Irwin\\\\PythonLearningDS\\\\venv\\\\Lib\\\\site-packages\\\\win32',\n",
       " 'c:\\\\Users\\\\Irwin\\\\PythonLearningDS\\\\venv\\\\Lib\\\\site-packages\\\\win32\\\\lib',\n",
       " 'c:\\\\Users\\\\Irwin\\\\PythonLearningDS\\\\venv\\\\Lib\\\\site-packages\\\\Pythonwin',\n",
       " '../CourseClasses']"
      ]
     },
     "execution_count": 21,
     "metadata": {},
     "output_type": "execute_result"
    }
   ],
   "source": [
    "sys.path.append"
   ]
  },
  {
   "cell_type": "code",
   "execution_count": null,
   "id": "2c759643",
   "metadata": {},
   "outputs": [
    {
     "name": "stdout",
     "output_type": "stream",
     "text": [
      "None\n"
     ]
    }
   ],
   "source": [
    "# We have to do this as our notebook is in different path then our package\n",
    "import sys\n",
    "import os\n",
    "\n",
    "# Add parent directory (PythonLearning) to sys.path\n",
    "sys.path.append(os.path.abspath('..'))\n",
    "\n",
    "\n",
    "# Now you can import your package\n",
    "from Hospital.admissions import *"
   ]
  },
  {
   "cell_type": "code",
   "execution_count": 24,
   "id": "0a4d8e4a",
   "metadata": {},
   "outputs": [
    {
     "name": "stdout",
     "output_type": "stream",
     "text": [
      "In admissions module\n"
     ]
    }
   ],
   "source": [
    "admissions()"
   ]
  },
  {
   "cell_type": "code",
   "execution_count": 26,
   "id": "2a2050ca",
   "metadata": {},
   "outputs": [
    {
     "name": "stdout",
     "output_type": "stream",
     "text": [
      "None\n",
      "None\n"
     ]
    }
   ],
   "source": [
    "a=print(sys.path.append(os.path.abspath('..')))\n",
    "print(a)"
   ]
  },
  {
   "cell_type": "code",
   "execution_count": 27,
   "id": "71f9b937",
   "metadata": {},
   "outputs": [
    {
     "data": {
      "text/plain": [
       "'c:\\\\Users\\\\Irwin\\\\PythonLearningDS\\\\PythonLearning\\\\CourseClasses'"
      ]
     },
     "execution_count": 27,
     "metadata": {},
     "output_type": "execute_result"
    }
   ],
   "source": [
    "# currenty location :Single dot\n",
    "os.path.abspath('.')"
   ]
  },
  {
   "cell_type": "code",
   "execution_count": 28,
   "id": "048de344",
   "metadata": {},
   "outputs": [
    {
     "data": {
      "text/plain": [
       "'c:\\\\Users\\\\Irwin\\\\PythonLearningDS\\\\PythonLearning'"
      ]
     },
     "execution_count": 28,
     "metadata": {},
     "output_type": "execute_result"
    }
   ],
   "source": [
    "# 2step back\n",
    "os.path.abspath('..')"
   ]
  },
  {
   "cell_type": "code",
   "execution_count": 54,
   "id": "234980b6",
   "metadata": {},
   "outputs": [
    {
     "data": {
      "text/plain": [
       "'c:\\\\Users\\\\Irwin\\\\PythonLearningDS'"
      ]
     },
     "execution_count": 54,
     "metadata": {},
     "output_type": "execute_result"
    }
   ],
   "source": [
    "# 3step back\n",
    "os.path.abspath('../..')"
   ]
  },
  {
   "cell_type": "code",
   "execution_count": 55,
   "id": "ec8cf9ad",
   "metadata": {},
   "outputs": [
    {
     "data": {
      "text/plain": [
       "'c:\\\\Users\\\\Irwin'"
      ]
     },
     "execution_count": 55,
     "metadata": {},
     "output_type": "execute_result"
    }
   ],
   "source": [
    "# 4step back\n",
    "os.path.abspath('../../..')"
   ]
  },
  {
   "cell_type": "markdown",
   "id": "a85bb118",
   "metadata": {},
   "source": [
    "### sys.path.append(...) tells Python to look there for modules."
   ]
  },
  {
   "cell_type": "code",
   "execution_count": null,
   "id": "1f67c4f7",
   "metadata": {},
   "outputs": [],
   "source": [
    "# if we want to create another folder inside Hospital folder like OPD then we need to create __init__.py file again to access that folder"
   ]
  },
  {
   "cell_type": "code",
   "execution_count": 41,
   "id": "30bc4b73",
   "metadata": {},
   "outputs": [],
   "source": [
    "# We have to do this as our notebook is in different path then our package\n",
    "import sys\n",
    "import os\n",
    "\n",
    "# Add parent directory (PythonLearning) to sys.path\n",
    "sys.path.append(os.path.abspath('..'))\n",
    "\n",
    "\n",
    "# Now you can import your package\n",
    "from Hospital.OPD import *"
   ]
  },
  {
   "cell_type": "code",
   "execution_count": 44,
   "id": "9ad205c2",
   "metadata": {},
   "outputs": [
    {
     "ename": "NameError",
     "evalue": "name 'Hospital' is not defined",
     "output_type": "error",
     "traceback": [
      "\u001b[31m---------------------------------------------------------------------------\u001b[39m",
      "\u001b[31mNameError\u001b[39m                                 Traceback (most recent call last)",
      "\u001b[36mCell\u001b[39m\u001b[36m \u001b[39m\u001b[32mIn[44]\u001b[39m\u001b[32m, line 1\u001b[39m\n\u001b[32m----> \u001b[39m\u001b[32m1\u001b[39m \u001b[43mHospital\u001b[49m.OPD.opd()\n",
      "\u001b[31mNameError\u001b[39m: name 'Hospital' is not defined"
     ]
    }
   ],
   "source": [
    "Hospital.OPD.opd()"
   ]
  },
  {
   "cell_type": "code",
   "execution_count": 45,
   "id": "bca92e25",
   "metadata": {},
   "outputs": [
    {
     "ename": "NameError",
     "evalue": "name 'opd' is not defined",
     "output_type": "error",
     "traceback": [
      "\u001b[31m---------------------------------------------------------------------------\u001b[39m",
      "\u001b[31mNameError\u001b[39m                                 Traceback (most recent call last)",
      "\u001b[36mCell\u001b[39m\u001b[36m \u001b[39m\u001b[32mIn[45]\u001b[39m\u001b[32m, line 1\u001b[39m\n\u001b[32m----> \u001b[39m\u001b[32m1\u001b[39m \u001b[43mopd\u001b[49m()\n",
      "\u001b[31mNameError\u001b[39m: name 'opd' is not defined"
     ]
    }
   ],
   "source": [
    "opd()"
   ]
  },
  {
   "cell_type": "code",
   "execution_count": 46,
   "id": "e543093e",
   "metadata": {},
   "outputs": [
    {
     "ename": "NameError",
     "evalue": "name 'takeadmission' is not defined",
     "output_type": "error",
     "traceback": [
      "\u001b[31m---------------------------------------------------------------------------\u001b[39m",
      "\u001b[31mNameError\u001b[39m                                 Traceback (most recent call last)",
      "\u001b[36mCell\u001b[39m\u001b[36m \u001b[39m\u001b[32mIn[46]\u001b[39m\u001b[32m, line 1\u001b[39m\n\u001b[32m----> \u001b[39m\u001b[32m1\u001b[39m \u001b[43mtakeadmission\u001b[49m()\n",
      "\u001b[31mNameError\u001b[39m: name 'takeadmission' is not defined"
     ]
    }
   ],
   "source": [
    "takeadmission()"
   ]
  },
  {
   "cell_type": "code",
   "execution_count": 47,
   "id": "eb9d5cf6",
   "metadata": {},
   "outputs": [
    {
     "data": {
      "text/plain": [
       "['B1',\n",
       " 'Builder',\n",
       " 'In',\n",
       " 'Out',\n",
       " '_',\n",
       " '_18',\n",
       " '_21',\n",
       " '_27',\n",
       " '_28',\n",
       " '_29',\n",
       " '_6',\n",
       " '__',\n",
       " '___',\n",
       " '__builtin__',\n",
       " '__builtins__',\n",
       " '__doc__',\n",
       " '__loader__',\n",
       " '__name__',\n",
       " '__package__',\n",
       " '__spec__',\n",
       " '__vsc_ipynb_file__',\n",
       " '_dh',\n",
       " '_i',\n",
       " '_i1',\n",
       " '_i10',\n",
       " '_i11',\n",
       " '_i12',\n",
       " '_i13',\n",
       " '_i14',\n",
       " '_i15',\n",
       " '_i16',\n",
       " '_i17',\n",
       " '_i18',\n",
       " '_i19',\n",
       " '_i2',\n",
       " '_i20',\n",
       " '_i21',\n",
       " '_i22',\n",
       " '_i23',\n",
       " '_i24',\n",
       " '_i25',\n",
       " '_i26',\n",
       " '_i27',\n",
       " '_i28',\n",
       " '_i29',\n",
       " '_i3',\n",
       " '_i30',\n",
       " '_i31',\n",
       " '_i32',\n",
       " '_i33',\n",
       " '_i34',\n",
       " '_i35',\n",
       " '_i36',\n",
       " '_i37',\n",
       " '_i38',\n",
       " '_i39',\n",
       " '_i4',\n",
       " '_i40',\n",
       " '_i41',\n",
       " '_i42',\n",
       " '_i43',\n",
       " '_i44',\n",
       " '_i45',\n",
       " '_i46',\n",
       " '_i47',\n",
       " '_i5',\n",
       " '_i6',\n",
       " '_i7',\n",
       " '_i8',\n",
       " '_i9',\n",
       " '_ih',\n",
       " '_ii',\n",
       " '_iii',\n",
       " '_oh',\n",
       " 'a',\n",
       " 'admissions',\n",
       " 'exit',\n",
       " 'get_ipython',\n",
       " 'open',\n",
       " 'os',\n",
       " 'quit',\n",
       " 'sys']"
      ]
     },
     "execution_count": 47,
     "metadata": {},
     "output_type": "execute_result"
    }
   ],
   "source": [
    "dir()"
   ]
  },
  {
   "cell_type": "code",
   "execution_count": 48,
   "id": "48c847a4",
   "metadata": {},
   "outputs": [
    {
     "data": {
      "text/plain": [
       "dict_keys(['__name__', '__doc__', '__package__', '__loader__', '__spec__', '__path__', '__file__', '__cached__', '__builtins__'])"
      ]
     },
     "execution_count": 48,
     "metadata": {},
     "output_type": "execute_result"
    }
   ],
   "source": [
    "import sys\n",
    "sys.modules['Hospital.OPD'].__dict__.keys()"
   ]
  },
  {
   "cell_type": "markdown",
   "id": "c5bedff5",
   "metadata": {},
   "source": [
    "#### Avoid using *"
   ]
  },
  {
   "cell_type": "code",
   "execution_count": 50,
   "id": "e44795d0",
   "metadata": {},
   "outputs": [],
   "source": [
    "# We have to do this as our notebook is in different path then our package\n",
    "import sys\n",
    "import os\n",
    "\n",
    "# Add parent directory (PythonLearning) to sys.path\n",
    "sys.path.append(os.path.abspath('..'))\n",
    "\n",
    "\n",
    "# Now you can import your package\n",
    "from Hospital.OPD.opd import takeadmission"
   ]
  },
  {
   "cell_type": "code",
   "execution_count": 51,
   "id": "d4d5d47d",
   "metadata": {},
   "outputs": [
    {
     "name": "stdout",
     "output_type": "stream",
     "text": [
      "In Take Admissions folder\n"
     ]
    }
   ],
   "source": [
    "takeadmission()"
   ]
  },
  {
   "cell_type": "markdown",
   "id": "34358911",
   "metadata": {},
   "source": [
    "## Inheritance"
   ]
  },
  {
   "cell_type": "code",
   "execution_count": 56,
   "id": "5cedf94b",
   "metadata": {},
   "outputs": [],
   "source": [
    "# If we have 2 classes and we want to access properties of one class into another then we need to pass that class inside it."
   ]
  },
  {
   "cell_type": "code",
   "execution_count": 60,
   "id": "64353412",
   "metadata": {},
   "outputs": [],
   "source": [
    "class Specialityhospital():\n",
    "    def Opd(self):\n",
    "        print('Speciality-Opd')\n",
    "    def Xray(self):\n",
    "        print('Speciality-Xray')\n",
    "\n",
    "class Dispensary():\n",
    "    def Opd(self):\n",
    "        print('Dispensary-Opd')\n",
    "    def medicines(self):\n",
    "        print('Dispensary-medicines')"
   ]
  },
  {
   "cell_type": "code",
   "execution_count": 61,
   "id": "cc7e13e4",
   "metadata": {},
   "outputs": [],
   "source": [
    "sh=Specialityhospital()"
   ]
  },
  {
   "cell_type": "code",
   "execution_count": 62,
   "id": "d4341d29",
   "metadata": {},
   "outputs": [
    {
     "name": "stdout",
     "output_type": "stream",
     "text": [
      "Speciality-Opd\n"
     ]
    }
   ],
   "source": [
    "sh.Opd()"
   ]
  },
  {
   "cell_type": "code",
   "execution_count": 63,
   "id": "658655c8",
   "metadata": {},
   "outputs": [
    {
     "name": "stdout",
     "output_type": "stream",
     "text": [
      "Speciality-Xray\n"
     ]
    }
   ],
   "source": [
    "sh.Xray()"
   ]
  },
  {
   "cell_type": "code",
   "execution_count": 64,
   "id": "663a3150",
   "metadata": {},
   "outputs": [
    {
     "ename": "AttributeError",
     "evalue": "'Specialityhospital' object has no attribute 'Dispensary'",
     "output_type": "error",
     "traceback": [
      "\u001b[31m---------------------------------------------------------------------------\u001b[39m",
      "\u001b[31mAttributeError\u001b[39m                            Traceback (most recent call last)",
      "\u001b[36mCell\u001b[39m\u001b[36m \u001b[39m\u001b[32mIn[64]\u001b[39m\u001b[32m, line 1\u001b[39m\n\u001b[32m----> \u001b[39m\u001b[32m1\u001b[39m \u001b[43msh\u001b[49m\u001b[43m.\u001b[49m\u001b[43mDispensary\u001b[49m()\n",
      "\u001b[31mAttributeError\u001b[39m: 'Specialityhospital' object has no attribute 'Dispensary'"
     ]
    }
   ],
   "source": [
    "sh.Dispensary()"
   ]
  },
  {
   "cell_type": "code",
   "execution_count": null,
   "id": "6bd37551",
   "metadata": {},
   "outputs": [],
   "source": [
    "class Specialityhospital(Dispensary):\n",
    "    def Opd(self):\n",
    "        print('Speciality-Opd')\n",
    "    def Xray(self):\n",
    "        print('Speciality-Xray')\n",
    "\n",
    "class Dispensary():\n",
    "    def Opd(self):\n",
    "        print('Dispensary-Opd')\n",
    "    def medicines(self):\n",
    "        print('Dispensary-medicines')\n",
    "\n",
    "#Dispensary is the parent class (also called the base class or superclass).\n",
    "\n",
    "#Specialityhospital is the child class (also called the derived class or subclass), because it inherits from Dispensary."
   ]
  },
  {
   "cell_type": "code",
   "execution_count": 74,
   "id": "371d3d27",
   "metadata": {},
   "outputs": [],
   "source": [
    "sh=Specialityhospital()"
   ]
  },
  {
   "cell_type": "markdown",
   "id": "26ca63fe",
   "metadata": {},
   "source": [
    "### Below process is called over riding"
   ]
  },
  {
   "cell_type": "code",
   "execution_count": null,
   "id": "a1ce44d5",
   "metadata": {},
   "outputs": [
    {
     "name": "stdout",
     "output_type": "stream",
     "text": [
      "Speciality-Opd\n"
     ]
    }
   ],
   "source": [
    "sh.Opd() #if same function is present it will reference where we have reference of that class"
   ]
  },
  {
   "cell_type": "code",
   "execution_count": 76,
   "id": "720acc82",
   "metadata": {},
   "outputs": [
    {
     "name": "stdout",
     "output_type": "stream",
     "text": [
      "Dispensary-medicines\n"
     ]
    }
   ],
   "source": [
    "sh.medicines()"
   ]
  },
  {
   "cell_type": "code",
   "execution_count": null,
   "id": "a2002c4c",
   "metadata": {},
   "outputs": [],
   "source": [
    "# if we want functionality of both classes, we can create new class which inherits properties of both classes"
   ]
  },
  {
   "cell_type": "code",
   "execution_count": 77,
   "id": "ae435487",
   "metadata": {},
   "outputs": [],
   "source": [
    "class Master (Dispensary,Specialityhospital):\n",
    "    def MOpd(self):\n",
    "        print('Master-Opd')\n",
    "    def MXray(self):\n",
    "        print('Master-Xray')"
   ]
  },
  {
   "cell_type": "code",
   "execution_count": 78,
   "id": "81231e62",
   "metadata": {},
   "outputs": [],
   "source": [
    "M=Master()"
   ]
  },
  {
   "cell_type": "code",
   "execution_count": null,
   "id": "84ff0cac",
   "metadata": {},
   "outputs": [
    {
     "name": "stdout",
     "output_type": "stream",
     "text": [
      "Dispensary-Opd\n"
     ]
    }
   ],
   "source": [
    "M.Opd() #Gives output from first class if we have same name"
   ]
  },
  {
   "cell_type": "markdown",
   "id": "44601d90",
   "metadata": {},
   "source": [
    "### Super Keyword"
   ]
  },
  {
   "cell_type": "code",
   "execution_count": null,
   "id": "7490192c",
   "metadata": {},
   "outputs": [],
   "source": [
    "# Super is used to initialize arguments of parent/base/superclass"
   ]
  },
  {
   "cell_type": "markdown",
   "id": "a690c577",
   "metadata": {},
   "source": [
    "### super().__init__(name,seniority)\n",
    "## no self as super() is doing same work."
   ]
  },
  {
   "cell_type": "code",
   "execution_count": 95,
   "id": "12aaa42d",
   "metadata": {},
   "outputs": [],
   "source": [
    "class Employee:\n",
    "    def __init__(self,name,seniority):\n",
    "        self.name=name\n",
    "        self.seniority=seniority\n",
    "        print(\"Employee Name: \",self.name,\" Position: \",self.seniority)\n",
    "\n",
    "class Manager(Employee):\n",
    "    def __init__(self,name,seniority,teamsize):\n",
    "        super().__init__(name,seniority)#creating object of employee class,its address is bound to employee class\n",
    "        self.teamsize=teamsize\n",
    "        print(\"ManagaerC Employee Name: \",self.name,\" Position: \",self.seniority)\n",
    "    def show(self):\n",
    "        print(\"Employee Name: \",self.name,\" Position: \",self.seniority,\" TeamSize: \",self.teamsize)"
   ]
  },
  {
   "cell_type": "code",
   "execution_count": 96,
   "id": "15964d03",
   "metadata": {},
   "outputs": [
    {
     "name": "stdout",
     "output_type": "stream",
     "text": [
      "Employee Name:  Irwin  Position:  Senior\n",
      "ManagaerC Employee Name:  Irwin  Position:  Senior\n"
     ]
    }
   ],
   "source": [
    "m=Manager('Irwin','Senior',\"100\")"
   ]
  },
  {
   "cell_type": "code",
   "execution_count": 97,
   "id": "9ae0c608",
   "metadata": {},
   "outputs": [
    {
     "name": "stdout",
     "output_type": "stream",
     "text": [
      "Employee Name:  Irwin  Position:  Senior  TeamSize:  100\n"
     ]
    }
   ],
   "source": [
    "m.show()"
   ]
  },
  {
   "cell_type": "markdown",
   "id": "573bd56c",
   "metadata": {},
   "source": [
    "## Polymorphism"
   ]
  },
  {
   "cell_type": "code",
   "execution_count": null,
   "id": "3c56bb2e",
   "metadata": {},
   "outputs": [],
   "source": [
    "# Same name but different behaviour"
   ]
  },
  {
   "cell_type": "code",
   "execution_count": 115,
   "id": "87f3529c",
   "metadata": {},
   "outputs": [],
   "source": [
    "class Ac:\n",
    "    def turnon(self):\n",
    "        print(\"AC Turned On\")\n",
    "\n",
    "class Tv:\n",
    "    def turnon(self):\n",
    "        print(\"Tv Turned On\")\n",
    "\n",
    "def Activate(appliance):\n",
    "    appliance.turnon()\n"
   ]
  },
  {
   "cell_type": "code",
   "execution_count": 116,
   "id": "9629ecfe",
   "metadata": {},
   "outputs": [],
   "source": [
    "objAc=Ac()\n"
   ]
  },
  {
   "cell_type": "code",
   "execution_count": 117,
   "id": "fd98dfdd",
   "metadata": {},
   "outputs": [],
   "source": [
    "objTv=Tv()"
   ]
  },
  {
   "cell_type": "code",
   "execution_count": 118,
   "id": "c43dad47",
   "metadata": {},
   "outputs": [
    {
     "name": "stdout",
     "output_type": "stream",
     "text": [
      "AC Turned On\n"
     ]
    }
   ],
   "source": [
    "Activate(objAc)"
   ]
  },
  {
   "cell_type": "code",
   "execution_count": 119,
   "id": "efb9dce9",
   "metadata": {},
   "outputs": [
    {
     "name": "stdout",
     "output_type": "stream",
     "text": [
      "Tv Turned On\n"
     ]
    }
   ],
   "source": [
    "Activate(objTv)"
   ]
  },
  {
   "cell_type": "markdown",
   "id": "c3e981da",
   "metadata": {},
   "source": [
    "## 👉 a = Ac vs a = Ac()\n",
    "\n",
    "#### Here, you're assigning the class itself to the variable a.\n",
    "\n",
    "#### a is now a reference to the class, not an instance of the class.\n",
    "\n",
    "#### You can use it to create objects later, like: obj = a()."
   ]
  },
  {
   "cell_type": "code",
   "execution_count": 120,
   "id": "e0745cb0",
   "metadata": {},
   "outputs": [],
   "source": [
    "# a=Ac means you are referencing class only and if you want to create object of class then you have\n",
    "# to do like obj=a() {Actual object of class}\n",
    "# Ac is class and Ac() is object"
   ]
  },
  {
   "cell_type": "code",
   "execution_count": 121,
   "id": "c8360824",
   "metadata": {},
   "outputs": [],
   "source": [
    "class Tv90:\n",
    "    def turnon(self):\n",
    "        print(\"Tv90 turned on\")\n",
    "\n",
    "class Tv20:\n",
    "    def turnon(self):\n",
    "        print(\"Tv20 turned on\")\n",
    "\n",
    "class Tv25:\n",
    "    def turnon(self):\n",
    "        print(\"Tv25 turned on\")"
   ]
  },
  {
   "cell_type": "code",
   "execution_count": null,
   "id": "34b87d6e",
   "metadata": {},
   "outputs": [
    {
     "name": "stdout",
     "output_type": "stream",
     "text": [
      "Tv90 turned on\n",
      "Tv20 turned on\n",
      "Tv25 turned on\n"
     ]
    }
   ],
   "source": [
    "for i in (Tv90(),Tv20(),Tv25()): # Here these are objects not class as we have () with it.\n",
    "    i.turnon()"
   ]
  },
  {
   "cell_type": "markdown",
   "id": "129bd009",
   "metadata": {},
   "source": [
    "## Encapsulation"
   ]
  },
  {
   "cell_type": "code",
   "execution_count": 123,
   "id": "4bcb156b",
   "metadata": {},
   "outputs": [],
   "source": [
    "#Encapsulation hides the internal state of an object and only allows access through well-defined methods."
   ]
  },
  {
   "cell_type": "code",
   "execution_count": null,
   "metadata": {},
   "outputs": [],
   "source": [
    "class Person:\n",
    "    def __init__(self, name):\n",
    "        self.__name = name  # private variable\n",
    "\n",
    "    def get_name(self):      # getter\n",
    "        return self.__name\n",
    "\n",
    "    def set_name(self, name):  # setter\n",
    "        self.__name = name\n"
   ]
  },
  {
   "cell_type": "code",
   "execution_count": null,
   "id": "ea6bb168",
   "metadata": {},
   "outputs": [],
   "source": [
    "# __name is encapsulated — it's private.\n",
    "\n",
    "# Access is only through get_name() and set_name() — controlled access."
   ]
  },
  {
   "cell_type": "code",
   "execution_count": 131,
   "id": "40535988",
   "metadata": {},
   "outputs": [],
   "source": [
    "class Bank:\n",
    "    def __init__(self,id,password):\n",
    "        self.id=id\n",
    "        self.__password=password\n",
    "        self.amount=0\n",
    "\n",
    "    def getpass(self):\n",
    "        print(self.__password)\n",
    "\n",
    "    def __getpass(self):\n",
    "        print(self.__password)\n",
    "\n",
    "    \n"
   ]
  },
  {
   "cell_type": "code",
   "execution_count": 133,
   "id": "2917e283",
   "metadata": {},
   "outputs": [],
   "source": [
    "b=Bank(1,123)"
   ]
  },
  {
   "cell_type": "code",
   "execution_count": 134,
   "id": "2f4a4792",
   "metadata": {},
   "outputs": [
    {
     "data": {
      "text/plain": [
       "1"
      ]
     },
     "execution_count": 134,
     "metadata": {},
     "output_type": "execute_result"
    }
   ],
   "source": [
    "b.id"
   ]
  },
  {
   "cell_type": "code",
   "execution_count": null,
   "id": "467c4e41",
   "metadata": {},
   "outputs": [
    {
     "ename": "AttributeError",
     "evalue": "'Bank' object has no attribute '__password'",
     "output_type": "error",
     "traceback": [
      "\u001b[31m---------------------------------------------------------------------------\u001b[39m",
      "\u001b[31mAttributeError\u001b[39m                            Traceback (most recent call last)",
      "\u001b[36mCell\u001b[39m\u001b[36m \u001b[39m\u001b[32mIn[129]\u001b[39m\u001b[32m, line 1\u001b[39m\n\u001b[32m----> \u001b[39m\u001b[32m1\u001b[39m \u001b[43mb\u001b[49m\u001b[43m.\u001b[49m\u001b[43m__password\u001b[49m\n",
      "\u001b[31mAttributeError\u001b[39m: 'Bank' object has no attribute '__password'"
     ]
    }
   ],
   "source": [
    "b.__password # Not accessible directly."
   ]
  },
  {
   "cell_type": "code",
   "execution_count": 135,
   "id": "cd05d723",
   "metadata": {},
   "outputs": [
    {
     "name": "stdout",
     "output_type": "stream",
     "text": [
      "123\n"
     ]
    }
   ],
   "source": [
    "b.getpass() # accessible thru diff method"
   ]
  },
  {
   "cell_type": "code",
   "execution_count": null,
   "id": "67ad387b",
   "metadata": {},
   "outputs": [
    {
     "ename": "AttributeError",
     "evalue": "'Bank' object has no attribute '__getpass'",
     "output_type": "error",
     "traceback": [
      "\u001b[31m---------------------------------------------------------------------------\u001b[39m",
      "\u001b[31mAttributeError\u001b[39m                            Traceback (most recent call last)",
      "\u001b[36mCell\u001b[39m\u001b[36m \u001b[39m\u001b[32mIn[136]\u001b[39m\u001b[32m, line 1\u001b[39m\n\u001b[32m----> \u001b[39m\u001b[32m1\u001b[39m \u001b[43mb\u001b[49m\u001b[43m.\u001b[49m\u001b[43m__getpass\u001b[49m()\n",
      "\u001b[31mAttributeError\u001b[39m: 'Bank' object has no attribute '__getpass'"
     ]
    }
   ],
   "source": [
    "b.__getpass() # Private method also, similar to private object"
   ]
  },
  {
   "cell_type": "code",
   "execution_count": null,
   "id": "7b3f53d1",
   "metadata": {},
   "outputs": [],
   "source": [
    "## we use this when we want to use it internally and doesnt need to be exposed outside."
   ]
  },
  {
   "cell_type": "markdown",
   "id": "4050ff8e",
   "metadata": {},
   "source": [
    "## Abstraction/Abstract method"
   ]
  },
  {
   "cell_type": "code",
   "execution_count": null,
   "id": "aab83a80",
   "metadata": {},
   "outputs": [],
   "source": [
    "# Abstraction means hiding complex implementation details and showing only the essential features of an object # or system. It allows users to interact with an interface without needing to understand the internal workings."
   ]
  },
  {
   "cell_type": "code",
   "execution_count": 137,
   "id": "29e082c9",
   "metadata": {},
   "outputs": [
    {
     "name": "stdout",
     "output_type": "stream",
     "text": [
      "Car engine started\n"
     ]
    }
   ],
   "source": [
    "from abc import ABC, abstractmethod\n",
    "\n",
    "class Vehicle(ABC):                # Abstract class\n",
    "    @abstractmethod\n",
    "    def start_engine(self):        # Abstract method\n",
    "        pass\n",
    "\n",
    "class Car(Vehicle):\n",
    "    def start_engine(self):\n",
    "        print(\"Car engine started\")\n",
    "\n",
    "# Usage\n",
    "c = Car()\n",
    "c.start_engine()\n"
   ]
  },
  {
   "cell_type": "code",
   "execution_count": null,
   "id": "cd137551",
   "metadata": {},
   "outputs": [],
   "source": [
    "#Vehicle is an abstract class.\n",
    "\n",
    "# start_engine() is an abstract method (no implementation in the base).\n",
    "\n",
    "#Car must implement start_engine() or it will throw an error."
   ]
  },
  {
   "cell_type": "code",
   "execution_count": null,
   "id": "94737aa1",
   "metadata": {},
   "outputs": [],
   "source": [
    "# If we want to use or inherit abstract class then its mandatory to implement abstract method in child class."
   ]
  },
  {
   "cell_type": "code",
   "execution_count": 141,
   "id": "895f4aa7",
   "metadata": {},
   "outputs": [],
   "source": [
    "from abc import ABC, abstractmethod\n",
    "class McDonald(ABC):\n",
    "    @abstractmethod\n",
    "    def sittingcapacity(self):\n",
    "        print('Atleast 30')\n",
    "    @abstractmethod\n",
    "    def parking(self):\n",
    "        print('Atleast 10 cars')\n",
    "    def fixedmenu(self):\n",
    "        pass\n",
    "\n",
    "class Franchise(McDonald):\n",
    "    def newburger():\n",
    "        print('new Burger added')\n",
    "\n"
   ]
  },
  {
   "cell_type": "code",
   "execution_count": null,
   "id": "109ab455",
   "metadata": {},
   "outputs": [
    {
     "ename": "TypeError",
     "evalue": "Can't instantiate abstract class Franchise without an implementation for abstract methods 'parking', 'sittingcapacity'",
     "output_type": "error",
     "traceback": [
      "\u001b[31m---------------------------------------------------------------------------\u001b[39m",
      "\u001b[31mTypeError\u001b[39m                                 Traceback (most recent call last)",
      "\u001b[36mCell\u001b[39m\u001b[36m \u001b[39m\u001b[32mIn[142]\u001b[39m\u001b[32m, line 1\u001b[39m\n\u001b[32m----> \u001b[39m\u001b[32m1\u001b[39m f=\u001b[43mFranchise\u001b[49m\u001b[43m(\u001b[49m\u001b[43m)\u001b[49m\n",
      "\u001b[31mTypeError\u001b[39m: Can't instantiate abstract class Franchise without an implementation for abstract methods 'parking', 'sittingcapacity'"
     ]
    }
   ],
   "source": [
    "f=Franchise() # Throwing errror as we need to implement parking & sittingcapcity as we have added @abstractmethod\n",
    "# No error for fixedmenu as we have not mentioned @abstractmethod"
   ]
  },
  {
   "cell_type": "code",
   "execution_count": null,
   "id": "4d5a439e",
   "metadata": {},
   "outputs": [],
   "source": [
    "from abc import ABC, abstractmethod\n",
    "class McDonald(ABC):\n",
    "    @abstractmethod\n",
    "    def sittingcapacity(self):\n",
    "        print('Atleast 30')\n",
    "    @abstractmethod\n",
    "    def parking(self):\n",
    "        print('Atleast 10 cars')\n",
    "    def fixedmenu(self):\n",
    "        pass\n",
    "\n",
    "class Franchise(McDonald):\n",
    "    def sittingcapacity(self): #Overiding\n",
    "        pass\n",
    "    def parking(self):\n",
    "        pass\n",
    "\n",
    "    def newburger(self):\n",
    "        print('new Burger added')\n"
   ]
  },
  {
   "cell_type": "code",
   "execution_count": 148,
   "id": "fb4c5832",
   "metadata": {},
   "outputs": [],
   "source": [
    "f=Franchise()"
   ]
  },
  {
   "cell_type": "code",
   "execution_count": 149,
   "id": "40123656",
   "metadata": {},
   "outputs": [],
   "source": [
    "f.sittingcapacity()"
   ]
  },
  {
   "cell_type": "code",
   "execution_count": 150,
   "id": "b4c44b49",
   "metadata": {},
   "outputs": [
    {
     "name": "stdout",
     "output_type": "stream",
     "text": [
      "new Burger added\n"
     ]
    }
   ],
   "source": [
    "f.newburger()"
   ]
  },
  {
   "cell_type": "markdown",
   "id": "b1407207",
   "metadata": {},
   "source": [
    "## F String"
   ]
  },
  {
   "cell_type": "code",
   "execution_count": 151,
   "id": "36c945b1",
   "metadata": {},
   "outputs": [
    {
     "name": "stdout",
     "output_type": "stream",
     "text": [
      "My Name is irwin chawla\n"
     ]
    }
   ],
   "source": [
    "a='irwin'\n",
    "b='chawla'\n",
    "\n",
    "print(f'My Name is {a} {b}')"
   ]
  }
 ],
 "metadata": {
  "kernelspec": {
   "display_name": "Python 3",
   "language": "python",
   "name": "python3"
  },
  "language_info": {
   "codemirror_mode": {
    "name": "ipython",
    "version": 3
   },
   "file_extension": ".py",
   "mimetype": "text/x-python",
   "name": "python",
   "nbconvert_exporter": "python",
   "pygments_lexer": "ipython3",
   "version": "3.12.0"
  }
 },
 "nbformat": 4,
 "nbformat_minor": 5
}
