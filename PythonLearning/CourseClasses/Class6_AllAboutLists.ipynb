{
 "cells": [
  {
   "cell_type": "markdown",
   "id": "3bd1dd9a",
   "metadata": {},
   "source": [
    "### Assignment"
   ]
  },
  {
   "cell_type": "code",
   "execution_count": 6,
   "id": "2cbbdb95",
   "metadata": {},
   "outputs": [
    {
     "name": "stdout",
     "output_type": "stream",
     "text": [
      "Go to home\n"
     ]
    }
   ],
   "source": [
    "UserAmount = int(input(\"How much money do you have in your account?\"))\n",
    "UserTime=int(input(\"What is the time?\"))\n",
    "\n",
    "if UserAmount>=200 and UserTime<7:\n",
    "    print(\"Go to Theme park\")\n",
    "elif UserAmount<200 and UserTime>7:\n",
    "    print(\"Go to Ice Cream Parlour\")\n",
    "else:\n",
    "    print(\"Go to home\")"
   ]
  },
  {
   "cell_type": "markdown",
   "id": "a1bbd5ce",
   "metadata": {},
   "source": [
    "## List"
   ]
  },
  {
   "cell_type": "code",
   "execution_count": 7,
   "id": "cb647e0d",
   "metadata": {},
   "outputs": [
    {
     "name": "stdout",
     "output_type": "stream",
     "text": [
      "['irwin', 8447664405, 35]\n"
     ]
    }
   ],
   "source": [
    "mylist=['irwin',8447664405,35]\n",
    "print(mylist)"
   ]
  },
  {
   "cell_type": "code",
   "execution_count": 8,
   "id": "0963fc74",
   "metadata": {},
   "outputs": [
    {
     "name": "stdout",
     "output_type": "stream",
     "text": [
      "3\n"
     ]
    }
   ],
   "source": [
    "# Length of list\n",
    "print(len(mylist))"
   ]
  },
  {
   "cell_type": "code",
   "execution_count": 9,
   "id": "76a79d56",
   "metadata": {},
   "outputs": [
    {
     "name": "stdout",
     "output_type": "stream",
     "text": [
      "['irwin']\n"
     ]
    }
   ],
   "source": [
    "#Slicing list\n",
    "print(mylist[0:1])"
   ]
  },
  {
   "cell_type": "code",
   "execution_count": 10,
   "id": "85fef970",
   "metadata": {},
   "outputs": [
    {
     "name": "stdout",
     "output_type": "stream",
     "text": [
      "['irwin', 8447664405]\n"
     ]
    }
   ],
   "source": [
    "#Slicing list\n",
    "print(mylist[0:2])"
   ]
  },
  {
   "cell_type": "code",
   "execution_count": 11,
   "id": "1bf3f319",
   "metadata": {},
   "outputs": [
    {
     "name": "stdout",
     "output_type": "stream",
     "text": [
      "['irwin', 8447664405, 35]\n"
     ]
    }
   ],
   "source": [
    "#Slicing list\n",
    "print(mylist[0:3])"
   ]
  },
  {
   "cell_type": "code",
   "execution_count": 12,
   "id": "769daef0",
   "metadata": {},
   "outputs": [
    {
     "name": "stdout",
     "output_type": "stream",
     "text": [
      "[8447664405, 35]\n"
     ]
    }
   ],
   "source": [
    "#Slicing list\n",
    "print(mylist[1:3])"
   ]
  },
  {
   "cell_type": "code",
   "execution_count": 13,
   "id": "a07a4199",
   "metadata": {},
   "outputs": [
    {
     "name": "stdout",
     "output_type": "stream",
     "text": [
      "['irwin', 8447664405, 35]\n"
     ]
    }
   ],
   "source": [
    "#Slicing list\n",
    "print(mylist[::1])"
   ]
  },
  {
   "cell_type": "code",
   "execution_count": 14,
   "id": "8cf8f5cb",
   "metadata": {},
   "outputs": [
    {
     "name": "stdout",
     "output_type": "stream",
     "text": [
      "[35, 8447664405, 'irwin']\n"
     ]
    }
   ],
   "source": [
    "#Slicing list : Reverse\n",
    "print(mylist[::-1])"
   ]
  },
  {
   "cell_type": "code",
   "execution_count": 15,
   "id": "ec545aed",
   "metadata": {},
   "outputs": [
    {
     "name": "stdout",
     "output_type": "stream",
     "text": [
      "['irwin', 8447664405, 35, 'Tanya']\n"
     ]
    }
   ],
   "source": [
    "#Append\n",
    "mylist.append('Tanya')\n",
    "print(mylist)"
   ]
  },
  {
   "cell_type": "code",
   "execution_count": 16,
   "id": "4167000a",
   "metadata": {},
   "outputs": [
    {
     "name": "stdout",
     "output_type": "stream",
     "text": [
      "['irwin', 'Chawla', 8447664405, 35, 'Tanya']\n"
     ]
    }
   ],
   "source": [
    "#Insert : Used to Insert value at particular index\n",
    "mylist.insert(1,\"Chawla\")\n",
    "print(mylist)"
   ]
  },
  {
   "cell_type": "code",
   "execution_count": 17,
   "id": "8e1293ea",
   "metadata": {},
   "outputs": [
    {
     "name": "stdout",
     "output_type": "stream",
     "text": [
      "['irwin', 'Chawla', 8447664405, 35, 'Tanya', 'Sinha']\n"
     ]
    }
   ],
   "source": [
    "#Add one list to another.\n",
    "mylist2=['Sinha']\n",
    "mylist.extend(mylist2)\n",
    "print(mylist)"
   ]
  },
  {
   "cell_type": "code",
   "execution_count": 18,
   "id": "46f891ca",
   "metadata": {},
   "outputs": [
    {
     "name": "stdout",
     "output_type": "stream",
     "text": [
      "[1, 2, 3, [7, 9]]\n"
     ]
    }
   ],
   "source": [
    "#Nested list\n",
    "mylistint=[1,2,3]\n",
    "mylistint.append([7,9])\n",
    "print(mylistint)"
   ]
  },
  {
   "cell_type": "code",
   "execution_count": 19,
   "id": "378ab8fb",
   "metadata": {},
   "outputs": [],
   "source": [
    "mylistint.append(['irwin','chawla'])"
   ]
  },
  {
   "cell_type": "code",
   "execution_count": 20,
   "id": "afd6382a",
   "metadata": {},
   "outputs": [
    {
     "name": "stdout",
     "output_type": "stream",
     "text": [
      "[1, 2, 3, [7, 9], ['irwin', 'chawla']]\n"
     ]
    }
   ],
   "source": [
    "print(mylistint)"
   ]
  },
  {
   "cell_type": "code",
   "execution_count": 21,
   "id": "f9bed6e0",
   "metadata": {},
   "outputs": [
    {
     "name": "stdout",
     "output_type": "stream",
     "text": [
      "irwin\n"
     ]
    }
   ],
   "source": [
    "# Access Irwin\n",
    "\n",
    "print(mylistint[4][0])"
   ]
  },
  {
   "cell_type": "code",
   "execution_count": 23,
   "id": "92c3d81a",
   "metadata": {},
   "outputs": [
    {
     "name": "stdout",
     "output_type": "stream",
     "text": [
      "['irwin', 'Chawla', 8447664405, 35, 'Tanya', 'Sinha']\n",
      "Sinha\n",
      "['irwin', 'Chawla', 8447664405, 35, 'Tanya']\n"
     ]
    }
   ],
   "source": [
    "# pop : to remove last value from list, it returns pop value\n",
    "\n",
    "print(mylist)\n",
    "storepop=mylist.pop()\n",
    "print(storepop)\n",
    "print(mylist)"
   ]
  },
  {
   "cell_type": "code",
   "execution_count": 25,
   "id": "5cc4220e",
   "metadata": {},
   "outputs": [
    {
     "name": "stdout",
     "output_type": "stream",
     "text": [
      "['irwin', 'Chawla', 8447664405, 35, 'Tanya']\n",
      "None\n",
      "['irwin', 'Chawla', 35, 'Tanya']\n"
     ]
    }
   ],
   "source": [
    "# remove: To remove particular value from list\n",
    "print(mylist)\n",
    "storeRemovedValue=mylist.remove(8447664405)\n",
    "print(storeRemovedValue) # This Value is not saved.Returns None\n",
    "print(mylist)"
   ]
  },
  {
   "cell_type": "code",
   "execution_count": 26,
   "id": "75771af6",
   "metadata": {},
   "outputs": [
    {
     "name": "stdout",
     "output_type": "stream",
     "text": [
      "[1, 2, 3, [7, 9], ['irwin', 'chawla']]\n"
     ]
    }
   ],
   "source": [
    "# del : to delete list\n",
    "# del my_list\tDeletes the entire list object\t❌ Dont keep list object\n",
    "# del my_list[i]\tDeletes item at index i\t✅ keep list object\n",
    "print(mylistint)\n",
    "del mylistint"
   ]
  },
  {
   "cell_type": "code",
   "execution_count": 27,
   "id": "42fcacd4",
   "metadata": {},
   "outputs": [
    {
     "ename": "NameError",
     "evalue": "name 'mylistint' is not defined",
     "output_type": "error",
     "traceback": [
      "\u001b[31m---------------------------------------------------------------------------\u001b[39m",
      "\u001b[31mNameError\u001b[39m                                 Traceback (most recent call last)",
      "\u001b[36mCell\u001b[39m\u001b[36m \u001b[39m\u001b[32mIn[27]\u001b[39m\u001b[32m, line 1\u001b[39m\n\u001b[32m----> \u001b[39m\u001b[32m1\u001b[39m \u001b[38;5;28mprint\u001b[39m(\u001b[43mmylistint\u001b[49m)\n",
      "\u001b[31mNameError\u001b[39m: name 'mylistint' is not defined"
     ]
    }
   ],
   "source": [
    "print(mylistint)"
   ]
  },
  {
   "cell_type": "code",
   "execution_count": 28,
   "id": "97c62386",
   "metadata": {},
   "outputs": [
    {
     "name": "stdout",
     "output_type": "stream",
     "text": [
      "[1, 2, 3, 4, 'raja']\n"
     ]
    }
   ],
   "source": [
    "mylistnew=[1,2,3,4,'raja']\n",
    "print(mylistnew)"
   ]
  },
  {
   "cell_type": "code",
   "execution_count": 29,
   "id": "32dabbae",
   "metadata": {},
   "outputs": [
    {
     "name": "stdout",
     "output_type": "stream",
     "text": [
      "[1, 2, 3, 4, 'raja']\n",
      "[]\n"
     ]
    }
   ],
   "source": [
    "# Clear : keeps list objects, just clears elements\n",
    "print(mylistnew)\n",
    "mylistnew.clear()\n",
    "print(mylistnew)"
   ]
  },
  {
   "cell_type": "code",
   "execution_count": 33,
   "id": "19a73516",
   "metadata": {},
   "outputs": [
    {
     "name": "stdout",
     "output_type": "stream",
     "text": [
      "[7, 9, 8, 5]\n",
      "[5, 7, 8, 9]\n"
     ]
    }
   ],
   "source": [
    "# Sort the list\n",
    "mylist1=[7,9,8,5]\n",
    "print(mylist1)\n",
    "mylist1.sort()\n",
    "print(mylist1)  #Sorts the original list\n"
   ]
  },
  {
   "cell_type": "code",
   "execution_count": 34,
   "id": "2f8ff923",
   "metadata": {},
   "outputs": [
    {
     "name": "stdout",
     "output_type": "stream",
     "text": [
      "[5, 7, 8, 9]\n",
      "[9, 8, 7, 5]\n"
     ]
    }
   ],
   "source": [
    "# Sort in decending\n",
    "print(mylist1)\n",
    "mylist1.sort(reverse='True')\n",
    "print(mylist1)"
   ]
  },
  {
   "cell_type": "code",
   "execution_count": 39,
   "id": "6729e42b",
   "metadata": {},
   "outputs": [
    {
     "name": "stdout",
     "output_type": "stream",
     "text": [
      "[9, 8, 7, 5]\n"
     ]
    }
   ],
   "source": [
    "# use reverse to reverse elements of list (not decending but reverses)\n",
    "print(mylist1)\n",
    "mylist1.reverse() "
   ]
  },
  {
   "cell_type": "code",
   "execution_count": 40,
   "id": "65da7b84",
   "metadata": {},
   "outputs": [
    {
     "name": "stdout",
     "output_type": "stream",
     "text": [
      "[5, 7, 8, 9]\n"
     ]
    }
   ],
   "source": [
    "print(mylist1)"
   ]
  },
  {
   "cell_type": "code",
   "execution_count": 42,
   "id": "c2d50e5b",
   "metadata": {},
   "outputs": [
    {
     "name": "stdout",
     "output_type": "stream",
     "text": [
      "[5, 7, 8, 9]\n"
     ]
    }
   ],
   "source": [
    "# Copy list\n",
    "\n",
    "newlist=mylist1.copy()\n",
    "print(newlist)"
   ]
  },
  {
   "cell_type": "code",
   "execution_count": 43,
   "id": "025d55a5",
   "metadata": {},
   "outputs": [
    {
     "data": {
      "text/plain": [
       "3"
      ]
     },
     "execution_count": 43,
     "metadata": {},
     "output_type": "execute_result"
    }
   ],
   "source": [
    "# Count particular value in list\n",
    "\n",
    "newlist=[1,1,1,3,5,6,6,7]\n",
    "newlist.count(1)"
   ]
  },
  {
   "cell_type": "code",
   "execution_count": null,
   "id": "bb25ccff",
   "metadata": {},
   "outputs": [],
   "source": []
  }
 ],
 "metadata": {
  "kernelspec": {
   "display_name": "Python 3",
   "language": "python",
   "name": "python3"
  },
  "language_info": {
   "codemirror_mode": {
    "name": "ipython",
    "version": 3
   },
   "file_extension": ".py",
   "mimetype": "text/x-python",
   "name": "python",
   "nbconvert_exporter": "python",
   "pygments_lexer": "ipython3",
   "version": "3.12.0"
  }
 },
 "nbformat": 4,
 "nbformat_minor": 5
}
