{
 "cells": [
  {
   "cell_type": "markdown",
   "id": "24e9dbb1",
   "metadata": {},
   "source": [
    "✨ Special Methods in Python (a.k.a. Magic or Dunder Methods)\n",
    "Special methods in Python are methods that have double underscores (__) before and after their names, like __init__, __str__, etc.\n",
    "They allow you to customize behavior of your classes — such as how objects are created, represented, compared, or used with operators."
   ]
  },
  {
   "cell_type": "markdown",
   "id": "b14597fc",
   "metadata": {},
   "source": [
    "✅ Common Special Methods:\n",
    "Method\tPurpose\tExample Usage\n",
    "__init__\tConstructor (initializes the object)\tCalled on obj = MyClass()\n",
    "__str__\tString representation (human-readable)\tUsed in print(obj)\n",
    "__repr__\tOfficial representation (for debugging)\tUsed in repr(obj)\n",
    "__len__\tCalled by len(obj)\tDefine object length\n",
    "__getitem__\tAccess items using index/key (obj[i])\tActs like a list or dict\n",
    "__setitem__\tSet item value (obj[i] = value)\tCustom collection assignment\n",
    "__eq__\tEquality comparison (==)\tCompare two objects\n",
    "__lt__\tLess-than comparison (<)\tCustom sorting logic\n",
    "__add__\tOverloads + operator\tCombine objects or values\n",
    "__call__\tMake the object callable like a function\tobj()\n",
    "__del__\tDestructor\tCalled when object is deleted\n",
    "\n"
   ]
  },
  {
   "cell_type": "code",
   "execution_count": 1,
   "id": "8039a055",
   "metadata": {},
   "outputs": [
    {
     "name": "stdout",
     "output_type": "stream",
     "text": [
      "Book: Python Basics, Pages: 350\n",
      "350\n"
     ]
    }
   ],
   "source": [
    "class Book:\n",
    "    def __init__(self, title, pages):\n",
    "        self.title = title\n",
    "        self.pages = pages\n",
    "\n",
    "    def __str__(self):\n",
    "        return f\"Book: {self.title}, Pages: {self.pages}\"\n",
    "\n",
    "    def __len__(self):\n",
    "        return self.pages\n",
    "\n",
    "book = Book(\"Python Basics\", 350)\n",
    "print(book)        # Book: Python Basics, Pages: 350\n",
    "print(len(book))   # 350\n"
   ]
  },
  {
   "cell_type": "markdown",
   "id": "1ebed861",
   "metadata": {},
   "source": [
    "### Database\n",
    "\n",
    "##### CRUD - Create , Read , Update and Delete"
   ]
  },
  {
   "cell_type": "markdown",
   "id": "82c9f5ad",
   "metadata": {},
   "source": [
    "### Getter and Setter Methods"
   ]
  },
  {
   "cell_type": "code",
   "execution_count": 13,
   "id": "86d18a99",
   "metadata": {},
   "outputs": [],
   "source": [
    "class User:\n",
    "    def __init__(self,name):\n",
    "        self.__username=name\n",
    "\n",
    "    def getname(self):\n",
    "        return self.__username\n",
    "\n",
    "    def setname(self,newname):\n",
    "        self.__username=newname\n",
    "\n",
    "    def deleteusername(self):\n",
    "        del self.__username"
   ]
  },
  {
   "cell_type": "code",
   "execution_count": 9,
   "id": "549a1d3a",
   "metadata": {},
   "outputs": [],
   "source": [
    "U1=User('irwin')"
   ]
  },
  {
   "cell_type": "code",
   "execution_count": 4,
   "id": "62248bd8",
   "metadata": {},
   "outputs": [
    {
     "ename": "AttributeError",
     "evalue": "'User' object has no attribute '__username'",
     "output_type": "error",
     "traceback": [
      "\u001b[31m---------------------------------------------------------------------------\u001b[39m",
      "\u001b[31mAttributeError\u001b[39m                            Traceback (most recent call last)",
      "\u001b[36mCell\u001b[39m\u001b[36m \u001b[39m\u001b[32mIn[4]\u001b[39m\u001b[32m, line 1\u001b[39m\n\u001b[32m----> \u001b[39m\u001b[32m1\u001b[39m \u001b[43mU1\u001b[49m\u001b[43m.\u001b[49m\u001b[43m__username\u001b[49m\n",
      "\u001b[31mAttributeError\u001b[39m: 'User' object has no attribute '__username'"
     ]
    }
   ],
   "source": [
    "U1.__username"
   ]
  },
  {
   "cell_type": "code",
   "execution_count": 10,
   "id": "a9faf142",
   "metadata": {},
   "outputs": [
    {
     "data": {
      "text/plain": [
       "'irwin'"
      ]
     },
     "execution_count": 10,
     "metadata": {},
     "output_type": "execute_result"
    }
   ],
   "source": [
    "U1.getname()"
   ]
  },
  {
   "cell_type": "code",
   "execution_count": 11,
   "id": "9cfeacc0",
   "metadata": {},
   "outputs": [],
   "source": [
    "U1.setname('Irwin Chawla')"
   ]
  },
  {
   "cell_type": "code",
   "execution_count": 12,
   "id": "602f7767",
   "metadata": {},
   "outputs": [
    {
     "data": {
      "text/plain": [
       "'Irwin Chawla'"
      ]
     },
     "execution_count": 12,
     "metadata": {},
     "output_type": "execute_result"
    }
   ],
   "source": [
    "U1.getname()"
   ]
  },
  {
   "cell_type": "markdown",
   "id": "7ed40411",
   "metadata": {},
   "source": [
    "### Property Decorators"
   ]
  },
  {
   "cell_type": "markdown",
   "id": "7aaa0b11",
   "metadata": {},
   "source": [
    "The @property decorator in Python is used to define a method as a read-only property, allowing you to access it like an attribute while keeping control over its logic."
   ]
  },
  {
   "cell_type": "markdown",
   "id": "be52893a",
   "metadata": {},
   "source": [
    "✅ Why Use @property?\n",
    "To protect internal variables.\n",
    "\n",
    "To use getter, setter, and deleter functionality cleanly.\n",
    "\n",
    "To write attribute-style access with method-level logic."
   ]
  },
  {
   "cell_type": "code",
   "execution_count": 15,
   "id": "959d57da",
   "metadata": {},
   "outputs": [
    {
     "name": "stdout",
     "output_type": "stream",
     "text": [
      "78.5\n"
     ]
    }
   ],
   "source": [
    "class Circle:\n",
    "    def __init__(self, radius):\n",
    "        self._radius = radius  # use _ to indicate \"protected\"\n",
    "\n",
    "    @property\n",
    "    def area(self):  # acts like a read-only attribute\n",
    "        return 3.14 * self._radius ** 2\n",
    "\n",
    "c = Circle(5)\n",
    "print(c.area)  # Output: 78.5\n",
    "\n",
    "## Note: c.area() would raise an error — it's accessed like an attribute due to @property.\n"
   ]
  },
  {
   "cell_type": "code",
   "execution_count": 16,
   "id": "bb0d9930",
   "metadata": {},
   "outputs": [
    {
     "name": "stdout",
     "output_type": "stream",
     "text": [
      "Alice\n",
      "Bob\n"
     ]
    }
   ],
   "source": [
    "class Person:\n",
    "    def __init__(self, name):\n",
    "        self._name = name\n",
    "\n",
    "    @property\n",
    "    def name(self):  # getter\n",
    "        return self._name\n",
    "\n",
    "    @name.setter\n",
    "    def name(self, value):  # setter\n",
    "        if not value:\n",
    "            raise ValueError(\"Name cannot be empty\")\n",
    "        self._name = value\n",
    "\n",
    "p = Person(\"Alice\")\n",
    "print(p.name)      # Alice\n",
    "p.name = \"Bob\"     # Setter called\n",
    "print(p.name)      # Bob\n"
   ]
  }
 ],
 "metadata": {
  "kernelspec": {
   "display_name": "Python 3",
   "language": "python",
   "name": "python3"
  },
  "language_info": {
   "codemirror_mode": {
    "name": "ipython",
    "version": 3
   },
   "file_extension": ".py",
   "mimetype": "text/x-python",
   "name": "python",
   "nbconvert_exporter": "python",
   "pygments_lexer": "ipython3",
   "version": "3.12.0"
  }
 },
 "nbformat": 4,
 "nbformat_minor": 5
}
