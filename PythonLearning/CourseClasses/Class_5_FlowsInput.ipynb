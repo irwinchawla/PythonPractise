{
 "cells": [
  {
   "cell_type": "markdown",
   "id": "b87e120d",
   "metadata": {},
   "source": [
    "#### Assignment Operators"
   ]
  },
  {
   "cell_type": "code",
   "execution_count": 6,
   "id": "3bd11f59",
   "metadata": {},
   "outputs": [
    {
     "name": "stdout",
     "output_type": "stream",
     "text": [
      "5\n",
      "3\n",
      "24\n",
      "12.0\n"
     ]
    }
   ],
   "source": [
    "# +=\n",
    "# -=\n",
    "# *=\n",
    "# /=\n",
    "\n",
    "a=4\n",
    "a+=1\n",
    "print(a)\n",
    "a-=2\n",
    "print(a)\n",
    "a*=8\n",
    "print(a)\n",
    "a/=2\n",
    "print(a)\n"
   ]
  },
  {
   "cell_type": "code",
   "execution_count": 7,
   "id": "2f8ae63e",
   "metadata": {},
   "outputs": [
    {
     "name": "stdout",
     "output_type": "stream",
     "text": [
      "False\n"
     ]
    }
   ],
   "source": [
    "# Not equal to\n",
    "a=5\n",
    "b=5\n",
    "print(a!=b)"
   ]
  },
  {
   "cell_type": "code",
   "execution_count": 12,
   "id": "9a6a0ef5",
   "metadata": {},
   "outputs": [
    {
     "name": "stdout",
     "output_type": "stream",
     "text": [
      "We are Multiplying 35\n"
     ]
    }
   ],
   "source": [
    "#if only 1 , elif (n number), else only 1\n",
    "\n",
    "OperationName=\"Multiply\"\n",
    "a=5\n",
    "b=7\n",
    "\n",
    "if (OperationName==\"Divide\"):\n",
    "    print(\"We are Dividing\",a/b)\n",
    "elif (OperationName==\"Multiply\"):\n",
    "    print(\"We are Multiplying\",a*b)\n",
    "elif (OperationName==\"Subtract\"):\n",
    "    print(\"We are Subtracting\",a-b)\n",
    "else :\n",
    "    print(\"We are Adding\",a+b)\n",
    "\n"
   ]
  },
  {
   "cell_type": "code",
   "execution_count": 15,
   "id": "0f3af3b8",
   "metadata": {},
   "outputs": [
    {
     "name": "stdout",
     "output_type": "stream",
     "text": [
      "45\n",
      "<class 'str'>\n",
      "89\n",
      "<class 'str'>\n",
      "Sum of a and b : 4589\n"
     ]
    }
   ],
   "source": [
    "a=input(\"Enter value for a:\")\n",
    "print(a)\n",
    "print(type(a))\n",
    "b=input(\"Enter value for b:\")\n",
    "print(b)\n",
    "print(type(b))\n",
    "print(\"Sum of a and b :\",a+b) # Concatenating"
   ]
  },
  {
   "cell_type": "code",
   "execution_count": 16,
   "id": "9734b128",
   "metadata": {},
   "outputs": [
    {
     "name": "stdout",
     "output_type": "stream",
     "text": [
      "78\n",
      "<class 'int'>\n",
      "90\n",
      "<class 'int'>\n",
      "Sum of a and b : 168\n"
     ]
    }
   ],
   "source": [
    "a=int(input(\"Enter value for a:\"))\n",
    "print(a)\n",
    "print(type(a))\n",
    "b=int(input(\"Enter value for b:\"))\n",
    "print(b)\n",
    "print(type(b))\n",
    "print(\"Sum of a and b :\",a+b) # Adding"
   ]
  },
  {
   "cell_type": "code",
   "execution_count": null,
   "id": "89032be8",
   "metadata": {},
   "outputs": [],
   "source": []
  }
 ],
 "metadata": {
  "kernelspec": {
   "display_name": "Python 3",
   "language": "python",
   "name": "python3"
  },
  "language_info": {
   "codemirror_mode": {
    "name": "ipython",
    "version": 3
   },
   "file_extension": ".py",
   "mimetype": "text/x-python",
   "name": "python",
   "nbconvert_exporter": "python",
   "pygments_lexer": "ipython3",
   "version": "3.12.0"
  }
 },
 "nbformat": 4,
 "nbformat_minor": 5
}
