{
 "cells": [
  {
   "cell_type": "markdown",
   "id": "5ddcb9eb",
   "metadata": {},
   "source": [
    "### Time Module & F string"
   ]
  },
  {
   "cell_type": "code",
   "execution_count": 1,
   "id": "7fa33c28",
   "metadata": {},
   "outputs": [],
   "source": [
    "import time\n",
    "\n",
    "startime=time.time()\n"
   ]
  },
  {
   "cell_type": "code",
   "execution_count": 4,
   "id": "0cbc865d",
   "metadata": {},
   "outputs": [],
   "source": [
    "endtime=time.time()"
   ]
  },
  {
   "cell_type": "code",
   "execution_count": 5,
   "id": "fa6528f4",
   "metadata": {},
   "outputs": [],
   "source": [
    "timediffinSeconds=endtime-startime"
   ]
  },
  {
   "cell_type": "code",
   "execution_count": 6,
   "id": "d0443355",
   "metadata": {},
   "outputs": [
    {
     "name": "stdout",
     "output_type": "stream",
     "text": [
      "45.1411030292511\n"
     ]
    }
   ],
   "source": [
    "print(timediffinSeconds)"
   ]
  },
  {
   "cell_type": "markdown",
   "id": "b3fd4db9",
   "metadata": {},
   "source": [
    "### F string for decimal point {name:.2f}"
   ]
  },
  {
   "cell_type": "code",
   "execution_count": 8,
   "id": "1aaaab9f",
   "metadata": {},
   "outputs": [],
   "source": [
    "value=123.867568678"
   ]
  },
  {
   "cell_type": "code",
   "execution_count": null,
   "id": "031abea1",
   "metadata": {},
   "outputs": [
    {
     "name": "stdout",
     "output_type": "stream",
     "text": [
      "This example of reducting decimal precission : 123.87\n"
     ]
    }
   ],
   "source": [
    "print(f'This example of reducting decimal precission : {value:.2f}') # for 2 decimal"
   ]
  },
  {
   "cell_type": "code",
   "execution_count": 10,
   "id": "305352aa",
   "metadata": {},
   "outputs": [
    {
     "name": "stdout",
     "output_type": "stream",
     "text": [
      "This example of reducting decimal precission : 123.8676\n"
     ]
    }
   ],
   "source": [
    "print(f'This example of reducting decimal precission : {value:.4f}') # for 4 decimal"
   ]
  },
  {
   "cell_type": "markdown",
   "id": "7e31fbfd",
   "metadata": {},
   "source": [
    "### Decorators"
   ]
  },
  {
   "cell_type": "markdown",
   "id": "90c78e0d",
   "metadata": {},
   "source": [
    "###### Takes another function and returns new function output accordingly"
   ]
  },
  {
   "cell_type": "code",
   "execution_count": 20,
   "id": "5babeaa4",
   "metadata": {},
   "outputs": [],
   "source": [
    "def runtime(funcname):\n",
    "    def wrapper():\n",
    "        s_time=time.time()\n",
    "        funcname()\n",
    "        e_time=time.time()\n",
    "        time_diff=e_time-s_time\n",
    "        print(f'Time took {time_diff} seconds')\n",
    "    return wrapper"
   ]
  },
  {
   "cell_type": "code",
   "execution_count": 21,
   "id": "1040d8a1",
   "metadata": {},
   "outputs": [],
   "source": [
    "def rangefunc():\n",
    "    for i in range(0,11):\n",
    "        time.sleep(2)\n",
    "        print(f'Value of i is {i}')\n",
    "        "
   ]
  },
  {
   "cell_type": "code",
   "execution_count": 24,
   "id": "84b751ae",
   "metadata": {},
   "outputs": [],
   "source": [
    "a=runtime(rangefunc)"
   ]
  },
  {
   "cell_type": "code",
   "execution_count": 26,
   "id": "df42c18a",
   "metadata": {},
   "outputs": [
    {
     "name": "stdout",
     "output_type": "stream",
     "text": [
      "Value of i is 0\n",
      "Value of i is 1\n",
      "Value of i is 2\n",
      "Value of i is 3\n",
      "Value of i is 4\n",
      "Value of i is 5\n",
      "Value of i is 6\n",
      "Value of i is 7\n",
      "Value of i is 8\n",
      "Value of i is 9\n",
      "Value of i is 10\n",
      "Time took 22.02557897567749 seconds\n"
     ]
    }
   ],
   "source": [
    "a()"
   ]
  },
  {
   "cell_type": "markdown",
   "id": "ba2ec738",
   "metadata": {},
   "source": [
    "### Python Sugar"
   ]
  },
  {
   "cell_type": "code",
   "execution_count": 27,
   "id": "fe3260b8",
   "metadata": {},
   "outputs": [
    {
     "name": "stdout",
     "output_type": "stream",
     "text": [
      "Value of i is 0\n",
      "Value of i is 1\n",
      "Value of i is 2\n",
      "Value of i is 3\n",
      "Value of i is 4\n",
      "Value of i is 5\n",
      "Value of i is 6\n",
      "Value of i is 7\n",
      "Value of i is 8\n",
      "Value of i is 9\n",
      "Value of i is 10\n",
      "Time took 22.01139211654663 seconds\n"
     ]
    }
   ],
   "source": [
    "# Another way to call using @decoratername\n",
    "\n",
    "def runtime(funcname):\n",
    "    def wrapper():\n",
    "        s_time=time.time()\n",
    "        funcname()\n",
    "        e_time=time.time()\n",
    "        time_diff=e_time-s_time\n",
    "        print(f'Time took {time_diff} seconds')\n",
    "    return wrapper\n",
    "\n",
    "\n",
    "@runtime\n",
    "def rangefunc():\n",
    "    for i in range(0,11):\n",
    "        time.sleep(2)\n",
    "        print(f'Value of i is {i}')\n",
    "\n",
    "rangefunc()\n"
   ]
  },
  {
   "cell_type": "code",
   "execution_count": 28,
   "id": "791ece98",
   "metadata": {},
   "outputs": [],
   "source": [
    "class A:\n",
    "    def print_hello(self):\n",
    "        print('hello Irwin')\n",
    "\n",
    "\n",
    "def show_hello_irwin(abc):\n",
    "    abc.print_hello()\n"
   ]
  },
  {
   "cell_type": "code",
   "execution_count": 29,
   "id": "82d5b87a",
   "metadata": {},
   "outputs": [],
   "source": [
    "objA=A()"
   ]
  },
  {
   "cell_type": "code",
   "execution_count": 30,
   "id": "5fb1c64b",
   "metadata": {},
   "outputs": [
    {
     "name": "stdout",
     "output_type": "stream",
     "text": [
      "hello Irwin\n"
     ]
    }
   ],
   "source": [
    "show_hello_irwin(objA)"
   ]
  },
  {
   "cell_type": "markdown",
   "id": "8f02c605",
   "metadata": {},
   "source": [
    "### Another example in which we need to pass arguments as well for the function not for decorator but values needs to be passed to wrapper and function call"
   ]
  },
  {
   "cell_type": "code",
   "execution_count": 38,
   "id": "fafecf52",
   "metadata": {},
   "outputs": [],
   "source": [
    "def runtime(funcname):\n",
    "    def wrapper(*args):\n",
    "        s_time=time.time()\n",
    "        funcname(*args)\n",
    "        e_time=time.time()\n",
    "        time_diff=e_time-s_time\n",
    "        print(f'Time took {time_diff} seconds')\n",
    "    return wrapper"
   ]
  },
  {
   "cell_type": "code",
   "execution_count": 43,
   "id": "77ad9328",
   "metadata": {},
   "outputs": [],
   "source": [
    "@runtime\n",
    "def addfunc(a,b,c):\n",
    "    d=a+b+c\n",
    "    time.sleep(2)\n",
    "    print(d)"
   ]
  },
  {
   "cell_type": "code",
   "execution_count": 44,
   "id": "b77063c6",
   "metadata": {},
   "outputs": [
    {
     "name": "stdout",
     "output_type": "stream",
     "text": [
      "9\n",
      "Time took 2.0006890296936035 seconds\n"
     ]
    }
   ],
   "source": [
    "addfunc(2,3,4)"
   ]
  },
  {
   "cell_type": "code",
   "execution_count": 45,
   "id": "06fa3298",
   "metadata": {},
   "outputs": [],
   "source": [
    "# if we want to return the value we have to store that in variable and then return that in wrapper function\n",
    "def runtime(funcname):\n",
    "    def wrapper(*args):\n",
    "        s_time=time.time()\n",
    "        result=funcname(*args)\n",
    "        e_time=time.time()\n",
    "        time_diff=e_time-s_time\n",
    "        print(f'Time took {time_diff} seconds')\n",
    "        return result\n",
    "    return wrapper"
   ]
  },
  {
   "cell_type": "code",
   "execution_count": 46,
   "id": "a85ac227",
   "metadata": {},
   "outputs": [],
   "source": [
    "@runtime\n",
    "def addfunc(a,b,c):\n",
    "    d=a+b+c\n",
    "    time.sleep(2)\n",
    "    return d"
   ]
  },
  {
   "cell_type": "code",
   "execution_count": 47,
   "id": "b6274d5d",
   "metadata": {},
   "outputs": [
    {
     "name": "stdout",
     "output_type": "stream",
     "text": [
      "Time took 2.0004422664642334 seconds\n"
     ]
    },
    {
     "data": {
      "text/plain": [
       "9"
      ]
     },
     "execution_count": 47,
     "metadata": {},
     "output_type": "execute_result"
    }
   ],
   "source": [
    "addfunc(2,3,4)"
   ]
  },
  {
   "cell_type": "markdown",
   "id": "32ff580e",
   "metadata": {},
   "source": [
    "### Similarly we can do for *kwargs"
   ]
  },
  {
   "cell_type": "code",
   "execution_count": 50,
   "id": "48c3164d",
   "metadata": {},
   "outputs": [],
   "source": [
    "def runtime(funcname):\n",
    "    def wrapper(*args,**kwargs):\n",
    "        s_time=time.time()\n",
    "        result=funcname(*args,**kwargs)\n",
    "        e_time=time.time()\n",
    "        time_diff=e_time-s_time\n",
    "        print(f'Time took {time_diff} seconds')\n",
    "        return result\n",
    "    return wrapper"
   ]
  },
  {
   "cell_type": "code",
   "execution_count": 53,
   "id": "7c0e9d54",
   "metadata": {},
   "outputs": [],
   "source": [
    "@runtime\n",
    "def addfunc(a,b,c,f=100):\n",
    "    d=a+b+c+f\n",
    "    time.sleep(2)\n",
    "    return d"
   ]
  },
  {
   "cell_type": "code",
   "execution_count": 54,
   "id": "9f00b644",
   "metadata": {},
   "outputs": [
    {
     "name": "stdout",
     "output_type": "stream",
     "text": [
      "Time took 2.0007717609405518 seconds\n"
     ]
    },
    {
     "data": {
      "text/plain": [
       "109"
      ]
     },
     "execution_count": 54,
     "metadata": {},
     "output_type": "execute_result"
    }
   ],
   "source": [
    "addfunc(2,3,4)"
   ]
  },
  {
   "cell_type": "code",
   "execution_count": null,
   "id": "97bbea00",
   "metadata": {},
   "outputs": [],
   "source": [
    "# IF we want to use multiple decorators we can write like this\n",
    "#@decorator1\n",
    "#@decorator2\n",
    "#def funcname"
   ]
  },
  {
   "cell_type": "markdown",
   "id": "8949976a",
   "metadata": {},
   "source": [
    "#### Class Variables and Method : It is bound to class not object.i.e, we dont need to create object to access that method."
   ]
  },
  {
   "cell_type": "code",
   "execution_count": 55,
   "id": "ec4b38e7",
   "metadata": {},
   "outputs": [],
   "source": [
    "class car:\n",
    "    color='Red'  #Class variable, can be accessed directly\n",
    "\n",
    "    def __init__(self):\n",
    "        self.color1='Green'"
   ]
  },
  {
   "cell_type": "code",
   "execution_count": null,
   "id": "f317b852",
   "metadata": {},
   "outputs": [
    {
     "data": {
      "text/plain": [
       "'Red'"
      ]
     },
     "execution_count": 56,
     "metadata": {},
     "output_type": "execute_result"
    }
   ],
   "source": [
    "car.color   #calling class variable"
   ]
  },
  {
   "cell_type": "code",
   "execution_count": null,
   "id": "c8195942",
   "metadata": {},
   "outputs": [
    {
     "ename": "AttributeError",
     "evalue": "type object 'car' has no attribute 'color1'",
     "output_type": "error",
     "traceback": [
      "\u001b[31m---------------------------------------------------------------------------\u001b[39m",
      "\u001b[31mAttributeError\u001b[39m                            Traceback (most recent call last)",
      "\u001b[36mCell\u001b[39m\u001b[36m \u001b[39m\u001b[32mIn[57]\u001b[39m\u001b[32m, line 1\u001b[39m\n\u001b[32m----> \u001b[39m\u001b[32m1\u001b[39m \u001b[43mcar\u001b[49m\u001b[43m.\u001b[49m\u001b[43mcolor1\u001b[49m\n",
      "\u001b[31mAttributeError\u001b[39m: type object 'car' has no attribute 'color1'"
     ]
    }
   ],
   "source": [
    "car.color1 # cant be accessed directly, these are object or instance bound variables"
   ]
  },
  {
   "cell_type": "code",
   "execution_count": 58,
   "id": "2baca595",
   "metadata": {},
   "outputs": [],
   "source": [
    "c=car() #object created"
   ]
  },
  {
   "cell_type": "code",
   "execution_count": 59,
   "id": "9e791456",
   "metadata": {},
   "outputs": [
    {
     "data": {
      "text/plain": [
       "'Green'"
      ]
     },
     "execution_count": 59,
     "metadata": {},
     "output_type": "execute_result"
    }
   ],
   "source": [
    "c.color1"
   ]
  },
  {
   "cell_type": "code",
   "execution_count": null,
   "id": "ef594dd4",
   "metadata": {},
   "outputs": [
    {
     "data": {
      "text/plain": [
       "'Red'"
      ]
     },
     "execution_count": 60,
     "metadata": {},
     "output_type": "execute_result"
    }
   ],
   "source": [
    "c.color "
   ]
  },
  {
   "cell_type": "markdown",
   "id": "70690b45",
   "metadata": {},
   "source": [
    "🧩 What is a Class Method?\n",
    "A class method is a method that is bound to the class and not the instance. It can access and modify class-level data (shared across all instances).\n",
    "It's defined using the @classmethod decorator and takes cls (class) as the first argument instead of self."
   ]
  },
  {
   "cell_type": "code",
   "execution_count": 61,
   "id": "6ab0c99e",
   "metadata": {},
   "outputs": [
    {
     "name": "stdout",
     "output_type": "stream",
     "text": [
      "TechCorp\n",
      "InnoTech\n"
     ]
    }
   ],
   "source": [
    "class Employee:\n",
    "    company = \"TechCorp\"  # class variable shared by all\n",
    "\n",
    "    def __init__(self, name):\n",
    "        self.name = name\n",
    "\n",
    "    @classmethod\n",
    "    def change_company(cls, new_name):\n",
    "        cls.company = new_name\n",
    "\n",
    "# Usage\n",
    "print(Employee.company)  # Output: TechCorp\n",
    "Employee.change_company(\"InnoTech\")\n",
    "print(Employee.company)  # Output: InnoTech\n"
   ]
  },
  {
   "cell_type": "markdown",
   "id": "69b5ab88",
   "metadata": {},
   "source": [
    "A static method in Python is a method that belongs to a class but does not access class (cls) or instance (self) data. It behaves like a regular function but is included in a class for logical grouping.\n",
    "\n",
    "It is defined using the @staticmethod decorator"
   ]
  },
  {
   "cell_type": "code",
   "execution_count": 62,
   "id": "58f221ba",
   "metadata": {},
   "outputs": [
    {
     "name": "stdout",
     "output_type": "stream",
     "text": [
      "8\n"
     ]
    }
   ],
   "source": [
    "class MathUtils:\n",
    "    \n",
    "    @staticmethod\n",
    "    def add(a, b):\n",
    "        return a + b\n",
    "\n",
    "# Usage\n",
    "print(MathUtils.add(5, 3))  # Output: 8\n"
   ]
  }
 ],
 "metadata": {
  "kernelspec": {
   "display_name": "Python 3",
   "language": "python",
   "name": "python3"
  },
  "language_info": {
   "codemirror_mode": {
    "name": "ipython",
    "version": 3
   },
   "file_extension": ".py",
   "mimetype": "text/x-python",
   "name": "python",
   "nbconvert_exporter": "python",
   "pygments_lexer": "ipython3",
   "version": "3.12.0"
  }
 },
 "nbformat": 4,
 "nbformat_minor": 5
}
