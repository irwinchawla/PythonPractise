{
 "cells": [
  {
   "cell_type": "code",
   "execution_count": 1,
   "id": "e8699f97",
   "metadata": {},
   "outputs": [
    {
     "name": "stdout",
     "output_type": "stream",
     "text": [
      "{<built-in function id>: {}}\n"
     ]
    }
   ],
   "source": [
    "mydict={}\n",
    "mydict[id]={}\n",
    "print(mydict)"
   ]
  },
  {
   "cell_type": "code",
   "execution_count": 3,
   "id": "9fbae9ec",
   "metadata": {},
   "outputs": [],
   "source": [
    "id=1\n",
    "mydict[id]={\n",
    "'fname':'Irwin',\n",
    "'lname':'Chawla'\n",
    "\n",
    "}"
   ]
  },
  {
   "cell_type": "code",
   "execution_count": 6,
   "id": "ffc1c603",
   "metadata": {},
   "outputs": [
    {
     "name": "stdout",
     "output_type": "stream",
     "text": [
      "Irwin\n"
     ]
    }
   ],
   "source": [
    "print(mydict[1]['fname'])"
   ]
  },
  {
   "cell_type": "code",
   "execution_count": 7,
   "id": "dc4979e9",
   "metadata": {},
   "outputs": [
    {
     "name": "stdout",
     "output_type": "stream",
     "text": [
      "['irwin', 'chawla', 35]\n"
     ]
    }
   ],
   "source": [
    "mylist=['irwin','chawla',35]\n",
    "print(mylist)"
   ]
  },
  {
   "cell_type": "code",
   "execution_count": 8,
   "id": "7945f1c8",
   "metadata": {},
   "outputs": [
    {
     "name": "stdout",
     "output_type": "stream",
     "text": [
      "['irwin', 'chawla', 35, 'Gurugram']\n"
     ]
    }
   ],
   "source": [
    "mylist.append('Gurugram')\n",
    "print(mylist)"
   ]
  },
  {
   "cell_type": "code",
   "execution_count": 9,
   "id": "399ddd58",
   "metadata": {},
   "outputs": [
    {
     "ename": "AttributeError",
     "evalue": "'list' object has no attribute 'split'",
     "output_type": "error",
     "traceback": [
      "\u001b[31m---------------------------------------------------------------------------\u001b[39m",
      "\u001b[31mAttributeError\u001b[39m                            Traceback (most recent call last)",
      "\u001b[36mCell\u001b[39m\u001b[36m \u001b[39m\u001b[32mIn[9]\u001b[39m\u001b[32m, line 1\u001b[39m\n\u001b[32m----> \u001b[39m\u001b[32m1\u001b[39m \u001b[43mmylist\u001b[49m\u001b[43m.\u001b[49m\u001b[43msplit\u001b[49m()\n",
      "\u001b[31mAttributeError\u001b[39m: 'list' object has no attribute 'split'"
     ]
    }
   ],
   "source": [
    "mylist.split()"
   ]
  },
  {
   "cell_type": "code",
   "execution_count": 10,
   "id": "c7b283fc",
   "metadata": {},
   "outputs": [
    {
     "name": "stdout",
     "output_type": "stream",
     "text": [
      "irwin\n",
      "chawla\n",
      "35\n",
      "Gurugram\n"
     ]
    }
   ],
   "source": [
    "for i in mylist:\n",
    "    print(i)"
   ]
  },
  {
   "cell_type": "code",
   "execution_count": 11,
   "id": "1819e3f4",
   "metadata": {},
   "outputs": [
    {
     "name": "stdout",
     "output_type": "stream",
     "text": [
      "['irwin']\n",
      "['chawla']\n"
     ]
    },
    {
     "ename": "AttributeError",
     "evalue": "'int' object has no attribute 'split'",
     "output_type": "error",
     "traceback": [
      "\u001b[31m---------------------------------------------------------------------------\u001b[39m",
      "\u001b[31mAttributeError\u001b[39m                            Traceback (most recent call last)",
      "\u001b[36mCell\u001b[39m\u001b[36m \u001b[39m\u001b[32mIn[11]\u001b[39m\u001b[32m, line 2\u001b[39m\n\u001b[32m      1\u001b[39m \u001b[38;5;28;01mfor\u001b[39;00m i \u001b[38;5;129;01min\u001b[39;00m mylist:\n\u001b[32m----> \u001b[39m\u001b[32m2\u001b[39m     \u001b[38;5;28mprint\u001b[39m(\u001b[43mi\u001b[49m\u001b[43m.\u001b[49m\u001b[43msplit\u001b[49m(\u001b[33m'\u001b[39m\u001b[33m,\u001b[39m\u001b[33m'\u001b[39m))\n",
      "\u001b[31mAttributeError\u001b[39m: 'int' object has no attribute 'split'"
     ]
    }
   ],
   "source": [
    "for i in mylist:\n",
    "    print(i.split(','))"
   ]
  },
  {
   "cell_type": "code",
   "execution_count": 12,
   "id": "fb4f0c3a",
   "metadata": {},
   "outputs": [
    {
     "name": "stdout",
     "output_type": "stream",
     "text": [
      "['irwin']\n",
      "['chawla']\n"
     ]
    }
   ],
   "source": [
    "mylist=['irwin','chawla']\n",
    "for i in mylist:\n",
    "    print(i.split(','))"
   ]
  },
  {
   "cell_type": "code",
   "execution_count": 13,
   "id": "e4a5965c",
   "metadata": {},
   "outputs": [
    {
     "ename": "TypeError",
     "evalue": "'str' object does not support item assignment",
     "output_type": "error",
     "traceback": [
      "\u001b[31m---------------------------------------------------------------------------\u001b[39m",
      "\u001b[31mTypeError\u001b[39m                                 Traceback (most recent call last)",
      "\u001b[36mCell\u001b[39m\u001b[36m \u001b[39m\u001b[32mIn[13]\u001b[39m\u001b[32m, line 3\u001b[39m\n\u001b[32m      1\u001b[39m \u001b[38;5;28;01mfor\u001b[39;00m i \u001b[38;5;129;01min\u001b[39;00m mylist:\n\u001b[32m      2\u001b[39m     \u001b[38;5;28;01mif\u001b[39;00m i==\u001b[33m'\u001b[39m\u001b[33mirwin\u001b[39m\u001b[33m'\u001b[39m:\n\u001b[32m----> \u001b[39m\u001b[32m3\u001b[39m         \u001b[43mi\u001b[49m\u001b[43m[\u001b[49m\u001b[32;43m0\u001b[39;49m\u001b[43m]\u001b[49m=\u001b[33m'\u001b[39m\u001b[33mIrwin\u001b[39m\u001b[33m'\u001b[39m\n",
      "\u001b[31mTypeError\u001b[39m: 'str' object does not support item assignment"
     ]
    }
   ],
   "source": [
    "for i in mylist:\n",
    "    if i=='irwin':\n",
    "        i[0]='Irwin'\n",
    "        "
   ]
  },
  {
   "cell_type": "code",
   "execution_count": 20,
   "id": "1da260b6",
   "metadata": {},
   "outputs": [],
   "source": [
    "with open('test.txt','a+') as f:\n",
    "    fname=input('fname:')\n",
    "    lname=input('lname:')\n",
    "    f.writelines(fname+','+lname+',\\n')"
   ]
  },
  {
   "cell_type": "code",
   "execution_count": 21,
   "id": "ccb3f467",
   "metadata": {},
   "outputs": [
    {
     "name": "stdout",
     "output_type": "stream",
     "text": [
      "['tanya,chawla,\\n', 'irwin,chawla,\\n', 'Tarun,Jain,\\n', 'Yash,Sinha,\\n']\n"
     ]
    }
   ],
   "source": [
    "with open('test.txt','r') as f:\n",
    "    content=f.readlines()\n",
    "    print(content)"
   ]
  },
  {
   "cell_type": "code",
   "execution_count": 34,
   "id": "f89dddc5",
   "metadata": {},
   "outputs": [],
   "source": [
    "mylist=[]"
   ]
  },
  {
   "cell_type": "code",
   "execution_count": 39,
   "id": "b87cebaa",
   "metadata": {},
   "outputs": [
    {
     "name": "stdout",
     "output_type": "stream",
     "text": [
      "For Loop Output\n",
      "For Loop Output\n",
      "If output\n",
      "irwin,chawla,\n",
      "\n",
      "['irwin', 'chawla', '']\n",
      "For Loop Output\n",
      "For Loop Output\n",
      "[['Irwin', 'chawla', '', ['irwin', 'chawla', '']]]\n"
     ]
    }
   ],
   "source": [
    "mylist=[]\n",
    "with open('test.txt','r') as f:\n",
    "    content=f.readlines()\n",
    "    for i in content:\n",
    "        print(\"For Loop Output\")\n",
    "        if 'irwin' in i:\n",
    "            print('If output')\n",
    "            print(i)\n",
    "            print(i.strip().split(','))\n",
    "            a=i.strip().split(',')\n",
    "            a[0]='Irwin'\n",
    "            mylist.append(a)\n",
    "print(mylist)\n"
   ]
  },
  {
   "cell_type": "code",
   "execution_count": 51,
   "id": "1ef819df",
   "metadata": {},
   "outputs": [
    {
     "name": "stdout",
     "output_type": "stream",
     "text": [
      "['tarun', 'jain', 'irwin]chawla]gurugram']\n"
     ]
    }
   ],
   "source": [
    "a=['irwin','chawla','gurugram']\n",
    "b=['tarun','jain']\n",
    "b.append(']'.join(a))\n",
    "print(b)"
   ]
  },
  {
   "cell_type": "code",
   "execution_count": 50,
   "id": "eba59d27",
   "metadata": {},
   "outputs": [
    {
     "name": "stdout",
     "output_type": "stream",
     "text": [
      "['tarun', 'jain', 'irwin,chawla,Gurugram']\n"
     ]
    }
   ],
   "source": [
    "a=['irwin','chawla','Gurugram']\n",
    "b=['tarun','jain']\n",
    "b.append(','.join(a))\n",
    "print(b)"
   ]
  },
  {
   "cell_type": "code",
   "execution_count": 79,
   "id": "9f41065c",
   "metadata": {},
   "outputs": [
    {
     "name": "stdout",
     "output_type": "stream",
     "text": [
      "['IRWIN', 'chawla', '']\n",
      "['IRWIN,chawla,\\n']\n",
      "['IRWIN,chawla,\\n', 'tanya,chawla,\\n', 'himanshu,tyagi,\\n', 'Vivek,sharma,']\n"
     ]
    }
   ],
   "source": [
    "mylist=[]\n",
    "with open('test.txt','r') as f:\n",
    "    content=f.readlines() # Gives list of each row as each element\n",
    "    for i in content: #each item of list passed as string\n",
    "        if 'irwin' in i:\n",
    "            a=i.strip().split(',') #converts each element of string into list\n",
    "            a[0]='IRWIN'\n",
    "            print(a)\n",
    "            mylist.append(','.join(a)+'\\n')\n",
    "            print(mylist)\n",
    "        else:\n",
    "            mylist.append(i)\n",
    "    print(mylist)\n",
    "    with open('test2.txt','w+') as f:\n",
    "        f.writelines(mylist)"
   ]
  },
  {
   "cell_type": "code",
   "execution_count": null,
   "id": "3f9c09d6",
   "metadata": {},
   "outputs": [],
   "source": []
  }
 ],
 "metadata": {
  "kernelspec": {
   "display_name": "Python 3",
   "language": "python",
   "name": "python3"
  },
  "language_info": {
   "codemirror_mode": {
    "name": "ipython",
    "version": 3
   },
   "file_extension": ".py",
   "mimetype": "text/x-python",
   "name": "python",
   "nbconvert_exporter": "python",
   "pygments_lexer": "ipython3",
   "version": "3.12.0"
  }
 },
 "nbformat": 4,
 "nbformat_minor": 5
}
