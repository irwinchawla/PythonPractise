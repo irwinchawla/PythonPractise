{
 "cells": [
  {
   "cell_type": "markdown",
   "id": "007aaeef",
   "metadata": {},
   "source": [
    "# Basic Operatos:"
   ]
  },
  {
   "cell_type": "code",
   "execution_count": 9,
   "id": "bb4a130c",
   "metadata": {},
   "outputs": [
    {
     "name": "stdout",
     "output_type": "stream",
     "text": [
      "1.6666666666666667\n",
      "1\n"
     ]
    }
   ],
   "source": [
    "# // is the FLOOR division, rounds off to smallest integer\n",
    "a=5\n",
    "b=3\n",
    "print(a/b)\n",
    "print(a//b)"
   ]
  },
  {
   "cell_type": "code",
   "execution_count": 10,
   "id": "800d88bf",
   "metadata": {},
   "outputs": [
    {
     "name": "stdout",
     "output_type": "stream",
     "text": [
      "Irwin   \n",
      "8\n",
      "   Irwin\n",
      "8\n",
      "Irwin\n",
      "5\n"
     ]
    }
   ],
   "source": [
    "#Removes extra spaces.\n",
    "content=\"   Irwin   \"\n",
    "print(content.lstrip())\n",
    "print(len(content.lstrip()))\n",
    "print(content.rstrip())\n",
    "print(len(content.rstrip()))\n",
    "print(content.strip())\n",
    "print(len(content.strip()))\n"
   ]
  },
  {
   "cell_type": "markdown",
   "id": "bc153082",
   "metadata": {},
   "source": [
    "# Checking Markdown with points\n",
    "# - Point 1\n",
    "# - Point 2"
   ]
  },
  {
   "cell_type": "code",
   "execution_count": null,
   "id": "4487736d",
   "metadata": {},
   "outputs": [
    {
     "name": "stdout",
     "output_type": "stream",
     "text": [
      "<class 'float'> value is  2.0\n"
     ]
    }
   ],
   "source": [
    "# Always float even if its getting divided completely without any remainder\n",
    "a=4\n",
    "b=2\n",
    "print(type(a/b), \"value is \",a/b)"
   ]
  },
  {
   "cell_type": "code",
   "execution_count": 14,
   "id": "405f2f33",
   "metadata": {},
   "outputs": [
    {
     "name": "stdout",
     "output_type": "stream",
     "text": [
      "False\n"
     ]
    }
   ],
   "source": [
    "# = : Assigment Operator\n",
    "# == : Comparison Operator\n",
    "\n",
    "a=10\n",
    "b=6\n",
    "print(a==6)"
   ]
  },
  {
   "cell_type": "code",
   "execution_count": null,
   "id": "80a41c0f",
   "metadata": {},
   "outputs": [],
   "source": []
  }
 ],
 "metadata": {
  "kernelspec": {
   "display_name": "Python 3",
   "language": "python",
   "name": "python3"
  },
  "language_info": {
   "codemirror_mode": {
    "name": "ipython",
    "version": 3
   },
   "file_extension": ".py",
   "mimetype": "text/x-python",
   "name": "python",
   "nbconvert_exporter": "python",
   "pygments_lexer": "ipython3",
   "version": "3.12.0"
  }
 },
 "nbformat": 4,
 "nbformat_minor": 5
}
